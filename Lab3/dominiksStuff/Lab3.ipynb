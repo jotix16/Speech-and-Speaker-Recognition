{
 "cells": [
  {
   "cell_type": "code",
   "execution_count": 1,
   "metadata": {},
   "outputs": [
    {
     "name": "stderr",
     "output_type": "stream",
     "text": [
      "Using TensorFlow backend.\n",
      "/home/dominik/.local/lib/python3.6/site-packages/tensorflow/python/framework/dtypes.py:516: FutureWarning: Passing (type, 1) or '1type' as a synonym of type is deprecated; in a future version of numpy, it will be understood as (type, (1,)) / '(1,)type'.\n",
      "  _np_qint8 = np.dtype([(\"qint8\", np.int8, 1)])\n",
      "/home/dominik/.local/lib/python3.6/site-packages/tensorflow/python/framework/dtypes.py:517: FutureWarning: Passing (type, 1) or '1type' as a synonym of type is deprecated; in a future version of numpy, it will be understood as (type, (1,)) / '(1,)type'.\n",
      "  _np_quint8 = np.dtype([(\"quint8\", np.uint8, 1)])\n",
      "/home/dominik/.local/lib/python3.6/site-packages/tensorflow/python/framework/dtypes.py:518: FutureWarning: Passing (type, 1) or '1type' as a synonym of type is deprecated; in a future version of numpy, it will be understood as (type, (1,)) / '(1,)type'.\n",
      "  _np_qint16 = np.dtype([(\"qint16\", np.int16, 1)])\n",
      "/home/dominik/.local/lib/python3.6/site-packages/tensorflow/python/framework/dtypes.py:519: FutureWarning: Passing (type, 1) or '1type' as a synonym of type is deprecated; in a future version of numpy, it will be understood as (type, (1,)) / '(1,)type'.\n",
      "  _np_quint16 = np.dtype([(\"quint16\", np.uint16, 1)])\n",
      "/home/dominik/.local/lib/python3.6/site-packages/tensorflow/python/framework/dtypes.py:520: FutureWarning: Passing (type, 1) or '1type' as a synonym of type is deprecated; in a future version of numpy, it will be understood as (type, (1,)) / '(1,)type'.\n",
      "  _np_qint32 = np.dtype([(\"qint32\", np.int32, 1)])\n",
      "/home/dominik/.local/lib/python3.6/site-packages/tensorflow/python/framework/dtypes.py:525: FutureWarning: Passing (type, 1) or '1type' as a synonym of type is deprecated; in a future version of numpy, it will be understood as (type, (1,)) / '(1,)type'.\n",
      "  np_resource = np.dtype([(\"resource\", np.ubyte, 1)])\n",
      "/home/dominik/.local/lib/python3.6/site-packages/tensorboard/compat/tensorflow_stub/dtypes.py:541: FutureWarning: Passing (type, 1) or '1type' as a synonym of type is deprecated; in a future version of numpy, it will be understood as (type, (1,)) / '(1,)type'.\n",
      "  _np_qint8 = np.dtype([(\"qint8\", np.int8, 1)])\n",
      "/home/dominik/.local/lib/python3.6/site-packages/tensorboard/compat/tensorflow_stub/dtypes.py:542: FutureWarning: Passing (type, 1) or '1type' as a synonym of type is deprecated; in a future version of numpy, it will be understood as (type, (1,)) / '(1,)type'.\n",
      "  _np_quint8 = np.dtype([(\"quint8\", np.uint8, 1)])\n",
      "/home/dominik/.local/lib/python3.6/site-packages/tensorboard/compat/tensorflow_stub/dtypes.py:543: FutureWarning: Passing (type, 1) or '1type' as a synonym of type is deprecated; in a future version of numpy, it will be understood as (type, (1,)) / '(1,)type'.\n",
      "  _np_qint16 = np.dtype([(\"qint16\", np.int16, 1)])\n",
      "/home/dominik/.local/lib/python3.6/site-packages/tensorboard/compat/tensorflow_stub/dtypes.py:544: FutureWarning: Passing (type, 1) or '1type' as a synonym of type is deprecated; in a future version of numpy, it will be understood as (type, (1,)) / '(1,)type'.\n",
      "  _np_quint16 = np.dtype([(\"quint16\", np.uint16, 1)])\n",
      "/home/dominik/.local/lib/python3.6/site-packages/tensorboard/compat/tensorflow_stub/dtypes.py:545: FutureWarning: Passing (type, 1) or '1type' as a synonym of type is deprecated; in a future version of numpy, it will be understood as (type, (1,)) / '(1,)type'.\n",
      "  _np_qint32 = np.dtype([(\"qint32\", np.int32, 1)])\n",
      "/home/dominik/.local/lib/python3.6/site-packages/tensorboard/compat/tensorflow_stub/dtypes.py:550: FutureWarning: Passing (type, 1) or '1type' as a synonym of type is deprecated; in a future version of numpy, it will be understood as (type, (1,)) / '(1,)type'.\n",
      "  np_resource = np.dtype([(\"resource\", np.ubyte, 1)])\n"
     ]
    }
   ],
   "source": [
    "%load_ext autoreload\n",
    "%autoreload 2\n",
    "\n",
    "import time\n",
    "import sys\n",
    "import importlib\n",
    "import editdistance\n",
    "import numpy as np\n",
    "from prondict import *\n",
    "from lab3_proto import *\n",
    "from lab3_tools import *\n",
    "from lab1_proto import *\n",
    "from lab1_tools import *\n",
    "from lab2_proto import *\n",
    "from lab2_tools import *\n",
    "from keras.utils import np_utils\n",
    "from keras.models import Sequential\n",
    "from keras.layers import Dense, Activation\n",
    "from sklearn.preprocessing import StandardScaler\n",
    "import pandas as pd\n",
    "import matplotlib.pyplot as plt\n",
    "import matplotlib\n",
    "matplotlib.rcParams['figure.figsize'] = (15, 4)\n",
    "np.set_printoptions(precision=3)"
   ]
  },
  {
   "cell_type": "markdown",
   "metadata": {},
   "source": [
    "# Target Class Definition"
   ]
  },
  {
   "cell_type": "code",
   "execution_count": 2,
   "metadata": {},
   "outputs": [
    {
     "name": "stdout",
     "output_type": "stream",
     "text": [
      "['ah_0', 'ah_1', 'ah_2', 'ao_0', 'ao_1', 'ao_2', 'ay_0', 'ay_1', 'ay_2', 'eh_0', 'eh_1', 'eh_2', 'ey_0', 'ey_1', 'ey_2', 'f_0', 'f_1', 'f_2', 'ih_0', 'ih_1', 'ih_2', 'iy_0', 'iy_1', 'iy_2', 'k_0', 'k_1', 'k_2', 'n_0', 'n_1', 'n_2', 'ow_0', 'ow_1', 'ow_2', 'r_0', 'r_1', 'r_2', 's_0', 's_1', 's_2', 'sil_0', 'sil_1', 'sil_2', 'sp_0', 't_0', 't_1', 't_2', 'th_0', 'th_1', 'th_2', 'uw_0', 'uw_1', 'uw_2', 'v_0', 'v_1', 'v_2', 'w_0', 'w_1', 'w_2', 'z_0', 'z_1', 'z_2']\n"
     ]
    }
   ],
   "source": [
    "#phoneHMMs = np.load('lab2_models_onespkr.npz', allow_pickle=True)['phoneHMMs'].item()\n",
    "phoneHMMs = np.load('lab2_models_all.npz', allow_pickle=True)['phoneHMMs'].item()\n",
    "phones = sorted(phoneHMMs.keys())\n",
    "nstates = {phone: phoneHMMs[phone]['means'].shape[0] for phone in phones}\n",
    "stateList = [ph + '_' + str(id) for ph in phones for id in range(nstates[ph])]\n",
    "stateList.sort()\n",
    "print(stateList)\n"
   ]
  },
  {
   "cell_type": "markdown",
   "metadata": {},
   "source": [
    "# load all the data"
   ]
  },
  {
   "cell_type": "code",
   "execution_count": 3,
   "metadata": {},
   "outputs": [
    {
     "data": {
      "text/plain": [
       "dict_keys(['filename', 'samples', 'gender', 'speaker', 'digits', 'repetition', 'lmfcc', 'wordTrans', 'phoneTrans', 'utteranceHMM', 'stateTrans', 'obsloglik', 'viterbiLoglik', 'viterbiPath', 'viterbiStateTrans'])"
      ]
     },
     "execution_count": 3,
     "metadata": {},
     "output_type": "execute_result"
    }
   ],
   "source": [
    "example = np.load('lab3_example.npz', allow_pickle=True)['example'].item()\n",
    "example.keys()"
   ]
  },
  {
   "cell_type": "markdown",
   "metadata": {},
   "source": [
    "## create the word transcription"
   ]
  },
  {
   "cell_type": "code",
   "execution_count": 6,
   "metadata": {},
   "outputs": [
    {
     "name": "stdout",
     "output_type": "stream",
     "text": [
      "True\n",
      "['sil', 'z', 'iy', 'r', 'ow', 'sp', 'f', 'ao', 'r', 'sp', 'th', 'r', 'iy', 'sp', 'sil']\n",
      "\n",
      " HMM concat\n",
      "dict_keys(['startprob', 'transmat', 'means', 'covars'])\n",
      "startprob  is allclose?: True\n",
      "transmat  is allclose?: True\n",
      "means  is allclose?: True\n",
      "covars  is allclose?: True\n",
      "\n",
      "stateTrans\n",
      "True\n",
      "['sil_0', 'sil_1', 'sil_2', 'z_0', 'z_1', 'z_2', 'iy_0', 'iy_1', 'iy_2', 'r_0', 'r_1', 'r_2', 'ow_0', 'ow_1', 'ow_2', 'sp_0', 'f_0', 'f_1', 'f_2', 'ao_0', 'ao_1', 'ao_2', 'r_0', 'r_1', 'r_2', 'sp_0', 'th_0', 'th_1', 'th_2', 'r_0', 'r_1', 'r_2', 'iy_0', 'iy_1', 'iy_2', 'sp_0', 'sil_0', 'sil_1', 'sil_2']\n",
      "\n",
      "stateList\n",
      "obsloglik allclose?  True\n"
     ]
    },
    {
     "name": "stderr",
     "output_type": "stream",
     "text": [
      "/home/dominik/.local/lib/python3.6/site-packages/ipykernel_launcher.py:21: RuntimeWarning: divide by zero encountered in log\n",
      "/home/dominik/.local/lib/python3.6/site-packages/ipykernel_launcher.py:22: RuntimeWarning: divide by zero encountered in log\n"
     ]
    },
    {
     "name": "stdout",
     "output_type": "stream",
     "text": [
      "38\n"
     ]
    },
    {
     "data": {
      "image/png": "[encoded data removed]",
      "text/plain": [
       "<Figure size 1080x288 with 1 Axes>"
      ]
     },
     "metadata": {
      "needs_background": "light"
     },
     "output_type": "display_data"
    },
    {
     "name": "stdout",
     "output_type": "stream",
     "text": [
      "viterbi loglik equal? True\n",
      "[39, 40, 40, 40, 40, 40, 40, 40, 40, 40, 40, 40, 40, 40, 40, 40, 40, 40, 40, 41, 58, 58, 58, 58, 59, 60, 60, 60, 60, 60, 60, 60, 60, 60, 60, 60, 21, 21, 21, 21, 21, 21, 21, 21, 22, 23, 33, 33, 33, 33, 33, 33, 33, 33, 33, 33, 34, 35, 30, 31, 32, 32, 32, 32, 32, 32, 32, 32, 32, 15, 16, 16, 16, 16, 16, 16, 16, 16, 16, 16, 16, 17, 3, 4, 4, 4, 4, 4, 4, 4, 4, 4, 4, 4, 4, 4, 4, 5, 5, 5, 5, 5, 5, 5, 5, 5, 5, 5, 33, 33, 33, 34, 35, 46, 46, 46, 46, 46, 46, 46, 46, 46, 46, 47, 47, 47, 48, 33, 33, 33, 33, 33, 33, 33, 33, 33, 34, 35, 21, 21, 21, 21, 21, 21, 21, 21, 21, 21, 22, 22, 23, 23, 23, 23, 23, 23, 23, 23, 39, 39, 39, 39, 39, 39, 39, 39, 39, 39, 39, 39, 39, 39, 39, 39, 39, 39, 40, 41]\n",
      "path equal to example? False\n",
      "generate path file\n"
     ]
    },
    {
     "data": {
      "text/plain": [
       "'0 0.01 sil_0\\n0.01 0.19000000000000003 sil_1\\n0.19000000000000003 0.20000000000000004 sil_2\\n0.20000000000000004 0.24000000000000007 z_0\\n0.24000000000000007 0.25000000000000006 z_1\\n0.25000000000000006 0.36000000000000015 z_2\\n0.36000000000000015 0.4400000000000002 iy_0\\n0.4400000000000002 0.45000000000000023 iy_1\\n0.45000000000000023 0.46000000000000024 iy_2\\n0.46000000000000024 0.5600000000000003 r_0\\n0.5600000000000003 0.5700000000000003 r_1\\n0.5700000000000003 0.5800000000000003 r_2\\n0.5800000000000003 0.5900000000000003 ow_0\\n0.5900000000000003 0.6000000000000003 ow_1\\n0.6000000000000003 0.6900000000000004 ow_2\\n0.6900000000000004 0.7000000000000004 f_0\\n0.7000000000000004 0.8100000000000005 f_1\\n0.8100000000000005 0.8200000000000005 f_2\\n0.8200000000000005 0.8300000000000005 ao_0\\n0.8300000000000005 0.9700000000000006 ao_1\\n0.9700000000000006 1.0800000000000007 ao_2\\n1.0800000000000007 1.1100000000000008 r_0\\n1.1100000000000008 1.1200000000000008 r_1\\n1.1200000000000008 1.1300000000000008 r_2\\n1.1300000000000008 1.2300000000000009 th_0\\n1.2300000000000009 1.260000000000001 th_1\\n1.260000000000001 1.270000000000001 th_2\\n1.270000000000001 1.360000000000001 r_0\\n1.360000000000001 1.370000000000001 r_1\\n1.370000000000001 1.380000000000001 r_2\\n1.380000000000001 1.480000000000001 iy_0\\n1.480000000000001 1.500000000000001 iy_1\\n1.500000000000001 1.5800000000000012 iy_2\\n1.5800000000000012 1.7600000000000013 sil_0\\n1.7600000000000013 1.7700000000000014 sil_1\\n1.7700000000000014 1.7800000000000014 sil_2\\n'"
      ]
     },
     "execution_count": 6,
     "metadata": {},
     "output_type": "execute_result"
    }
   ],
   "source": [
    "phoneTrans =  words2phones(example['wordTrans'], prondict)\n",
    "print(phoneTrans == example['phoneTrans'])\n",
    "print(phoneTrans)\n",
    "\n",
    "print(\"\\n HMM concat\")\n",
    "utteranceHMM = concatHMMs(phoneHMMs, phoneTrans)\n",
    "print(utteranceHMM.keys())\n",
    "for key in utteranceHMM.keys():\n",
    "    print(key,\" is allclose?:\", np.allclose(utteranceHMM[key], example['utteranceHMM'][key]))\n",
    "\n",
    "print(\"\\nstateTrans\")\n",
    "stateTrans = [phone + '_' + str(stateid) for phone in phoneTrans for stateid in range(nstates[phone])]\n",
    "print(stateTrans == example['stateTrans'])\n",
    "print(stateTrans)\n",
    "\n",
    "print(\"\\nstateList\")\n",
    "obsLogLik = log_multivariate_normal_density_diag(example['lmfcc'], utteranceHMM['means'], utteranceHMM['covars'])\n",
    "print(\"obsloglik allclose? \", np.allclose(obsLogLik, example['obsloglik']))\n",
    "\n",
    "\n",
    "alphas = forward(obsLogLik, np.log(utteranceHMM['startprob']), np.log(utteranceHMM['transmat']))\n",
    "prob, path = viterbi(obsLogLik, np.log(utteranceHMM['startprob']), np.log(utteranceHMM['transmat']))\n",
    "plt.pcolormesh(alphas.T)\n",
    "plt.plot(np.arange(0.5, path.shape[0], 1), path+0.5, 'r')\n",
    "plt.plot(np.arange(0.5, example['viterbiPath'].shape[0], 1), example['viterbiPath']+0.5, 'c')\n",
    "plt.show()\n",
    "\n",
    "print(\"viterbi loglik equal?\", prob == example['viterbiLoglik'])\n",
    "newPathText = [stateTrans[state] for state in path]\n",
    "newPath = [stateList.index(stateTrans[state]) for state in path]\n",
    "newPathtt = [stateTrans[state] for state in path]\n",
    "#print(newPathtt)\n",
    "print(newPath)\n",
    "#print(newPath)\n",
    "print(\"path equal to example?\", newPath == example['viterbiStateTrans'])\n",
    "\n",
    "print(\"generate path file\")\n",
    "frames2trans(newPathText, outfilename='z43a.lab')"
   ]
  },
  {
   "cell_type": "code",
   "execution_count": null,
   "metadata": {},
   "outputs": [],
   "source": [
    "pathTranscripedDict = {}\n",
    "for file in files:\n",
    "    phonemes = list(path2info(filename)[2])\n",
    "    paddedPhoneme = words2phones(phonemes, prondict)\n",
    "    pathTranscripedDict[path] = paddedPhoneme"
   ]
  },
  {
   "cell_type": "markdown",
   "metadata": {},
   "source": [
    "## create HMMs"
   ]
  },
  {
   "cell_type": "code",
   "execution_count": null,
   "metadata": {},
   "outputs": [],
   "source": [
    "HMMs = {}\n",
    "for path in pathTranscripedDict.keys():\n",
    "    concatHMM = concatHMMs(phoneHMMs, pathTranscripedDict[path])\n",
    "    concatHMM['stateTrans'] = stateTrans = [phone + '_' + str(stateid) for phone in phoneTrans for stateid in range(nstates[phone])]\n",
    "    \n",
    "    HMMs[pathTranscripedDict[path]] = concatHMM"
   ]
  },
  {
   "cell_type": "markdown",
   "metadata": {},
   "source": [
    "# alignment"
   ]
  },
  {
   "cell_type": "code",
   "execution_count": null,
   "metadata": {},
   "outputs": [],
   "source": [
    "for hmm_name in HMMs.keys():\n",
    "    #todo figure out how to deal with files\n",
    "    datum = hmm['features']\n",
    "    obsLogLik = log_multivariate_normal_density_diag(datum, HMMs[hmm_name]['means'], HMMs[hmm_name]['means']['covars'])\n",
    "    \n",
    "    prob, path = prob, path = viterbi(obsLogLik, np.log(HMMs[hmm_name]['startprob']), np.log(HMMs[hmm_name]['transmat']))\n",
    "    \n",
    "    #transform path to states\n",
    "    newPath = [HMMs[hmm_name]['stateTrans'][state] for state in path]\n",
    "    HMMs[hmm_name] = frames2trans(newPath, outputfilename = hmm_name + .\"lab\")\n",
    "    \n"
   ]
  },
  {
   "cell_type": "markdown",
   "metadata": {},
   "source": [
    "# create dataset"
   ]
  },
  {
   "cell_type": "markdown",
   "metadata": {},
   "source": [
    "## traindata"
   ]
  },
  {
   "cell_type": "code",
   "execution_count": null,
   "metadata": {},
   "outputs": [],
   "source": [
    "traindata = []\n",
    "for root, dirs, files in os.walk('tidigits/disc_4.1.1/tidigits/train'):\n",
    "    for file in files:\n",
    "        if file.endswith('.wav'):\n",
    "            filename = os.path.join(root, file)\n",
    "            samples, samplingrate = loadAudio(filename)\n",
    "            mspec = mspec(samples)\n",
    "            lmfcc = mfcc(samples)\n",
    "            wordTrans = list(path2info(filename)[2])\n",
    "            phoneTrans =  words2phones(wordTrans, prondict)\n",
    "            stateTrans = [phone + '_' + str(stateid) for phone in phoneTrans for stateid in range(nstates[phone])]\n",
    "            \n",
    "            \n",
    "            utteranceHMM = concatHMMs(phoneHMMs, phoneTrans)\n",
    "            obsLogLik = log_multivariate_normal_density_diag(lmfcc, utteranceHMM['means'], utteranceHMM['covars'])\n",
    "            prob, path = viterbi(obsLogLik, np.log(utteranceHMM['startprob']), np.log(utteranceHMM['transmat']))\n",
    "            \n",
    "            newPath = [stateList.index(stateTrans[state]) for state in path]\n",
    "            \n",
    "            traindata.append({'filename': filename, 'lmfcc': lmfcc, 'mspec': mspec, 'targets': newPath})\n",
    "            \n",
    "np.savez('traindata.npz', traindata=traindata)"
   ]
  },
  {
   "cell_type": "markdown",
   "metadata": {},
   "source": [
    "## testdata"
   ]
  },
  {
   "cell_type": "code",
   "execution_count": null,
   "metadata": {},
   "outputs": [],
   "source": [
    "testdata = []\n",
    "for root, dirs, files in os.walk('tidigits/disc_4.1.1/tidigits/test'):\n",
    "    for file in files:\n",
    "        if file.endswith('.wav'):\n",
    "            filename = os.path.join(root, file)\n",
    "            samples, samplingrate = loadAudio(filename)\n",
    "            mspec = mspec(samples)\n",
    "            lmfcc = mfcc(samples)\n",
    "            wordTrans = list(path2info(filename)[2])\n",
    "            phoneTrans =  words2phones(wordTrans, prondict)\n",
    "            stateTrans = [phone + '_' + str(stateid) for phone in phoneTrans for stateid in range(nstates[phone])]\n",
    "            \n",
    "            \n",
    "            utteranceHMM = concatHMMs(phoneHMMs, phoneTrans)\n",
    "            obsLogLik = log_multivariate_normal_density_diag(lmfcc, utteranceHMM['means'], utteranceHMM['covars'])\n",
    "            prob, path = viterbi(obsLogLik, np.log(utteranceHMM['startprob']), np.log(utteranceHMM['transmat']))\n",
    "            \n",
    "            newPath = [stateList.index(stateTrans[state]) for state in path]\n",
    "            \n",
    "            testdata.append({'filename': filename, 'lmfcc': lmfcc, 'mspec': mspec, 'targets': newPath})\n",
    "            \n",
    "np.savez('testdata.npz', testdata=testdata)"
   ]
  },
  {
   "cell_type": "markdown",
   "metadata": {},
   "source": [
    "# split the dataset"
   ]
  },
  {
   "cell_type": "code",
   "execution_count": null,
   "metadata": {},
   "outputs": [],
   "source": [
    "# load the dataset\n",
    "traindata = np.load(\"traindata.npz\")['traindata']\n",
    "testdata  = np.load(\"testdata.npz\")['testdata']"
   ]
  },
  {
   "cell_type": "code",
   "execution_count": null,
   "metadata": {},
   "outputs": [],
   "source": [
    "trainset = []\n",
    "valiset  = []\n",
    "ratio = 0.1\n",
    "speakerIds = [datum[\"filename\"].split(\"/\")[-2] for datum in traindata]\n",
    "\n",
    "speakerIds = random.shuffle(speakerIds, 0.2)\n",
    "\n",
    "validationIds = speakerIds[:int(len(speakerIds)*ratio)]\n",
    "    \n",
    "woman_train = 0\n",
    "men_train = 0\n",
    "\n",
    "women_vali = 0\n",
    "men_vali = 0\n",
    "for datum in traindata:\n",
    "    splitlist = datum[filename].split(\"/\")\n",
    "    if splitlist[-2] in validationIds:\n",
    "        valiset.append(datum)\n",
    "        if splitlist[-3] == \"man\":\n",
    "            men_vali +=1\n",
    "        else:\n",
    "            women_vali +=1\n",
    "    else:\n",
    "        trainset.append(datum)\n",
    "        if splitlist[-3] == \"man\":\n",
    "            men_train +=1\n",
    "        else:\n",
    "            women_train +=1\n",
    "\n",
    "print(\"len(trainset): \",len(trainset), \"men woman ration train\", men_train/women_train)\n",
    "print(\"len(valiset):  \",len(valiset), \"men woman ration vali\", men_vali/women_vali)\n",
    "np.savez('trainset.npz', trainset=trainset)\n",
    "np.savez('valiset.npz', valiset=valiset)\n"
   ]
  },
  {
   "cell_type": "code",
   "execution_count": null,
   "metadata": {},
   "outputs": [],
   "source": [
    "# loat the sets\n",
    "trainset = np.load(\"trainset.npz\")['trainset']\n",
    "valiset  = np.load(\"valiset.npz\")['valiset']\n",
    "testdata  = np.load(\"testdata.npz\")['testdata']"
   ]
  },
  {
   "cell_type": "markdown",
   "metadata": {},
   "source": [
    "# Acoustic Context"
   ]
  },
  {
   "cell_type": "code",
   "execution_count": null,
   "metadata": {},
   "outputs": [],
   "source": [
    "newFeatureSets = []\n",
    "for dset in [trainset, valiset, testdata]:\n",
    "    newFeatureSet = []\n",
    "    length = len(dset)\n",
    "    for i in range(len(dset)):\n",
    "        currentdicts = []\n",
    "        if i>=3 and i < length - 3:\n",
    "             currentdicts = dset[i-3:i+4]\n",
    "        elif i<=3:\n",
    "            first = dset[:4-i]\n",
    "            first.reverse()\n",
    "            \n",
    "            currentdicts = first+dset[1:i+4]\n",
    "        else:\n",
    "            second = dset[-(3-(length-i-1))-1:-1]\n",
    "            second.reverse()\n",
    "            \n",
    "            currentdicts = dset[(i-3):]+second\n",
    "    \n",
    "        #make one dict out of the 7 and put the lmfcc's in the middle one\n",
    "        features = []\n",
    "        for sample in currentdicts:\n",
    "            features += sample['lmfcc']\n",
    "        newSample = newFeatureSet[3].copy()\n",
    "        newSample['lmfcc'] = np.array(features).flatten()\n",
    "        newFeatureSet.append(newSample)\n",
    "        \n",
    "    newFeatureSets.append(newFeatureSet)\n",
    "\n",
    "\n",
    "        \n",
    "newTrainSet, newValiSet, newTestSet = newFeatureSets"
   ]
  },
  {
   "cell_type": "markdown",
   "metadata": {},
   "source": [
    "## mspec acousic context"
   ]
  },
  {
   "cell_type": "code",
   "execution_count": null,
   "metadata": {},
   "outputs": [],
   "source": [
    "newFeatureSets = []\n",
    "for dset in [trainset, valiset, testdata]:\n",
    "    newFeatureSet = []\n",
    "    length = len(dset)\n",
    "    for i in range(len(dset)):\n",
    "        currentdicts = []\n",
    "        if i>=3 and i < length - 3:\n",
    "             currentdicts = dset[i-3:i+4]\n",
    "        elif i<=3:\n",
    "            first = dset[:4-i]\n",
    "            first.reverse()\n",
    "            \n",
    "            currentdicts = first+dset[1:i+4]\n",
    "        else:\n",
    "            second = dset[-(3-(length-i-1))-1:-1]\n",
    "            second.reverse()\n",
    "            \n",
    "            currentdicts = dset[(i-3):]+second\n",
    "    \n",
    "        #make one dict out of the 7 and put the lmfcc's in the middle one\n",
    "        features = []\n",
    "        for sample in currentdicts:\n",
    "            features += sample['mspec']\n",
    "        newSample = newFeatureSet[3].copy()\n",
    "        newSample['mspec'] = np.array(features).flatten()\n",
    "        newFeatureSet.append(newSample)\n",
    "        \n",
    "    newFeatureSets.append(newFeatureSet)\n",
    "\n",
    "\n",
    "        \n",
    "newTrainSet, newValiSet, newTestSet = newFeatureSets"
   ]
  },
  {
   "cell_type": "markdown",
   "metadata": {},
   "source": [
    "## if skipping context run this:"
   ]
  },
  {
   "cell_type": "code",
   "execution_count": null,
   "metadata": {},
   "outputs": [],
   "source": [
    "newTrainSet, newValiSet, newTestSet = (trainset, valiset, testdata)"
   ]
  },
  {
   "cell_type": "markdown",
   "metadata": {},
   "source": [
    "# standardization"
   ]
  },
  {
   "cell_type": "code",
   "execution_count": null,
   "metadata": {},
   "outputs": [],
   "source": [
    "standardization = \"whole\" # utterance # speaker\n",
    "output_dim = len(stateList)\n",
    "\n",
    "featuresToStandarize = \"lmfcc\" # mspec\n",
    "\n",
    "\n",
    "transformedNormalized =[]\n",
    "if standardization == \"whole\":\n",
    "    for dset in [newTrainSet, newValiSet, newTestSet]:\n",
    "        dFrame = pd.DataFrame(dset)\n",
    "        if featuresToStandarize == \"lmfcc\":\n",
    "            feat = dFrame['lmfcc'].values\n",
    "        else:\n",
    "            feat = dFrame['mspec'].values\n",
    "        targets = dFrame['targets'].values\n",
    "        if len(transformedNormalized) == 0:\n",
    "            scaler = StandardScaler()\n",
    "            scaler.fit(feat)\n",
    "        featTransformed = scaler.transform(feat)\n",
    "        transformedNormalized.append((featTransformed.astype('float32'),\n",
    "                                      np_utils.to_categorical(targets, output_dim))\n",
    "        \n",
    "elif standardization == \"speaker\":\n",
    "    for dset in [newTrainSet, newValiSet, newTestSet]:\n",
    "        speakers = {}\n",
    "        for sample in dset:\n",
    "            speakerName = sample['filename'].split(\"/\")[-2]\n",
    "            if speakerName in speaker:\n",
    "                speakers[speakerName].append(sample)\n",
    "            else:\n",
    "                speakers[speakerName] = [sample]\n",
    "        \n",
    "        features = None\n",
    "        lables = None\n",
    "        for speaker in speakers.keys():\n",
    "            dFrame = pd.DataFrame(speakers[speaker])\n",
    "            \n",
    "             if featuresToStandarize == \"lmfcc\":\n",
    "                feat = dFrame['lmfcc'].values\n",
    "            else:\n",
    "                feat = dFrame['mspec'].values\n",
    "            targets = dFrame['targets'].values\n",
    "            scaler = StandardScaler()\n",
    "            scaler.fit(feat)\n",
    "            featTransformed = scaler.transform(feat)\n",
    "            if features == None:\n",
    "                features = featTransformed\n",
    "                lables = targets\n",
    "            else:\n",
    "                features.vstack(featTransformed)\n",
    "                lables.vstack(targets)\n",
    "                \n",
    "        transformedNormalized.append((features.astype('float32'), \n",
    "                                      np_utils.to_categorical(labels, output_dim))))\n",
    "\n",
    "elif standardization == \"utterance\":\n",
    "    for dset in [newTrainSet, newValiSet, newTestSet]:\n",
    "        features, labels = None, None\n",
    "        for sample in dset:\n",
    "            scaler = StandardScaler()\n",
    "            if featuresToStandarize == \"lmfcc\":\n",
    "                featSample = sample['lmfcc']\n",
    "            else:\n",
    "                featSample = sample['mspec']\n",
    "            scaler.fit(featSample)\n",
    "            featTransformed = scaler.transform(featSample)\n",
    "            if features == None:\n",
    "                features = featTransformed\n",
    "                labels = sample['targets']\n",
    "            else:\n",
    "                features.vstack(featTransformed)\n",
    "                labels.vstack(sample['targets'])\n",
    "        transformedNormalized.append((features.astype('float32'),\n",
    "                                      np_utils.to_categorical(labels, output_dim)))\n",
    "            \n",
    "            \n",
    "trainFinal, valiFinal, testFinal = transformedNormalized"
   ]
  },
  {
   "cell_type": "markdown",
   "metadata": {},
   "source": [
    "# Phoneme Recognition with Deep Neural Networks"
   ]
  },
  {
   "cell_type": "markdown",
   "metadata": {},
   "source": [
    "## Model 1"
   ]
  },
  {
   "cell_type": "code",
   "execution_count": null,
   "metadata": {},
   "outputs": [],
   "source": [
    "model1 = Sequential()\n",
    "\n",
    "\n",
    "model1.add(Dense(units=256, activation='relu', input_dim=13))\n",
    "model1.add(Dense(units=256, activation='relu'))\n",
    "model1.add(Dense(units=256, activation='relu'))\n",
    "model1.add(Dense(units=256, activation='relu'))\n",
    "model1.add(Dense(len(stateList), activation='softmax'))\n",
    "\n",
    "model.compile(loss='categorical_crossentropy', optimizer='nadam', metrics=['accuracy'])"
   ]
  },
  {
   "cell_type": "markdown",
   "metadata": {},
   "source": [
    "## Model 2"
   ]
  },
  {
   "cell_type": "code",
   "execution_count": null,
   "metadata": {},
   "outputs": [],
   "source": [
    "model1 = Sequential()\n",
    "\n",
    "\n",
    "model1.add(Dense(units=256, activation='relu', input_dim=40))\n",
    "model1.add(Dense(units=256, activation='relu'))\n",
    "model1.add(Dense(units=256, activation='relu'))\n",
    "model1.add(Dense(units=256, activation='relu'))\n",
    "model1.add(Dense(len(stateList), activation='softmax'))\n",
    "\n",
    "model.compile(loss='categorical_crossentropy', optimizer='nadam', metrics=['accuracy'])"
   ]
  },
  {
   "cell_type": "markdown",
   "metadata": {},
   "source": [
    "## Model 3"
   ]
  },
  {
   "cell_type": "code",
   "execution_count": null,
   "metadata": {},
   "outputs": [],
   "source": [
    "model3 = Sequential()\n",
    "\n",
    "\n",
    "model.add(Dense(units=256, activation='relu', input_dim=91))\n",
    "model.add(Dense(units=256, activation='relu'))\n",
    "model.add(Dense(units=256, activation='relu'))\n",
    "model.add(Dense(units=256, activation='relu'))\n",
    "model.add(Dense(len(stateList), activation='softmax'))\n",
    "\n",
    "model.compile(loss='categorical_crossentropy', optimizer='nadam', metrics=['accuracy'])\n"
   ]
  },
  {
   "cell_type": "markdown",
   "metadata": {},
   "source": [
    "### train"
   ]
  },
  {
   "cell_type": "code",
   "execution_count": null,
   "metadata": {},
   "outputs": [],
   "source": [
    "model.fit(trainFinal[0], trainFinal[1], epochs=200, batch_size=1000)"
   ]
  },
  {
   "cell_type": "markdown",
   "metadata": {},
   "source": [
    "## Model 4"
   ]
  },
  {
   "cell_type": "code",
   "execution_count": null,
   "metadata": {},
   "outputs": [],
   "source": [
    "model1 = Sequential()\n",
    "\n",
    "\n",
    "model1.add(Dense(units=256, activation='relu', input_dim=40*7))\n",
    "model1.add(Dense(units=256, activation='relu'))\n",
    "model1.add(Dense(units=256, activation='relu'))\n",
    "model1.add(Dense(units=256, activation='relu'))\n",
    "model1.add(Dense(len(stateList), activation='softmax'))\n",
    "\n",
    "model.compile(loss='categorical_crossentropy', optimizer='nadam', metrics=['accuracy'])"
   ]
  },
  {
   "cell_type": "markdown",
   "metadata": {},
   "source": [
    "## Model custom"
   ]
  },
  {
   "cell_type": "code",
   "execution_count": null,
   "metadata": {},
   "outputs": [],
   "source": []
  },
  {
   "cell_type": "markdown",
   "metadata": {},
   "source": [
    "# Test"
   ]
  },
  {
   "cell_type": "markdown",
   "metadata": {},
   "source": [
    "modelTest = # model 1-5\n",
    "samplesStart = 0\n",
    "numberOfSamples = 30\n",
    "predictions = modelTest.predict(testFinal[0][samplesStart:samplesStart+numberOfSamples], use_multiprocessing=True)\n",
    "\n",
    "plt.pcolormesh(predictions)\n",
    "plt.scatter(np.arange(0,numberOfSamples), testFinal[1][samplesStart:samplesStart+numberOfSamples])\n",
    "plt.show()"
   ]
  },
  {
   "cell_type": "markdown",
   "metadata": {},
   "source": [
    "## Detailed Evaluation"
   ]
  },
  {
   "cell_type": "code",
   "execution_count": null,
   "metadata": {},
   "outputs": [],
   "source": [
    "score, acc = modelTest.evaluate(x=testFinal[0], y=testFinal[1])\n",
    "print('Test score:', score)\n",
    "print('Test accuracy:', acc)"
   ]
  },
  {
   "cell_type": "markdown",
   "metadata": {},
   "source": [
    "## frame by frame"
   ]
  },
  {
   "cell_type": "code",
   "execution_count": null,
   "metadata": {},
   "outputs": [],
   "source": [
    "predictions = modelTest.predict(testFinal[0], use_multiprocessing=True)\n",
    "\n",
    "predictionMax = np.argmax(predictions, axis=0)\n",
    "equal = np.sum(predictionMax == testFinal)\n",
    "\n",
    "print(\"Frame by frame error is: \", equal/testFinal[0].shape[0])"
   ]
  },
  {
   "cell_type": "markdown",
   "metadata": {},
   "source": [
    "## frame by frame merged"
   ]
  },
  {
   "cell_type": "code",
   "execution_count": null,
   "metadata": {},
   "outputs": [],
   "source": [
    "predictions = modelTest.predict(testFinal[0], use_multiprocessing=True)\n",
    "\n",
    "predictionMax = np.argmax(predictions, axis=0)\n",
    "\n",
    "correct = 0\n",
    "for i in range(predictionMax.shape[0]):\n",
    "    if stateList[predictionMax[i]].split()[0] == stateList[testFinal[1][i]].split()[0]:\n",
    "        correct += 1\n",
    "print(\"Frame by frame merged error is: \", correct/testFinal[0].shape[0])"
   ]
  },
  {
   "cell_type": "markdown",
   "metadata": {},
   "source": [
    "## edit distance"
   ]
  },
  {
   "cell_type": "code",
   "execution_count": null,
   "metadata": {},
   "outputs": [],
   "source": [
    "predictions = modelTest.predict(testFinal[0], use_multiprocessing=True)\n",
    "\n",
    "predictionMax = np.argmax(predictions, axis=0)\n",
    "\n",
    "pathPredict = [stateList[predictionMax[0]]]\n",
    "for i in range(1, predictionMax.shape[0]:\n",
    "    if stateList[predictionMax[i]] != pathPredict[-1]:\n",
    "        pathPredict.append(stateList[predictionMax[i]])\n",
    "        \n",
    "pathReal = [stateList[testFinal[1][0]]]\n",
    "for i in range(1, testFinal.shape[0]):\n",
    "    if stateList[testFinal[i]] != pathReal[-1]:\n",
    "        pathReal.append(stateList[testFinal[i]])\n",
    "\n",
    "\n",
    "\n",
    "dist = editdistance.eval(pathPredict, pathReal)\n",
    "print(\"Frame by fram edit distance normalized\", dist/(len(pathReal)+len(pathPredict)))"
   ]
  },
  {
   "cell_type": "markdown",
   "metadata": {},
   "source": [
    "## edit distance classes"
   ]
  },
  {
   "cell_type": "code",
   "execution_count": null,
   "metadata": {},
   "outputs": [],
   "source": [
    "predictions = modelTest.predict(testFinal[0], use_multiprocessing=True)\n",
    "\n",
    "predictionMax = np.argmax(predictions, axis=0)\n",
    "\n",
    "pathPredict = [stateList[predictionMax[0]]]\n",
    "for i in range(1, predictionMax.shape[0]:\n",
    "    if stateList[predictionMax[i]].split(\"_\")[0] != pathPredict[-1]:\n",
    "        pathPredict.append(stateList[predictionMax[i]].split(\"/\")[0] )\n",
    "        \n",
    "pathReal = [stateList[testFinal[1][0]]]\n",
    "for i in range(1, testFinal.shape[0]):\n",
    "    if stateList[testFinal[i]].split(\"_\")[0] != pathReal[-1]:\n",
    "        pathReal.append(stateList[testFinal[i]].split(\"_\")[0])\n",
    "\n",
    "\n",
    "\n",
    "dist = editdistance.eval(pathPredict, pathReal)\n",
    "print(\"Frame by fram edit distance normalized\", dist/(len(pathReal)+len(pathPredict)))"
   ]
  }
 ],
 "metadata": {
  "kernelspec": {
   "display_name": "Python 3",
   "language": "python",
   "name": "python3"
  },
  "language_info": {
   "codemirror_mode": {
    "name": "ipython",
    "version": 3
   },
   "file_extension": ".py",
   "mimetype": "text/x-python",
   "name": "python",
   "nbconvert_exporter": "python",
   "pygments_lexer": "ipython3",
   "version": "3.6.9"
  }
 },
 "nbformat": 4,
 "nbformat_minor": 4
}
