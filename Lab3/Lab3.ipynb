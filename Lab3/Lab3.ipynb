{
 "cells": [
  {
   "cell_type": "code",
   "execution_count": 1,
   "metadata": {},
   "outputs": [
    {
     "name": "stderr",
     "output_type": "stream",
     "text": [
      "Using TensorFlow backend.\n"
     ]
    },
    {
     "name": "stdout",
     "output_type": "stream",
     "text": [
      "Populating the interactive namespace from numpy and matplotlib\n"
     ]
    }
   ],
   "source": [
    "import numpy as np\n",
    "from lab3_tools import *\n",
    "from lab3_proto import *\n",
    "from tqdm import tqdm\n",
    "import os\n",
    "import keras\n",
    "from matplotlib.pyplot import plot as tplt\n",
    "import warnings\n",
    "warnings.filterwarnings('ignore')\n",
    "\n",
    "\n",
    "\n",
    "%pylab inline\n",
    "pylab.rcParams['figure.figsize'] = (15, 4)\n",
    "\n",
    "## Import scripts from lab1\n",
    "import sys\n",
    "sys.path.insert(1, '../Lab1/')\n",
    "from lab1_proto import*\n",
    "\n",
    "## Import scripts from lab2\n",
    "import sys\n",
    "sys.path.insert(1, '../Lab2/')\n",
    "from lab2_proto import*\n",
    "from prondict import*\n",
    "\n",
    "## Auto-reloading\n",
    "%load_ext autoreload\n",
    "%autoreload 2\n"
   ]
  },
  {
   "cell_type": "code",
   "execution_count": 2,
   "metadata": {
    "scrolled": true
   },
   "outputs": [
    {
     "name": "stdout",
     "output_type": "stream",
     "text": [
      "phoneme HMM models:\n",
      "['ah', 'ao', 'ay', 'eh', 'ey', 'f', 'ih', 'iy', 'k', 'n', 'ow', 'r', 's', 'sil', 'sp', 't', 'th', 'uw', 'v', 'w', 'z']\n",
      "dict_keys(['name', 'startprob', 'transmat', 'means', 'covars'])\n",
      "\n",
      "============\n",
      "The pronancuation dictionary:\n"
     ]
    },
    {
     "data": {
      "text/plain": [
       "{'o': ['ow'],\n",
       " 'z': ['z', 'iy', 'r', 'ow'],\n",
       " '1': ['w', 'ah', 'n'],\n",
       " '2': ['t', 'uw'],\n",
       " '3': ['th', 'r', 'iy'],\n",
       " '4': ['f', 'ao', 'r'],\n",
       " '5': ['f', 'ay', 'v'],\n",
       " '6': ['s', 'ih', 'k', 's'],\n",
       " '7': ['s', 'eh', 'v', 'ah', 'n'],\n",
       " '8': ['ey', 't'],\n",
       " '9': ['n', 'ay', 'n']}"
      ]
     },
     "execution_count": 2,
     "metadata": {},
     "output_type": "execute_result"
    }
   ],
   "source": [
    "# Load parameters\n",
    "phoneHMMs_all = np.load('../Lab2/lab2_models_all.npz',allow_pickle=True)['phoneHMMs'].item()\n",
    "# phoneHMMs_one = load('../Lab2/lab2_models_onespkr.npz',allow_pickle=True)['phoneHMMs'].item()\n",
    "print(\"phoneme HMM models:\")\n",
    "phones = sorted(phoneHMMs_all.keys())\n",
    "print(list(phones))\n",
    "print(phoneHMMs_all['sp'].keys())\n",
    "\n",
    "# Pronaunciation dictionary\n",
    "print()\n",
    "print(\"============\")\n",
    "print(\"The pronancuation dictionary:\")\n",
    "prondict"
   ]
  },
  {
   "cell_type": "code",
   "execution_count": 12,
   "metadata": {},
   "outputs": [
    {
     "data": {
      "text/plain": [
       "dict_keys(['filename', 'samples', 'gender', 'speaker', 'digits', 'repetition', 'lmfcc', 'wordTrans', 'phoneTrans', 'utteranceHMM', 'stateTrans', 'obsloglik', 'viterbiLoglik', 'viterbiPath', 'viterbiStateTrans'])"
      ]
     },
     "execution_count": 12,
     "metadata": {},
     "output_type": "execute_result"
    }
   ],
   "source": [
    "# Load example data\n",
    "example = load('lab3_example.npz',allow_pickle=True)['example'].item()\n",
    "example.keys()"
   ]
  },
  {
   "cell_type": "code",
   "execution_count": 10,
   "metadata": {},
   "outputs": [],
   "source": [
    "import pickle\n",
    "\n",
    "## Load models\n",
    "phoneHMMs_all = np.load('../Lab2/lab2_models_all.npz',allow_pickle=True)['phoneHMMs'].item()\n",
    "phones = sorted(phoneHMMs_all.keys())\n",
    "\n",
    "# phone: nr of states\n",
    "nstates = {phone: phoneHMMs_all[phone]['means'].shape[0] for phone in phones}\n",
    "# list of all states(3 states for each phone)\n",
    "stateList = [ph + '_' + str(id) for ph in phones for id in range(nstates[ph])]\n",
    "\n",
    "# Saving the objects:\n",
    "#pickle.dump([nstates, stateList, phones], open('saved_files/phoneHMM_states.pkl', 'wb'))\n",
    "\n",
    "# Getting back the objects:\n",
    "# nstates, stateList, phones = pickle.load( open('saved_files/phoneHMM_states.pkl', 'rb'))"
   ]
  },
  {
   "cell_type": "code",
   "execution_count": 15,
   "metadata": {},
   "outputs": [
    {
     "name": "stdout",
     "output_type": "stream",
     "text": [
      "True\n",
      "True\n",
      "True\n"
     ]
    }
   ],
   "source": [
    "# My functions deliver the same outputs as excpected from example\n",
    "filename = '../datasets/tidigits/disc_4.1.1/tidigits/train/man/nw/z43a.wav'\n",
    "samples, samplingrate = loadAudio(filename)\n",
    "print(np.allclose(example['samples'], samples))\n",
    "lmfcc = mfcc(samples)\n",
    "print(np.allclose(example['lmfcc'], lmfcc)) #!!\n",
    "wordTrans = list(path2info(filename)[2])\n",
    "print(example['wordTrans'] == wordTrans)"
   ]
  },
  {
   "cell_type": "markdown",
   "metadata": {},
   "source": [
    "###  List of concatenated phones for word"
   ]
  },
  {
   "cell_type": "code",
   "execution_count": 20,
   "metadata": {},
   "outputs": [
    {
     "name": "stdout",
     "output_type": "stream",
     "text": [
      "True\n",
      "True\n",
      "['sil', 'z', 'iy', 'r', 'ow', 'sp', 'f', 'ao', 'r', 'sp', 'th', 'r', 'iy', 'sp', 'sil']\n"
     ]
    }
   ],
   "source": [
    "phoneTrans = words2phones(wordTrans, prondict)\n",
    "print(example['phoneTrans']== phoneTrans)\n",
    "stateTrans = [phone + '_' + str(stateid) for phone in phoneTrans for stateid in range(nstates[phone])]\n",
    "print(example['stateTrans'] == stateTrans)\n",
    "print(phoneTrans)"
   ]
  },
  {
   "cell_type": "code",
   "execution_count": 23,
   "metadata": {},
   "outputs": [
    {
     "name": "stdout",
     "output_type": "stream",
     "text": [
      "True\n",
      "True\n",
      "True\n",
      "True\n",
      "Number of states for the concatenated HMM of the example (0f3): 39\n"
     ]
    }
   ],
   "source": [
    "utteranceHMM = concatHMMs(phoneHMMs_all, phoneTrans)\n",
    "\n",
    "# Check that means, covar and startprob of concatened HMM are the same as in example\n",
    "for i in example['utteranceHMM'].keys():\n",
    "    print(np.allclose(utteranceHMM[i], example['utteranceHMM'][i]))\n",
    "    \n",
    "print(\"Number of states for the concatenated HMM of the example (0f3):\", utteranceHMM['means'].shape[0])\n"
   ]
  },
  {
   "cell_type": "markdown",
   "metadata": {},
   "source": [
    "## Viterbi"
   ]
  },
  {
   "cell_type": "code",
   "execution_count": 31,
   "metadata": {},
   "outputs": [
    {
     "name": "stdout",
     "output_type": "stream",
     "text": [
      "Correct obsloglik: True\n",
      "Correct viterbi: True\n"
     ]
    },
    {
     "data": {
      "image/png": "[encoded data removed]",
      "text/plain": [
       "<matplotlib.figure.Figure at 0x7f4ddd825080>"
      ]
     },
     "metadata": {
      "needs_background": "light"
     },
     "output_type": "display_data"
    }
   ],
   "source": [
    "obsloglik = log_multivariate_normal_density_diag(lmfcc, utteranceHMM['means'], utteranceHMM['covars'])\n",
    "viterbi_loglik, viterbi_path = viterbi(obsloglik, np.log(utteranceHMM['startprob']), np.log(utteranceHMM['transmat']), True)\n",
    "plt.plot(viterbi_path, np.arange(len(viterbi_path)))\n",
    "plt.title(\"Path overlayed on log_alpha\")\n",
    "print(\"Correct obsloglik:\",np.allclose(obsloglik, example['obsloglik']))\n",
    "print(\"Correct viterbi:\",np.allclose(viterbi_path, example['viterbiPath']))"
   ]
  },
  {
   "cell_type": "code",
   "execution_count": 39,
   "metadata": {
    "scrolled": true
   },
   "outputs": [
    {
     "name": "stdout",
     "output_type": "stream",
     "text": [
      "Correct viterbi path state trans: True\n",
      "\n",
      "Path of states: ['sil_0', 'sil_1', 'sil_1', 'sil_1', 'sil_1', 'sil_1', 'sil_1', 'sil_1', 'sil_1', 'sil_1', 'sil_1', 'sil_1', 'sil_1', 'sil_1', 'sil_1', 'sil_1', 'sil_1', 'sil_1', 'sil_1', 'sil_2', 'z_0', 'z_0', 'z_0', 'z_0', 'z_1', 'z_2', 'z_2', 'z_2', 'z_2', 'z_2', 'z_2', 'z_2', 'z_2', 'z_2', 'z_2', 'z_2', 'iy_0', 'iy_0', 'iy_0', 'iy_0', 'iy_0', 'iy_0', 'iy_0', 'iy_0', 'iy_1', 'iy_2', 'r_0', 'r_0', 'r_0', 'r_0', 'r_0', 'r_0', 'r_0', 'r_0', 'r_0', 'r_0', 'r_1', 'r_2', 'ow_0', 'ow_1', 'ow_2', 'ow_2', 'ow_2', 'ow_2', 'ow_2', 'ow_2', 'ow_2', 'ow_2', 'ow_2', 'f_0', 'f_1', 'f_1', 'f_1', 'f_1', 'f_1', 'f_1', 'f_1', 'f_1', 'f_1', 'f_1', 'f_1', 'f_2', 'ao_0', 'ao_1', 'ao_1', 'ao_1', 'ao_1', 'ao_1', 'ao_1', 'ao_1', 'ao_1', 'ao_1', 'ao_1', 'ao_1', 'ao_1', 'ao_1', 'ao_1', 'ao_2', 'ao_2', 'ao_2', 'ao_2', 'ao_2', 'ao_2', 'ao_2', 'ao_2', 'ao_2', 'ao_2', 'ao_2', 'r_0', 'r_0', 'r_0', 'r_1', 'r_2', 'th_0', 'th_0', 'th_0', 'th_0', 'th_0', 'th_0', 'th_0', 'th_0', 'th_0', 'th_0', 'th_1', 'th_1', 'th_1', 'th_2', 'r_0', 'r_0', 'r_0', 'r_0', 'r_0', 'r_0', 'r_0', 'r_0', 'r_0', 'r_1', 'r_2', 'iy_0', 'iy_0', 'iy_0', 'iy_0', 'iy_0', 'iy_0', 'iy_0', 'iy_0', 'iy_0', 'iy_0', 'iy_1', 'iy_1', 'iy_2', 'iy_2', 'iy_2', 'iy_2', 'iy_2', 'iy_2', 'iy_2', 'iy_2', 'sil_0', 'sil_0', 'sil_0', 'sil_0', 'sil_0', 'sil_0', 'sil_0', 'sil_0', 'sil_0', 'sil_0', 'sil_0', 'sil_0', 'sil_0', 'sil_0', 'sil_0', 'sil_0', 'sil_0', 'sil_0', 'sil_1', 'sil_2']\n",
      "\n",
      "Path of targets(indexes): [39, 40, 40, 40, 40, 40, 40, 40, 40, 40, 40, 40, 40, 40, 40, 40, 40, 40, 40, 41, 58, 58, 58, 58, 59, 60, 60, 60, 60, 60, 60, 60, 60, 60, 60, 60, 21, 21, 21, 21, 21, 21, 21, 21, 22, 23, 33, 33, 33, 33, 33, 33, 33, 33, 33, 33, 34, 35, 30, 31, 32, 32, 32, 32, 32, 32, 32, 32, 32, 15, 16, 16, 16, 16, 16, 16, 16, 16, 16, 16, 16, 17, 3, 4, 4, 4, 4, 4, 4, 4, 4, 4, 4, 4, 4, 4, 4, 5, 5, 5, 5, 5, 5, 5, 5, 5, 5, 5, 33, 33, 33, 34, 35, 46, 46, 46, 46, 46, 46, 46, 46, 46, 46, 47, 47, 47, 48, 33, 33, 33, 33, 33, 33, 33, 33, 33, 34, 35, 21, 21, 21, 21, 21, 21, 21, 21, 21, 21, 22, 22, 23, 23, 23, 23, 23, 23, 23, 23, 39, 39, 39, 39, 39, 39, 39, 39, 39, 39, 39, 39, 39, 39, 39, 39, 39, 39, 40, 41]\n"
     ]
    }
   ],
   "source": [
    "viterbiStateTrans = list(np.array(stateTrans)[viterbi_path,])\n",
    "print(\"Correct viterbi path state trans:\", viterbiStateTrans ==  example['viterbiStateTrans'])\n",
    "\n",
    "print(\"\\nPath of states:\",viterbiStateTrans)\n",
    "targets = [stateList.index(k) for k in list(np.array(stateTrans)[viterbi_path,])]\n",
    "print(\"\\nPath of targets(indexes):\",targets)"
   ]
  },
  {
   "cell_type": "code",
   "execution_count": 46,
   "metadata": {},
   "outputs": [],
   "source": [
    "_=frames2trans(viterbiStateTrans,outfilename='z43a.lab')# save the path states in file format that can be used in wavesurfer"
   ]
  },
  {
   "cell_type": "markdown",
   "metadata": {},
   "source": [
    "# Feature Extraction"
   ]
  },
  {
   "cell_type": "markdown",
   "metadata": {},
   "source": [
    "### Extract training and test data"
   ]
  },
  {
   "cell_type": "code",
   "execution_count": 50,
   "metadata": {},
   "outputs": [
    {
     "name": "stdout",
     "output_type": "stream",
     "text": [
      "Nr of words in training set: 8623\n",
      "Nr of words in testing set: 8700\n",
      "Nr of timesteps for train data: 1507057\n",
      "Nr of timesteps for test data: 1526682\n"
     ]
    }
   ],
   "source": [
    "!python3  Lab3_load_training_and_test_set.py"
   ]
  },
  {
   "cell_type": "markdown",
   "metadata": {},
   "source": [
    "# 4) Concatinating HMMs"
   ]
  },
  {
   "cell_type": "markdown",
   "metadata": {},
   "source": [
    "## Train-Valid Split"
   ]
  },
  {
   "cell_type": "code",
   "execution_count": 51,
   "metadata": {},
   "outputs": [
    {
     "name": "stdout",
     "output_type": "stream",
     "text": [
      "0.9000347906760988 0.0999652093239012\r\n",
      "Trainign set: Women-> 3956 , Men-> 3805\r\n",
      "Validation set: Women-> 432 , Men-> 430\r\n"
     ]
    }
   ],
   "source": [
    "!python3 Lab3_split_train_valid.py"
   ]
  },
  {
   "cell_type": "markdown",
   "metadata": {},
   "source": [
    "## Create Dynamic Features"
   ]
  },
  {
   "cell_type": "code",
   "execution_count": 52,
   "metadata": {},
   "outputs": [
    {
     "name": "stdout",
     "output_type": "stream",
     "text": [
      "Training set has 1357194 lmfcc_x samples with dimension  91 .\n",
      "Training set has 1357194 mspec_x samples with dimension  280 .\n",
      "Test set has 1526682 lmfcc_x samples with dimension  91 .\n",
      "Test set has 1526682 mspec_x samples with dimension  280 .\n",
      "Validation set has 149863 lmfcc_x samples with dimension  91 .\n",
      "Validation set has 149863 mspec_x samples with dimension  280 .\n"
     ]
    }
   ],
   "source": [
    "!python3 Lab3_create_dynamic_features.py"
   ]
  },
  {
   "cell_type": "markdown",
   "metadata": {},
   "source": [
    "## Normalizing and one-hot encoding of targets(for dynamic and nondynamic features)"
   ]
  },
  {
   "cell_type": "code",
   "execution_count": 48,
   "metadata": {
    "scrolled": true
   },
   "outputs": [],
   "source": [
    "!python3 Lab3_normalize_dynamic.py\n",
    "!python3 Lab3_normalize_non_dynamic.py"
   ]
  },
  {
   "cell_type": "markdown",
   "metadata": {},
   "source": [
    "# Phoneme Recognition with Deep Neural Networks"
   ]
  },
  {
   "cell_type": "code",
   "execution_count": 29,
   "metadata": {},
   "outputs": [],
   "source": [
    "from keras.models import Sequential\n",
    "from keras.layers.core import Dense, Activation\n",
    "from keras.models import load_model\n",
    "from sklearn.metrics import classification_report, confusion_matrix\n",
    "\n",
    "\n",
    "nstates, stateList, phones = pickle.load( open('saved_files/phoneHMM_states.pkl', 'rb'))"
   ]
  },
  {
   "cell_type": "markdown",
   "metadata": {},
   "source": [
    "## 1) Dynamic Lmfcc as features "
   ]
  },
  {
   "cell_type": "code",
   "execution_count": 30,
   "metadata": {},
   "outputs": [],
   "source": [
    "X = None; Y=None; X_val = None; Y_val = None; X_test = None; Y_test = None\n",
    "\n",
    "# Load data\n",
    "with np.load('datas/lmfcc_train_x_reg.npz', allow_pickle=True) as data:\n",
    "    X = data['lmfcc_x']\n",
    "    Y = data['targets']\n",
    "with np.load('datas/lmfcc_val_x_reg.npz', allow_pickle=True) as data:\n",
    "    X_val = data['lmfcc_x']\n",
    "    Y_val = data['targets']\n",
    "with np.load('datas/lmfcc_test_x_reg.npz', allow_pickle=True) as data:\n",
    "    X_test = data['lmfcc_x']\n",
    "    Y_test = data['targets']"
   ]
  },
  {
   "cell_type": "markdown",
   "metadata": {},
   "source": [
    "### Rmsprop"
   ]
  },
  {
   "cell_type": "code",
   "execution_count": 33,
   "metadata": {
    "scrolled": true
   },
   "outputs": [
    {
     "name": "stdout",
     "output_type": "stream",
     "text": [
      "Train on 1357194 samples, validate on 149863 samples\n",
      "Epoch 1/5\n",
      "1357194/1357194 [==============================] - 27s 20us/step - loss: 0.8361 - accuracy: 0.7280 - val_loss: 0.7576 - val_accuracy: 0.7472\n",
      "Epoch 2/5\n",
      "1357194/1357194 [==============================] - 28s 20us/step - loss: 0.6615 - accuracy: 0.7785 - val_loss: 0.6863 - val_accuracy: 0.7748\n",
      "Epoch 3/5\n",
      "1357194/1357194 [==============================] - 28s 20us/step - loss: 0.6131 - accuracy: 0.7935 - val_loss: 0.6586 - val_accuracy: 0.7863\n",
      "Epoch 4/5\n",
      "1357194/1357194 [==============================] - 28s 21us/step - loss: 0.5948 - accuracy: 0.8004 - val_loss: 0.6560 - val_accuracy: 0.7890\n",
      "Epoch 5/5\n",
      "1357194/1357194 [==============================] - 28s 20us/step - loss: 0.5885 - accuracy: 0.8029 - val_loss: 0.6601 - val_accuracy: 0.7868\n"
     ]
    }
   ],
   "source": [
    "model = Sequential()\n",
    "model.add(Dense(256, input_shape=(X.shape[1],), activation='relu') )\n",
    "model.add(Dense(256, activation='relu'))\n",
    "model.add(Dense(Y.shape[1], activation='sigmoid'))\n",
    "model.compile(optimizer='rmsprop',loss='categorical_crossentropy', metrics=['accuracy'])\n",
    "model.fit(X, Y, epochs=5, batch_size=256, validation_data = (X_val, Y_val))\n",
    "\n",
    "model.save(\"nets/lmfcc_dyn_recognizer_rmsprop.h5\")"
   ]
  },
  {
   "cell_type": "code",
   "execution_count": 34,
   "metadata": {
    "scrolled": true
   },
   "outputs": [
    {
     "name": "stdout",
     "output_type": "stream",
     "text": [
      "1526682/1526682 [==============================] - 16s 10us/step\n",
      "accuracy: 75.72%\n",
      "\n",
      "Confusion Matrix\n"
     ]
    },
    {
     "data": {
      "image/png": "[encoded data removed]",
      "text/plain": [
       "<matplotlib.figure.Figure at 0x7f9e18c46208>"
      ]
     },
     "metadata": {
      "needs_background": "light"
     },
     "output_type": "display_data"
    }
   ],
   "source": [
    "model = load_model(\"nets/lmfcc_dyn_recognizer_rmsprop.h5\")\n",
    "score = model.evaluate(X_test, Y_test, batch_size=128)\n",
    "print(\"%s: %.2f%%\" % (model.metrics_names[1], score[1]*100))\n",
    "\n",
    "Y_pred = model.predict(X_test)\n",
    "print('\\nConfusion Matrix')\n",
    "plt.matshow(confusion_matrix(Y_test.argmax(axis=1), Y_pred.argmax(axis=1)))\n",
    "plt.show()\n",
    "\n",
    "# print('Classification Report')\n",
    "# print(classification_report(Y_test.argmax(axis=1), Y_pred.argmax(axis=1), target_names=stateList))"
   ]
  },
  {
   "cell_type": "markdown",
   "metadata": {},
   "source": [
    "### Adam"
   ]
  },
  {
   "cell_type": "code",
   "execution_count": 35,
   "metadata": {
    "scrolled": true
   },
   "outputs": [
    {
     "name": "stdout",
     "output_type": "stream",
     "text": [
      "Train on 1357194 samples, validate on 149863 samples\n",
      "Epoch 1/15\n",
      "1357194/1357194 [==============================] - 28s 21us/step - loss: 0.8523 - accuracy: 0.7251 - val_loss: 0.7397 - val_accuracy: 0.7593\n",
      "Epoch 2/15\n",
      "1357194/1357194 [==============================] - 28s 21us/step - loss: 0.6818 - accuracy: 0.7731 - val_loss: 0.6951 - val_accuracy: 0.7721\n",
      "Epoch 3/15\n",
      "1357194/1357194 [==============================] - 28s 21us/step - loss: 0.6330 - accuracy: 0.7871 - val_loss: 0.6562 - val_accuracy: 0.7836\n",
      "Epoch 4/15\n",
      "1357194/1357194 [==============================] - 28s 21us/step - loss: 0.6009 - accuracy: 0.7959 - val_loss: 0.6569 - val_accuracy: 0.7835\n",
      "Epoch 5/15\n",
      "1357194/1357194 [==============================] - 28s 21us/step - loss: 0.5727 - accuracy: 0.8052 - val_loss: 0.6241 - val_accuracy: 0.7934\n",
      "Epoch 6/15\n",
      "1357194/1357194 [==============================] - 29s 21us/step - loss: 0.5537 - accuracy: 0.8115 - val_loss: 0.6075 - val_accuracy: 0.8003\n",
      "Epoch 7/15\n",
      "1357194/1357194 [==============================] - 29s 21us/step - loss: 0.5403 - accuracy: 0.8156 - val_loss: 0.6066 - val_accuracy: 0.8000\n",
      "Epoch 8/15\n",
      "1357194/1357194 [==============================] - 29s 21us/step - loss: 0.5293 - accuracy: 0.8189 - val_loss: 0.5980 - val_accuracy: 0.8031\n",
      "Epoch 9/15\n",
      "1357194/1357194 [==============================] - 29s 21us/step - loss: 0.5209 - accuracy: 0.8214 - val_loss: 0.6007 - val_accuracy: 0.8034\n",
      "Epoch 10/15\n",
      "1357194/1357194 [==============================] - 29s 21us/step - loss: 0.5127 - accuracy: 0.8242 - val_loss: 0.5944 - val_accuracy: 0.8051\n",
      "Epoch 11/15\n",
      "1357194/1357194 [==============================] - 29s 22us/step - loss: 0.5061 - accuracy: 0.8263 - val_loss: 0.5897 - val_accuracy: 0.8078\n",
      "Epoch 12/15\n",
      "1357194/1357194 [==============================] - 30s 22us/step - loss: 0.5001 - accuracy: 0.8283 - val_loss: 0.5953 - val_accuracy: 0.8056\n",
      "Epoch 13/15\n",
      "1357194/1357194 [==============================] - 29s 22us/step - loss: 0.4950 - accuracy: 0.8295 - val_loss: 0.5938 - val_accuracy: 0.8054\n",
      "Epoch 14/15\n",
      "1357194/1357194 [==============================] - 29s 22us/step - loss: 0.4904 - accuracy: 0.8311 - val_loss: 0.5902 - val_accuracy: 0.8060\n",
      "Epoch 15/15\n",
      "1357194/1357194 [==============================] - 30s 22us/step - loss: 0.4859 - accuracy: 0.8325 - val_loss: 0.5903 - val_accuracy: 0.8073\n"
     ]
    }
   ],
   "source": [
    "model = Sequential()\n",
    "model.add(Dense(256, input_shape=(X.shape[1],), activation='relu') )\n",
    "model.add(Dense(256, activation='relu'))\n",
    "model.add(Dense(Y.shape[1], activation='sigmoid'))\n",
    "opt = keras.optimizers.Adamax(learning_rate=0.002, beta_1=0.9, beta_2=0.999)\n",
    "model.compile(optimizer=opt,loss='categorical_crossentropy', metrics=['accuracy'])\n",
    "hist = model.fit(X, Y, epochs=15, batch_size=256, validation_data = (X_val, Y_val))\n",
    "\n",
    "model.save(\"nets/lmfcc_dyn_recognizer_adam.h5\")"
   ]
  },
  {
   "cell_type": "code",
   "execution_count": 38,
   "metadata": {
    "scrolled": true
   },
   "outputs": [
    {
     "name": "stdout",
     "output_type": "stream",
     "text": [
      "1526682/1526682 [==============================] - 16s 11us/step\n",
      "accuracy: 77.55%\n",
      "\n",
      "Confusion Matrix\n"
     ]
    },
    {
     "data": {
      "image/png": "[encoded data removed]",
      "text/plain": [
       "<matplotlib.figure.Figure at 0x7f9e502fc1d0>"
      ]
     },
     "metadata": {
      "needs_background": "light"
     },
     "output_type": "display_data"
    },
    {
     "name": "stdout",
     "output_type": "stream",
     "text": [
      "Classification Report\n",
      "              precision    recall  f1-score   support\n",
      "\n",
      "        ah_0       0.77      0.70      0.73     18732\n",
      "        ah_1       0.73      0.70      0.72     15513\n",
      "        ah_2       0.68      0.53      0.60     11269\n",
      "        ao_0       0.84      0.74      0.79     14732\n",
      "        ao_1       0.78      0.86      0.82     16593\n",
      "        ao_2       0.79      0.85      0.82     12841\n",
      "        ay_0       0.83      0.86      0.85     38703\n",
      "        ay_1       0.85      0.89      0.87     37216\n",
      "        ay_2       0.75      0.75      0.75     26225\n",
      "        eh_0       0.51      0.59      0.55     11809\n",
      "        eh_1       0.85      0.70      0.77      3333\n",
      "        eh_2       0.78      0.77      0.78      7243\n",
      "        ey_0       0.61      0.64      0.62      9276\n",
      "        ey_1       0.81      0.86      0.83     19208\n",
      "        ey_2       0.86      0.79      0.82     23634\n",
      "         f_0       0.74      0.71      0.72     25993\n",
      "         f_1       0.83      0.93      0.88     24580\n",
      "         f_2       0.84      0.74      0.78      8393\n",
      "        ih_0       0.55      0.54      0.55     13844\n",
      "        ih_1       0.63      0.74      0.68      4446\n",
      "        ih_2       0.84      0.87      0.85     21861\n",
      "        iy_0       0.84      0.85      0.84     25948\n",
      "        iy_1       0.72      0.81      0.76     19558\n",
      "        iy_2       0.72      0.63      0.67     13021\n",
      "         k_0       0.84      0.85      0.85      7341\n",
      "         k_1       0.76      0.83      0.80     11431\n",
      "         k_2       0.74      0.79      0.76     13216\n",
      "         n_0       0.68      0.66      0.67     25693\n",
      "         n_1       0.80      0.85      0.83     36678\n",
      "         n_2       0.76      0.60      0.67     32457\n",
      "        ow_0       0.79      0.70      0.74     25806\n",
      "        ow_1       0.84      0.87      0.86     33272\n",
      "        ow_2       0.80      0.78      0.79     42193\n",
      "         r_0       0.92      0.82      0.87     33864\n",
      "         r_1       0.74      0.87      0.80     22464\n",
      "         r_2       0.70      0.63      0.66     15492\n",
      "         s_0       0.55      0.50      0.52     14942\n",
      "         s_1       0.82      0.89      0.85     41621\n",
      "         s_2       0.68      0.40      0.50     11161\n",
      "       sil_0       0.79      0.83      0.81    142483\n",
      "       sil_1       0.83      0.94      0.88    213749\n",
      "       sil_2       0.64      0.58      0.60     93007\n",
      "        sp_0       0.48      0.26      0.34     26792\n",
      "         t_0       0.66      0.60      0.63     18264\n",
      "         t_1       0.89      0.77      0.83     19121\n",
      "         t_2       0.66      0.60      0.63     12195\n",
      "        th_0       0.63      0.54      0.58     13669\n",
      "        th_1       0.85      0.80      0.83      9115\n",
      "        th_2       0.84      0.84      0.84      6751\n",
      "        uw_0       0.79      0.88      0.83     18680\n",
      "        uw_1       0.81      0.86      0.83     15758\n",
      "        uw_2       0.66      0.58      0.62     15903\n",
      "         v_0       0.80      0.78      0.79     20304\n",
      "         v_1       0.78      0.71      0.74     13111\n",
      "         v_2       0.71      0.67      0.69     24480\n",
      "         w_0       0.66      0.72      0.69      9186\n",
      "         w_1       0.82      0.87      0.84     15588\n",
      "         w_2       0.82      0.91      0.87     15883\n",
      "         z_0       0.67      0.49      0.57      6201\n",
      "         z_1       0.81      0.81      0.81     13634\n",
      "         z_2       0.88      0.85      0.86     11206\n",
      "\n",
      "    accuracy                           0.78   1526682\n",
      "   macro avg       0.75      0.74      0.74   1526682\n",
      "weighted avg       0.77      0.78      0.77   1526682\n",
      "\n"
     ]
    }
   ],
   "source": [
    "model = load_model(\"nets/lmfcc_dyn_recognizer_adam.h5\")\n",
    "score = model.evaluate(X_test, Y_test, batch_size=128)\n",
    "print(\"%s: %.2f%%\" % (model.metrics_names[1], score[1]*100))\n",
    "\n",
    "Y_pred = model.predict(X_test)\n",
    "print('\\nConfusion Matrix')\n",
    "plt.matshow(confusion_matrix(Y_test.argmax(axis=1), Y_pred.argmax(axis=1)))\n",
    "plt.show()\n",
    "print('Classification Report')\n",
    "print(classification_report(Y_test.argmax(axis=1), Y_pred.argmax(axis=1), target_names=stateList))"
   ]
  },
  {
   "cell_type": "markdown",
   "metadata": {},
   "source": [
    "## 2) Dynamic Mspec as features"
   ]
  },
  {
   "cell_type": "code",
   "execution_count": 39,
   "metadata": {},
   "outputs": [],
   "source": [
    "X = None; Y=None; X_val = None; Y_val = None; X_test = None; Y_test = None\n",
    "\n",
    "# Load data\n",
    "with np.load('datas/mspec_train_x_reg.npz', allow_pickle=True) as data:\n",
    "    X = data['mspec_x']\n",
    "    Y = data['targets']\n",
    "with np.load('datas/mspec_val_x_reg.npz', allow_pickle=True) as data:\n",
    "    X_val = data['mspec_x']\n",
    "    Y_val = data['targets']\n",
    "with np.load('datas/mspec_test_x_reg.npz', allow_pickle=True) as data:\n",
    "    X_test = data['mspec_x']\n",
    "    Y_test = data['targets']"
   ]
  },
  {
   "cell_type": "code",
   "execution_count": 40,
   "metadata": {
    "scrolled": true
   },
   "outputs": [
    {
     "name": "stdout",
     "output_type": "stream",
     "text": [
      "Train on 1357194 samples, validate on 149863 samples\n",
      "Epoch 1/15\n",
      "1357194/1357194 [==============================] - 36s 26us/step - loss: 0.8990 - accuracy: 0.7098 - val_loss: 0.7885 - val_accuracy: 0.7413\n",
      "Epoch 2/15\n",
      "1357194/1357194 [==============================] - 35s 26us/step - loss: 0.7054 - accuracy: 0.7653 - val_loss: 0.7029 - val_accuracy: 0.7718\n",
      "Epoch 3/15\n",
      "1357194/1357194 [==============================] - 34s 25us/step - loss: 0.6533 - accuracy: 0.7811 - val_loss: 0.6696 - val_accuracy: 0.7799\n",
      "Epoch 4/15\n",
      "1357194/1357194 [==============================] - 34s 25us/step - loss: 0.6206 - accuracy: 0.7910 - val_loss: 0.6569 - val_accuracy: 0.7831\n",
      "Epoch 5/15\n",
      "1357194/1357194 [==============================] - 34s 25us/step - loss: 0.5983 - accuracy: 0.7976 - val_loss: 0.6364 - val_accuracy: 0.7904\n",
      "Epoch 6/15\n",
      "1357194/1357194 [==============================] - 35s 25us/step - loss: 0.5801 - accuracy: 0.8030 - val_loss: 0.6414 - val_accuracy: 0.7894\n",
      "Epoch 7/15\n",
      "1357194/1357194 [==============================] - 37s 27us/step - loss: 0.5661 - accuracy: 0.8077 - val_loss: 0.6302 - val_accuracy: 0.7933\n",
      "Epoch 8/15\n",
      "1357194/1357194 [==============================] - 37s 27us/step - loss: 0.5544 - accuracy: 0.8112 - val_loss: 0.6174 - val_accuracy: 0.7967\n",
      "Epoch 9/15\n",
      "1357194/1357194 [==============================] - 37s 27us/step - loss: 0.5450 - accuracy: 0.8142 - val_loss: 0.6195 - val_accuracy: 0.7965\n",
      "Epoch 10/15\n",
      "1357194/1357194 [==============================] - 37s 27us/step - loss: 0.5368 - accuracy: 0.8166 - val_loss: 0.6201 - val_accuracy: 0.7974\n",
      "Epoch 11/15\n",
      "1357194/1357194 [==============================] - 37s 27us/step - loss: 0.5286 - accuracy: 0.8192 - val_loss: 0.6127 - val_accuracy: 0.8009\n",
      "Epoch 12/15\n",
      "1357194/1357194 [==============================] - 37s 27us/step - loss: 0.5219 - accuracy: 0.8211 - val_loss: 0.6089 - val_accuracy: 0.8008\n",
      "Epoch 13/15\n",
      "1357194/1357194 [==============================] - 37s 27us/step - loss: 0.5160 - accuracy: 0.8230 - val_loss: 0.6166 - val_accuracy: 0.7991\n",
      "Epoch 14/15\n",
      "1357194/1357194 [==============================] - 39s 29us/step - loss: 0.5103 - accuracy: 0.8244 - val_loss: 0.6114 - val_accuracy: 0.8014\n",
      "Epoch 15/15\n",
      "1357194/1357194 [==============================] - 37s 28us/step - loss: 0.5054 - accuracy: 0.8261 - val_loss: 0.6084 - val_accuracy: 0.8026\n"
     ]
    }
   ],
   "source": [
    "model = Sequential()\n",
    "model.add(Dense(256, input_shape=(X.shape[1],), activation='relu') )\n",
    "model.add(Dense(256, activation='relu'))\n",
    "model.add(Dense(Y.shape[1], activation='sigmoid'))\n",
    "opt = keras.optimizers.Adamax(learning_rate=0.002, beta_1=0.9, beta_2=0.999)\n",
    "model.compile(optimizer=opt,loss='categorical_crossentropy', metrics=['accuracy'])\n",
    "hist = model.fit(X, Y, epochs=15, batch_size=256, validation_data = (X_val, Y_val))\n",
    "\n",
    "model.save(\"nets/mspec_dyn_recognizer_adam.h5\")"
   ]
  },
  {
   "cell_type": "code",
   "execution_count": 41,
   "metadata": {
    "scrolled": true
   },
   "outputs": [
    {
     "name": "stdout",
     "output_type": "stream",
     "text": [
      "1526682/1526682 [==============================] - 18s 12us/step\n",
      "accuracy: 76.62%\n",
      "\n",
      "Confusion Matrix\n"
     ]
    },
    {
     "data": {
      "image/png": "[encoded data removed]",
      "text/plain": [
       "<matplotlib.figure.Figure at 0x7f9e89a1f080>"
      ]
     },
     "metadata": {
      "needs_background": "light"
     },
     "output_type": "display_data"
    },
    {
     "name": "stdout",
     "output_type": "stream",
     "text": [
      "Classification Report\n",
      "              precision    recall  f1-score   support\n",
      "\n",
      "        ah_0       0.69      0.78      0.73     18732\n",
      "        ah_1       0.74      0.69      0.72     15513\n",
      "        ah_2       0.64      0.59      0.61     11269\n",
      "        ao_0       0.79      0.81      0.80     14732\n",
      "        ao_1       0.81      0.83      0.82     16593\n",
      "        ao_2       0.82      0.83      0.82     12841\n",
      "        ay_0       0.84      0.84      0.84     38703\n",
      "        ay_1       0.89      0.81      0.85     37216\n",
      "        ay_2       0.76      0.74      0.75     26225\n",
      "        eh_0       0.52      0.63      0.57     11809\n",
      "        eh_1       0.85      0.71      0.77      3333\n",
      "        eh_2       0.78      0.77      0.78      7243\n",
      "        ey_0       0.61      0.62      0.61      9276\n",
      "        ey_1       0.80      0.88      0.84     19208\n",
      "        ey_2       0.84      0.83      0.83     23634\n",
      "         f_0       0.66      0.81      0.73     25993\n",
      "         f_1       0.90      0.85      0.87     24580\n",
      "         f_2       0.78      0.79      0.79      8393\n",
      "        ih_0       0.58      0.47      0.52     13844\n",
      "        ih_1       0.66      0.70      0.68      4446\n",
      "        ih_2       0.81      0.86      0.83     21861\n",
      "        iy_0       0.83      0.86      0.85     25948\n",
      "        iy_1       0.76      0.76      0.76     19558\n",
      "        iy_2       0.76      0.62      0.68     13021\n",
      "         k_0       0.90      0.79      0.84      7341\n",
      "         k_1       0.74      0.82      0.78     11431\n",
      "         k_2       0.71      0.83      0.76     13216\n",
      "         n_0       0.66      0.68      0.67     25693\n",
      "         n_1       0.82      0.81      0.82     36678\n",
      "         n_2       0.72      0.63      0.67     32457\n",
      "        ow_0       0.79      0.70      0.74     25806\n",
      "        ow_1       0.79      0.91      0.84     33272\n",
      "        ow_2       0.80      0.76      0.78     42193\n",
      "         r_0       0.90      0.86      0.88     33864\n",
      "         r_1       0.81      0.79      0.80     22464\n",
      "         r_2       0.63      0.70      0.66     15492\n",
      "         s_0       0.56      0.50      0.53     14942\n",
      "         s_1       0.87      0.83      0.85     41621\n",
      "         s_2       0.58      0.53      0.55     11161\n",
      "       sil_0       0.79      0.80      0.79    142483\n",
      "       sil_1       0.78      0.95      0.86    213749\n",
      "       sil_2       0.64      0.51      0.57     93007\n",
      "        sp_0       0.47      0.22      0.30     26792\n",
      "         t_0       0.67      0.59      0.63     18264\n",
      "         t_1       0.89      0.78      0.83     19121\n",
      "         t_2       0.65      0.61      0.63     12195\n",
      "        th_0       0.62      0.50      0.55     13669\n",
      "        th_1       0.79      0.85      0.82      9115\n",
      "        th_2       0.80      0.86      0.83      6751\n",
      "        uw_0       0.88      0.80      0.84     18680\n",
      "        uw_1       0.80      0.87      0.83     15758\n",
      "        uw_2       0.62      0.59      0.60     15903\n",
      "         v_0       0.72      0.83      0.77     20304\n",
      "         v_1       0.73      0.77      0.75     13111\n",
      "         v_2       0.73      0.64      0.68     24480\n",
      "         w_0       0.70      0.67      0.68      9186\n",
      "         w_1       0.88      0.79      0.83     15588\n",
      "         w_2       0.86      0.86      0.86     15883\n",
      "         z_0       0.61      0.59      0.60      6201\n",
      "         z_1       0.85      0.76      0.80     13634\n",
      "         z_2       0.84      0.87      0.86     11206\n",
      "\n",
      "    accuracy                           0.77   1526682\n",
      "   macro avg       0.75      0.74      0.74   1526682\n",
      "weighted avg       0.76      0.77      0.76   1526682\n",
      "\n"
     ]
    }
   ],
   "source": [
    "model = load_model(\"nets/mspec_dyn_recognizer_adam.h5\")\n",
    "score = model.evaluate(X_test, Y_test, batch_size=128)\n",
    "print(\"%s: %.2f%%\" % (model.metrics_names[1], score[1]*100))\n",
    "\n",
    "Y_pred = model.predict(X_test)\n",
    "print('\\nConfusion Matrix')\n",
    "plt.matshow(confusion_matrix(Y_test.argmax(axis=1), Y_pred.argmax(axis=1)))\n",
    "plt.show()\n",
    "print('Classification Report')\n",
    "print(classification_report(Y_test.argmax(axis=1), Y_pred.argmax(axis=1), target_names=stateList))"
   ]
  },
  {
   "cell_type": "markdown",
   "metadata": {},
   "source": [
    "## 3) Non-dynamic LMFCC as features"
   ]
  },
  {
   "cell_type": "code",
   "execution_count": 42,
   "metadata": {},
   "outputs": [],
   "source": [
    "X = None; Y=None; X_val = None; Y_val = None; X_test = None; Y_test = None; model = None\n",
    "\n",
    "# Load data\n",
    "with np.load('datas/lmfcc_train_x_non_dynamic_reg.npz', allow_pickle=True) as data:\n",
    "    X = data['lmfcc_x']\n",
    "    Y = data['targets']\n",
    "with np.load('datas/lmfcc_val_x_non_dynamic_reg.npz', allow_pickle=True) as data:\n",
    "    X_val = data['lmfcc_x']\n",
    "    Y_val = data['targets']\n",
    "with np.load('datas/lmfcc_test_x_non_dynamic_reg.npz', allow_pickle=True) as data:\n",
    "    X_test = data['lmfcc_x']\n",
    "    Y_test = data['targets']"
   ]
  },
  {
   "cell_type": "code",
   "execution_count": 43,
   "metadata": {},
   "outputs": [
    {
     "name": "stdout",
     "output_type": "stream",
     "text": [
      "Train on 1357194 samples, validate on 149863 samples\n",
      "Epoch 1/15\n",
      "1357194/1357194 [==============================] - 27s 20us/step - loss: 1.3234 - accuracy: 0.5920 - val_loss: 1.2380 - val_accuracy: 0.6149\n",
      "Epoch 2/15\n",
      "1357194/1357194 [==============================] - 26s 20us/step - loss: 1.1952 - accuracy: 0.6253 - val_loss: 1.1999 - val_accuracy: 0.6251\n",
      "Epoch 3/15\n",
      "1357194/1357194 [==============================] - 27s 20us/step - loss: 1.1613 - accuracy: 0.6343 - val_loss: 1.1806 - val_accuracy: 0.6298\n",
      "Epoch 4/15\n",
      "1357194/1357194 [==============================] - 27s 20us/step - loss: 1.1401 - accuracy: 0.6400 - val_loss: 1.1629 - val_accuracy: 0.6349\n",
      "Epoch 5/15\n",
      "1357194/1357194 [==============================] - 27s 20us/step - loss: 1.1238 - accuracy: 0.6445 - val_loss: 1.1540 - val_accuracy: 0.6369\n",
      "Epoch 6/15\n",
      "1357194/1357194 [==============================] - 27s 20us/step - loss: 1.1119 - accuracy: 0.6481 - val_loss: 1.1453 - val_accuracy: 0.6395\n",
      "Epoch 7/15\n",
      "1357194/1357194 [==============================] - 28s 21us/step - loss: 1.1018 - accuracy: 0.6510 - val_loss: 1.1377 - val_accuracy: 0.6407\n",
      "Epoch 8/15\n",
      "1357194/1357194 [==============================] - 29s 21us/step - loss: 1.0939 - accuracy: 0.6531 - val_loss: 1.1383 - val_accuracy: 0.6420\n",
      "Epoch 9/15\n",
      "1357194/1357194 [==============================] - 28s 21us/step - loss: 1.0866 - accuracy: 0.6556 - val_loss: 1.1309 - val_accuracy: 0.6452\n",
      "Epoch 10/15\n",
      "1357194/1357194 [==============================] - 30s 22us/step - loss: 1.0809 - accuracy: 0.6573 - val_loss: 1.1272 - val_accuracy: 0.6447\n",
      "Epoch 11/15\n",
      "1357194/1357194 [==============================] - 29s 21us/step - loss: 1.0755 - accuracy: 0.6587 - val_loss: 1.1266 - val_accuracy: 0.6451\n",
      "Epoch 12/15\n",
      "1357194/1357194 [==============================] - 29s 22us/step - loss: 1.0706 - accuracy: 0.6605 - val_loss: 1.1230 - val_accuracy: 0.6456\n",
      "Epoch 13/15\n",
      "1357194/1357194 [==============================] - 28s 21us/step - loss: 1.0666 - accuracy: 0.6612 - val_loss: 1.1205 - val_accuracy: 0.6464\n",
      "Epoch 14/15\n",
      "1357194/1357194 [==============================] - 28s 21us/step - loss: 1.0625 - accuracy: 0.6628 - val_loss: 1.1271 - val_accuracy: 0.6449\n",
      "Epoch 15/15\n",
      "1357194/1357194 [==============================] - 28s 21us/step - loss: 1.0592 - accuracy: 0.6633 - val_loss: 1.1216 - val_accuracy: 0.6473\n"
     ]
    }
   ],
   "source": [
    "model = Sequential()\n",
    "model.add(Dense(256, input_shape=(X.shape[1],), activation='relu') )\n",
    "model.add(Dense(256, activation='relu'))\n",
    "model.add(Dense(Y.shape[1], activation='sigmoid'))\n",
    "opt = keras.optimizers.Adamax(learning_rate=0.002, beta_1=0.9, beta_2=0.999)\n",
    "model.compile(optimizer=opt,loss='categorical_crossentropy', metrics=['accuracy'])\n",
    "hist = model.fit(X, Y, epochs=15, batch_size=256, validation_data = (X_val, Y_val))\n",
    "model.save(\"nets/lmfcc_non_dyn_recognizer_adam.h5\")"
   ]
  },
  {
   "cell_type": "code",
   "execution_count": 44,
   "metadata": {
    "scrolled": true
   },
   "outputs": [
    {
     "name": "stdout",
     "output_type": "stream",
     "text": [
      "1526682/1526682 [==============================] - 15s 10us/step\n",
      "accuracy: 60.43%\n",
      "\n",
      "Confusion Matrix\n"
     ]
    },
    {
     "data": {
      "image/png": "[encoded data removed]",
      "text/plain": [
       "<matplotlib.figure.Figure at 0x7f9e8974ddd8>"
      ]
     },
     "metadata": {
      "needs_background": "light"
     },
     "output_type": "display_data"
    },
    {
     "name": "stdout",
     "output_type": "stream",
     "text": [
      "Classification Report\n",
      "              precision    recall  f1-score   support\n",
      "\n",
      "        ah_0       0.39      0.45      0.42     18732\n",
      "        ah_1       0.35      0.32      0.33     15513\n",
      "        ah_2       0.38      0.40      0.39     11269\n",
      "        ao_0       0.64      0.50      0.56     14732\n",
      "        ao_1       0.63      0.68      0.66     16593\n",
      "        ao_2       0.57      0.64      0.60     12841\n",
      "        ay_0       0.69      0.59      0.64     38703\n",
      "        ay_1       0.74      0.83      0.78     37216\n",
      "        ay_2       0.59      0.56      0.57     26225\n",
      "        eh_0       0.31      0.05      0.09     11809\n",
      "        eh_1       0.34      0.40      0.37      3333\n",
      "        eh_2       0.47      0.59      0.52      7243\n",
      "        ey_0       0.42      0.27      0.33      9276\n",
      "        ey_1       0.57      0.71      0.63     19208\n",
      "        ey_2       0.63      0.66      0.64     23634\n",
      "         f_0       0.53      0.62      0.57     25993\n",
      "         f_1       0.68      0.79      0.73     24580\n",
      "         f_2       0.43      0.40      0.41      8393\n",
      "        ih_0       0.39      0.64      0.48     13844\n",
      "        ih_1       0.41      0.24      0.30      4446\n",
      "        ih_2       0.48      0.46      0.47     21861\n",
      "        iy_0       0.56      0.52      0.54     25948\n",
      "        iy_1       0.59      0.47      0.52     19558\n",
      "        iy_2       0.52      0.37      0.43     13021\n",
      "         k_0       0.49      0.59      0.53      7341\n",
      "         k_1       0.61      0.20      0.30     11431\n",
      "         k_2       0.57      0.62      0.60     13216\n",
      "         n_0       0.54      0.51      0.52     25693\n",
      "         n_1       0.71      0.80      0.75     36678\n",
      "         n_2       0.53      0.39      0.45     32457\n",
      "        ow_0       0.45      0.51      0.48     25806\n",
      "        ow_1       0.68      0.70      0.69     33272\n",
      "        ow_2       0.59      0.57      0.58     42193\n",
      "         r_0       0.80      0.81      0.81     33864\n",
      "         r_1       0.76      0.66      0.71     22464\n",
      "         r_2       0.49      0.40      0.44     15492\n",
      "         s_0       0.31      0.20      0.24     14942\n",
      "         s_1       0.70      0.84      0.76     41621\n",
      "         s_2       0.28      0.08      0.13     11161\n",
      "       sil_0       0.67      0.79      0.72    142483\n",
      "       sil_1       0.70      0.95      0.81    213749\n",
      "       sil_2       0.41      0.28      0.33     93007\n",
      "        sp_0       0.31      0.00      0.00     26792\n",
      "         t_0       0.39      0.19      0.26     18264\n",
      "         t_1       0.63      0.72      0.67     19121\n",
      "         t_2       0.46      0.41      0.43     12195\n",
      "        th_0       0.34      0.17      0.23     13669\n",
      "        th_1       0.49      0.49      0.49      9115\n",
      "        th_2       0.45      0.42      0.43      6751\n",
      "        uw_0       0.47      0.61      0.53     18680\n",
      "        uw_1       0.64      0.66      0.65     15758\n",
      "        uw_2       0.43      0.39      0.41     15903\n",
      "         v_0       0.60      0.57      0.58     20304\n",
      "         v_1       0.34      0.36      0.35     13111\n",
      "         v_2       0.46      0.33      0.38     24480\n",
      "         w_0       0.63      0.31      0.41      9186\n",
      "         w_1       0.63      0.65      0.64     15588\n",
      "         w_2       0.63      0.76      0.69     15883\n",
      "         z_0       0.42      0.18      0.26      6201\n",
      "         z_1       0.75      0.62      0.68     13634\n",
      "         z_2       0.70      0.77      0.73     11206\n",
      "\n",
      "    accuracy                           0.60   1526682\n",
      "   macro avg       0.53      0.50      0.50   1526682\n",
      "weighted avg       0.58      0.60      0.58   1526682\n",
      "\n"
     ]
    }
   ],
   "source": [
    "model = load_model(\"nets/lmfcc_non_dyn_recognizer_adam.h5\")\n",
    "score = model.evaluate(X_test, Y_test, batch_size=128)\n",
    "print(\"%s: %.2f%%\" % (model.metrics_names[1], score[1]*100))\n",
    "\n",
    "Y_pred = model.predict(X_test)\n",
    "print('\\nConfusion Matrix')\n",
    "plt.matshow(confusion_matrix(Y_test.argmax(axis=1), Y_pred.argmax(axis=1)))\n",
    "plt.show()\n",
    "print('Classification Report')\n",
    "print(classification_report(Y_test.argmax(axis=1), Y_pred.argmax(axis=1), target_names=stateList))"
   ]
  },
  {
   "cell_type": "markdown",
   "metadata": {},
   "source": [
    "## 4) Non-dynamic MSPEC as features"
   ]
  },
  {
   "cell_type": "code",
   "execution_count": 45,
   "metadata": {},
   "outputs": [],
   "source": [
    "X = None; Y=None; X_val = None; Y_val = None; X_test = None; Y_test = None\n",
    "\n",
    "# Load data\n",
    "with np.load('datas/mspec_train_x_non_dynamic_reg.npz', allow_pickle=True) as data:\n",
    "    X = data['mspec_x']\n",
    "    Y = data['targets']\n",
    "with np.load('datas/mspec_val_x_non_dynamic_reg.npz', allow_pickle=True) as data:\n",
    "    X_val = data['mspec_x']\n",
    "    Y_val = data['targets']\n",
    "with np.load('datas/mspec_test_x_non_dynamic_reg.npz', allow_pickle=True) as data:\n",
    "    X_test = data['mspec_x']\n",
    "    Y_test = data['targets']"
   ]
  },
  {
   "cell_type": "code",
   "execution_count": 46,
   "metadata": {},
   "outputs": [
    {
     "name": "stdout",
     "output_type": "stream",
     "text": [
      "Train on 1357194 samples, validate on 149863 samples\n",
      "Epoch 1/15\n",
      "1357194/1357194 [==============================] - 28s 21us/step - loss: 1.3665 - accuracy: 0.5797 - val_loss: 1.2478 - val_accuracy: 0.6127\n",
      "Epoch 2/15\n",
      "1357194/1357194 [==============================] - 28s 21us/step - loss: 1.1931 - accuracy: 0.6256 - val_loss: 1.1811 - val_accuracy: 0.6290\n",
      "Epoch 3/15\n",
      "1357194/1357194 [==============================] - 28s 21us/step - loss: 1.1443 - accuracy: 0.6394 - val_loss: 1.1699 - val_accuracy: 0.6314\n",
      "Epoch 4/15\n",
      "1357194/1357194 [==============================] - 28s 20us/step - loss: 1.1129 - accuracy: 0.6485 - val_loss: 1.1382 - val_accuracy: 0.6422\n",
      "Epoch 5/15\n",
      "1357194/1357194 [==============================] - 28s 21us/step - loss: 1.0897 - accuracy: 0.6551 - val_loss: 1.1159 - val_accuracy: 0.6473\n",
      "Epoch 6/15\n",
      "1357194/1357194 [==============================] - 28s 21us/step - loss: 1.0716 - accuracy: 0.6609 - val_loss: 1.1144 - val_accuracy: 0.6489\n",
      "Epoch 7/15\n",
      "1357194/1357194 [==============================] - 29s 21us/step - loss: 1.0574 - accuracy: 0.6650 - val_loss: 1.0994 - val_accuracy: 0.6537\n",
      "Epoch 8/15\n",
      "1357194/1357194 [==============================] - 30s 22us/step - loss: 1.0451 - accuracy: 0.6684 - val_loss: 1.0894 - val_accuracy: 0.6569\n",
      "Epoch 9/15\n",
      "1357194/1357194 [==============================] - 29s 22us/step - loss: 1.0348 - accuracy: 0.6719 - val_loss: 1.0824 - val_accuracy: 0.6586\n",
      "Epoch 10/15\n",
      "1357194/1357194 [==============================] - 29s 21us/step - loss: 1.0260 - accuracy: 0.6743 - val_loss: 1.0784 - val_accuracy: 0.6601\n",
      "Epoch 11/15\n",
      "1357194/1357194 [==============================] - 29s 21us/step - loss: 1.0174 - accuracy: 0.6770 - val_loss: 1.0732 - val_accuracy: 0.6621\n",
      "Epoch 12/15\n",
      "1357194/1357194 [==============================] - 29s 22us/step - loss: 1.0105 - accuracy: 0.6794 - val_loss: 1.0706 - val_accuracy: 0.6644\n",
      "Epoch 13/15\n",
      "1357194/1357194 [==============================] - 29s 22us/step - loss: 1.0037 - accuracy: 0.6810 - val_loss: 1.0723 - val_accuracy: 0.6628\n",
      "Epoch 14/15\n",
      "1357194/1357194 [==============================] - 30s 22us/step - loss: 0.9980 - accuracy: 0.6828 - val_loss: 1.0683 - val_accuracy: 0.6637\n",
      "Epoch 15/15\n",
      "1357194/1357194 [==============================] - 30s 22us/step - loss: 0.9929 - accuracy: 0.6843 - val_loss: 1.0730 - val_accuracy: 0.6625\n"
     ]
    }
   ],
   "source": [
    "model = Sequential()\n",
    "model.add(Dense(256, input_shape=(X.shape[1],), activation='relu') )\n",
    "model.add(Dense(256, activation='relu'))\n",
    "model.add(Dense(Y.shape[1], activation='sigmoid'))\n",
    "opt = keras.optimizers.Adamax(learning_rate=0.002, beta_1=0.9, beta_2=0.999)\n",
    "model.compile(optimizer=opt,loss='categorical_crossentropy', metrics=['accuracy'])\n",
    "hist = model.fit(X, Y, epochs=15, batch_size=256, validation_data = (X_val, Y_val))\n",
    "model.save(\"nets/mspec_non_dyn_recognizer_adam.h5\")"
   ]
  },
  {
   "cell_type": "code",
   "execution_count": 47,
   "metadata": {
    "scrolled": true
   },
   "outputs": [
    {
     "name": "stdout",
     "output_type": "stream",
     "text": [
      "1526682/1526682 [==============================] - 16s 11us/step\n",
      "accuracy: 61.64%\n",
      "\n",
      "Confusion Matrix\n"
     ]
    },
    {
     "data": {
      "image/png": "[encoded data removed]",
      "text/plain": [
       "<matplotlib.figure.Figure at 0x7f9e732c7e80>"
      ]
     },
     "metadata": {
      "needs_background": "light"
     },
     "output_type": "display_data"
    },
    {
     "name": "stdout",
     "output_type": "stream",
     "text": [
      "Classification Report\n",
      "              precision    recall  f1-score   support\n",
      "\n",
      "        ah_0       0.42      0.51      0.46     18732\n",
      "        ah_1       0.36      0.46      0.41     15513\n",
      "        ah_2       0.48      0.21      0.29     11269\n",
      "        ao_0       0.67      0.52      0.59     14732\n",
      "        ao_1       0.67      0.66      0.66     16593\n",
      "        ao_2       0.68      0.56      0.62     12841\n",
      "        ay_0       0.74      0.64      0.69     38703\n",
      "        ay_1       0.80      0.73      0.76     37216\n",
      "        ay_2       0.67      0.53      0.59     26225\n",
      "        eh_0       0.30      0.07      0.11     11809\n",
      "        eh_1       0.42      0.39      0.40      3333\n",
      "        eh_2       0.41      0.71      0.52      7243\n",
      "        ey_0       0.41      0.29      0.34      9276\n",
      "        ey_1       0.57      0.79      0.66     19208\n",
      "        ey_2       0.63      0.70      0.66     23634\n",
      "         f_0       0.54      0.62      0.58     25993\n",
      "         f_1       0.70      0.78      0.74     24580\n",
      "         f_2       0.45      0.45      0.45      8393\n",
      "        ih_0       0.40      0.62      0.48     13844\n",
      "        ih_1       0.40      0.38      0.39      4446\n",
      "        ih_2       0.50      0.51      0.51     21861\n",
      "        iy_0       0.60      0.57      0.58     25948\n",
      "        iy_1       0.60      0.53      0.56     19558\n",
      "        iy_2       0.44      0.47      0.45     13021\n",
      "         k_0       0.60      0.59      0.59      7341\n",
      "         k_1       0.61      0.24      0.35     11431\n",
      "         k_2       0.60      0.62      0.61     13216\n",
      "         n_0       0.49      0.61      0.55     25693\n",
      "         n_1       0.77      0.72      0.74     36678\n",
      "         n_2       0.50      0.45      0.47     32457\n",
      "        ow_0       0.53      0.50      0.51     25806\n",
      "        ow_1       0.64      0.75      0.69     33272\n",
      "        ow_2       0.56      0.66      0.60     42193\n",
      "         r_0       0.76      0.83      0.80     33864\n",
      "         r_1       0.74      0.68      0.71     22464\n",
      "         r_2       0.57      0.38      0.45     15492\n",
      "         s_0       0.33      0.21      0.25     14942\n",
      "         s_1       0.68      0.86      0.76     41621\n",
      "         s_2       0.30      0.07      0.12     11161\n",
      "       sil_0       0.65      0.82      0.72    142483\n",
      "       sil_1       0.70      0.95      0.81    213749\n",
      "       sil_2       0.48      0.21      0.29     93007\n",
      "        sp_0       0.28      0.01      0.01     26792\n",
      "         t_0       0.41      0.19      0.26     18264\n",
      "         t_1       0.61      0.76      0.68     19121\n",
      "         t_2       0.53      0.45      0.49     12195\n",
      "        th_0       0.38      0.19      0.25     13669\n",
      "        th_1       0.60      0.45      0.51      9115\n",
      "        th_2       0.44      0.50      0.47      6751\n",
      "        uw_0       0.60      0.57      0.58     18680\n",
      "        uw_1       0.68      0.70      0.69     15758\n",
      "        uw_2       0.48      0.31      0.37     15903\n",
      "         v_0       0.62      0.56      0.59     20304\n",
      "         v_1       0.43      0.35      0.39     13111\n",
      "         v_2       0.46      0.41      0.44     24480\n",
      "         w_0       0.49      0.43      0.46      9186\n",
      "         w_1       0.66      0.69      0.67     15588\n",
      "         w_2       0.70      0.71      0.71     15883\n",
      "         z_0       0.38      0.26      0.31      6201\n",
      "         z_1       0.77      0.64      0.70     13634\n",
      "         z_2       0.69      0.79      0.74     11206\n",
      "\n",
      "    accuracy                           0.62   1526682\n",
      "   macro avg       0.55      0.52      0.52   1526682\n",
      "weighted avg       0.60      0.62      0.59   1526682\n",
      "\n"
     ]
    }
   ],
   "source": [
    "model = load_model(\"nets/mspec_non_dyn_recognizer_adam.h5\")\n",
    "score = model.evaluate(X_test, Y_test, batch_size=128)\n",
    "print(\"%s: %.2f%%\" % (model.metrics_names[1], score[1]*100))\n",
    "\n",
    "Y_pred = model.predict(X_test)\n",
    "print('\\nConfusion Matrix')\n",
    "plt.matshow(confusion_matrix(Y_test.argmax(axis=1), Y_pred.argmax(axis=1)))\n",
    "plt.show()\n",
    "print('Classification Report')\n",
    "print(classification_report(Y_test.argmax(axis=1), Y_pred.argmax(axis=1), target_names=stateList))"
   ]
  }
 ],
 "metadata": {
  "kernelspec": {
   "display_name": "Python 3",
   "language": "python",
   "name": "python3"
  },
  "language_info": {
   "codemirror_mode": {
    "name": "ipython",
    "version": 3
   },
   "file_extension": ".py",
   "mimetype": "text/x-python",
   "name": "python",
   "nbconvert_exporter": "python",
   "pygments_lexer": "ipython3",
   "version": "3.6.9"
  }
 },
 "nbformat": 4,
 "nbformat_minor": 4
}
