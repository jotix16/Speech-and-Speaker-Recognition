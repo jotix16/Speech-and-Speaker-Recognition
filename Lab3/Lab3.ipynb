{
 "cells": [
  {
   "cell_type": "code",
   "execution_count": 1,
   "metadata": {},
   "outputs": [
    {
     "name": "stderr",
     "output_type": "stream",
     "text": [
      "Using TensorFlow backend.\n"
     ]
    },
    {
     "name": "stdout",
     "output_type": "stream",
     "text": [
      "Populating the interactive namespace from numpy and matplotlib\n"
     ]
    }
   ],
   "source": [
    "import numpy as np\n",
    "from lab3_tools import *\n",
    "from lab3_proto import *\n",
    "from tqdm import tqdm\n",
    "import os\n",
    "import keras\n",
    "from matplotlib.pyplot import plot as tplt\n",
    "import warnings\n",
    "warnings.filterwarnings('ignore')\n",
    "\n",
    "\n",
    "\n",
    "%pylab inline\n",
    "pylab.rcParams['figure.figsize'] = (15, 4)\n",
    "\n",
    "## Import scripts from lab1\n",
    "import sys\n",
    "sys.path.insert(1, '../Lab1/')\n",
    "from lab1_proto import*\n",
    "\n",
    "## Import scripts from lab2\n",
    "import sys\n",
    "sys.path.insert(1, '../Lab2/')\n",
    "from lab2_proto import*\n",
    "from prondict import*\n",
    "\n",
    "## Auto-reloading\n",
    "%load_ext autoreload\n",
    "%autoreload 2\n"
   ]
  },
  {
   "cell_type": "code",
   "execution_count": 2,
   "metadata": {
    "scrolled": true
   },
   "outputs": [
    {
     "name": "stdout",
     "output_type": "stream",
     "text": [
      "phoneme HMM models:\n",
      "['ah', 'ao', 'ay', 'eh', 'ey', 'f', 'ih', 'iy', 'k', 'n', 'ow', 'r', 's', 'sil', 'sp', 't', 'th', 'uw', 'v', 'w', 'z']\n",
      "dict_keys(['name', 'startprob', 'transmat', 'means', 'covars'])\n",
      "\n",
      "============\n",
      "The pronancuation dictionary:\n"
     ]
    },
    {
     "data": {
      "text/plain": [
       "{'o': ['ow'],\n",
       " 'z': ['z', 'iy', 'r', 'ow'],\n",
       " '1': ['w', 'ah', 'n'],\n",
       " '2': ['t', 'uw'],\n",
       " '3': ['th', 'r', 'iy'],\n",
       " '4': ['f', 'ao', 'r'],\n",
       " '5': ['f', 'ay', 'v'],\n",
       " '6': ['s', 'ih', 'k', 's'],\n",
       " '7': ['s', 'eh', 'v', 'ah', 'n'],\n",
       " '8': ['ey', 't'],\n",
       " '9': ['n', 'ay', 'n']}"
      ]
     },
     "execution_count": 2,
     "metadata": {},
     "output_type": "execute_result"
    }
   ],
   "source": [
    "# Load parameters\n",
    "phoneHMMs_all = np.load('../Lab2/lab2_models_all.npz',allow_pickle=True)['phoneHMMs'].item()\n",
    "# phoneHMMs_one = load('../Lab2/lab2_models_onespkr.npz',allow_pickle=True)['phoneHMMs'].item()\n",
    "print(\"phoneme HMM models:\")\n",
    "phones = sorted(phoneHMMs_all.keys())\n",
    "print(list(phones))\n",
    "print(phoneHMMs_all['sp'].keys())\n",
    "\n",
    "# Pronaunciation dictionary\n",
    "print()\n",
    "print(\"============\")\n",
    "print(\"The pronancuation dictionary:\")\n",
    "prondict"
   ]
  },
  {
   "cell_type": "code",
   "execution_count": 12,
   "metadata": {},
   "outputs": [
    {
     "data": {
      "text/plain": [
       "dict_keys(['filename', 'samples', 'gender', 'speaker', 'digits', 'repetition', 'lmfcc', 'wordTrans', 'phoneTrans', 'utteranceHMM', 'stateTrans', 'obsloglik', 'viterbiLoglik', 'viterbiPath', 'viterbiStateTrans'])"
      ]
     },
     "execution_count": 12,
     "metadata": {},
     "output_type": "execute_result"
    }
   ],
   "source": [
    "# Load example data\n",
    "example = load('lab3_example.npz',allow_pickle=True)['example'].item()\n",
    "example.keys()"
   ]
  },
  {
   "cell_type": "code",
   "execution_count": 10,
   "metadata": {},
   "outputs": [],
   "source": [
    "import pickle\n",
    "\n",
    "## Load models\n",
    "phoneHMMs_all = np.load('../Lab2/lab2_models_all.npz',allow_pickle=True)['phoneHMMs'].item()\n",
    "phones = sorted(phoneHMMs_all.keys())\n",
    "\n",
    "# phone: nr of states\n",
    "nstates = {phone: phoneHMMs_all[phone]['means'].shape[0] for phone in phones}\n",
    "# list of all states(3 states for each phone)\n",
    "stateList = [ph + '_' + str(id) for ph in phones for id in range(nstates[ph])]\n",
    "\n",
    "# Saving the objects:\n",
    "#pickle.dump([nstates, stateList, phones], open('saved_files/phoneHMM_states.pkl', 'wb'))\n",
    "\n",
    "# Getting back the objects:\n",
    "# nstates, stateList, phones = pickle.load( open('saved_files/phoneHMM_states.pkl', 'rb'))"
   ]
  },
  {
   "cell_type": "code",
   "execution_count": 15,
   "metadata": {},
   "outputs": [
    {
     "name": "stdout",
     "output_type": "stream",
     "text": [
      "True\n",
      "True\n",
      "True\n"
     ]
    }
   ],
   "source": [
    "# My functions deliver the same outputs as excpected from example\n",
    "filename = '../datasets/tidigits/disc_4.1.1/tidigits/train/man/nw/z43a.wav'\n",
    "samples, samplingrate = loadAudio(filename)\n",
    "print(np.allclose(example['samples'], samples))\n",
    "lmfcc = mfcc(samples)\n",
    "print(np.allclose(example['lmfcc'], lmfcc)) #!!\n",
    "wordTrans = list(path2info(filename)[2])\n",
    "print(example['wordTrans'] == wordTrans)"
   ]
  },
  {
   "cell_type": "markdown",
   "metadata": {},
   "source": [
    "###  List of concatenated phones for word"
   ]
  },
  {
   "cell_type": "code",
   "execution_count": 20,
   "metadata": {},
   "outputs": [
    {
     "name": "stdout",
     "output_type": "stream",
     "text": [
      "True\n",
      "True\n",
      "['sil', 'z', 'iy', 'r', 'ow', 'sp', 'f', 'ao', 'r', 'sp', 'th', 'r', 'iy', 'sp', 'sil']\n"
     ]
    }
   ],
   "source": [
    "phoneTrans = words2phones(wordTrans, prondict)\n",
    "print(example['phoneTrans']== phoneTrans)\n",
    "stateTrans = [phone + '_' + str(stateid) for phone in phoneTrans for stateid in range(nstates[phone])]\n",
    "print(example['stateTrans'] == stateTrans)\n",
    "print(phoneTrans)"
   ]
  },
  {
   "cell_type": "code",
   "execution_count": 23,
   "metadata": {},
   "outputs": [
    {
     "name": "stdout",
     "output_type": "stream",
     "text": [
      "True\n",
      "True\n",
      "True\n",
      "True\n",
      "Number of states for the concatenated HMM of the example (0f3): 39\n"
     ]
    }
   ],
   "source": [
    "utteranceHMM = concatHMMs(phoneHMMs_all, phoneTrans)\n",
    "\n",
    "# Check that means, covar and startprob of concatened HMM are the same as in example\n",
    "for i in example['utteranceHMM'].keys():\n",
    "    print(np.allclose(utteranceHMM[i], example['utteranceHMM'][i]))\n",
    "    \n",
    "print(\"Number of states for the concatenated HMM of the example (0f3):\", utteranceHMM['means'].shape[0])\n"
   ]
  },
  {
   "cell_type": "markdown",
   "metadata": {},
   "source": [
    "## Viterbi"
   ]
  },
  {
   "cell_type": "code",
   "execution_count": 31,
   "metadata": {},
   "outputs": [
    {
     "name": "stdout",
     "output_type": "stream",
     "text": [
      "Correct obsloglik: True\n",
      "Correct viterbi: True\n"
     ]
    },
    {
     "data": {
      "image/png": "[encoded data removed]",
      "text/plain": [
       "<matplotlib.figure.Figure at 0x7f4ddd825080>"
      ]
     },
     "metadata": {
      "needs_background": "light"
     },
     "output_type": "display_data"
    }
   ],
   "source": [
    "obsloglik = log_multivariate_normal_density_diag(lmfcc, utteranceHMM['means'], utteranceHMM['covars'])\n",
    "viterbi_loglik, viterbi_path = viterbi(obsloglik, np.log(utteranceHMM['startprob']), np.log(utteranceHMM['transmat']), True)\n",
    "plt.plot(viterbi_path, np.arange(len(viterbi_path)))\n",
    "plt.title(\"Path overlayed on log_alpha\")\n",
    "print(\"Correct obsloglik:\",np.allclose(obsloglik, example['obsloglik']))\n",
    "print(\"Correct viterbi:\",np.allclose(viterbi_path, example['viterbiPath']))"
   ]
  },
  {
   "cell_type": "code",
   "execution_count": 39,
   "metadata": {
    "scrolled": true
   },
   "outputs": [
    {
     "name": "stdout",
     "output_type": "stream",
     "text": [
      "Correct viterbi path state trans: True\n",
      "\n",
      "Path of states: ['sil_0', 'sil_1', 'sil_1', 'sil_1', 'sil_1', 'sil_1', 'sil_1', 'sil_1', 'sil_1', 'sil_1', 'sil_1', 'sil_1', 'sil_1', 'sil_1', 'sil_1', 'sil_1', 'sil_1', 'sil_1', 'sil_1', 'sil_2', 'z_0', 'z_0', 'z_0', 'z_0', 'z_1', 'z_2', 'z_2', 'z_2', 'z_2', 'z_2', 'z_2', 'z_2', 'z_2', 'z_2', 'z_2', 'z_2', 'iy_0', 'iy_0', 'iy_0', 'iy_0', 'iy_0', 'iy_0', 'iy_0', 'iy_0', 'iy_1', 'iy_2', 'r_0', 'r_0', 'r_0', 'r_0', 'r_0', 'r_0', 'r_0', 'r_0', 'r_0', 'r_0', 'r_1', 'r_2', 'ow_0', 'ow_1', 'ow_2', 'ow_2', 'ow_2', 'ow_2', 'ow_2', 'ow_2', 'ow_2', 'ow_2', 'ow_2', 'f_0', 'f_1', 'f_1', 'f_1', 'f_1', 'f_1', 'f_1', 'f_1', 'f_1', 'f_1', 'f_1', 'f_1', 'f_2', 'ao_0', 'ao_1', 'ao_1', 'ao_1', 'ao_1', 'ao_1', 'ao_1', 'ao_1', 'ao_1', 'ao_1', 'ao_1', 'ao_1', 'ao_1', 'ao_1', 'ao_1', 'ao_2', 'ao_2', 'ao_2', 'ao_2', 'ao_2', 'ao_2', 'ao_2', 'ao_2', 'ao_2', 'ao_2', 'ao_2', 'r_0', 'r_0', 'r_0', 'r_1', 'r_2', 'th_0', 'th_0', 'th_0', 'th_0', 'th_0', 'th_0', 'th_0', 'th_0', 'th_0', 'th_0', 'th_1', 'th_1', 'th_1', 'th_2', 'r_0', 'r_0', 'r_0', 'r_0', 'r_0', 'r_0', 'r_0', 'r_0', 'r_0', 'r_1', 'r_2', 'iy_0', 'iy_0', 'iy_0', 'iy_0', 'iy_0', 'iy_0', 'iy_0', 'iy_0', 'iy_0', 'iy_0', 'iy_1', 'iy_1', 'iy_2', 'iy_2', 'iy_2', 'iy_2', 'iy_2', 'iy_2', 'iy_2', 'iy_2', 'sil_0', 'sil_0', 'sil_0', 'sil_0', 'sil_0', 'sil_0', 'sil_0', 'sil_0', 'sil_0', 'sil_0', 'sil_0', 'sil_0', 'sil_0', 'sil_0', 'sil_0', 'sil_0', 'sil_0', 'sil_0', 'sil_1', 'sil_2']\n",
      "\n",
      "Path of targets(indexes): [39, 40, 40, 40, 40, 40, 40, 40, 40, 40, 40, 40, 40, 40, 40, 40, 40, 40, 40, 41, 58, 58, 58, 58, 59, 60, 60, 60, 60, 60, 60, 60, 60, 60, 60, 60, 21, 21, 21, 21, 21, 21, 21, 21, 22, 23, 33, 33, 33, 33, 33, 33, 33, 33, 33, 33, 34, 35, 30, 31, 32, 32, 32, 32, 32, 32, 32, 32, 32, 15, 16, 16, 16, 16, 16, 16, 16, 16, 16, 16, 16, 17, 3, 4, 4, 4, 4, 4, 4, 4, 4, 4, 4, 4, 4, 4, 4, 5, 5, 5, 5, 5, 5, 5, 5, 5, 5, 5, 33, 33, 33, 34, 35, 46, 46, 46, 46, 46, 46, 46, 46, 46, 46, 47, 47, 47, 48, 33, 33, 33, 33, 33, 33, 33, 33, 33, 34, 35, 21, 21, 21, 21, 21, 21, 21, 21, 21, 21, 22, 22, 23, 23, 23, 23, 23, 23, 23, 23, 39, 39, 39, 39, 39, 39, 39, 39, 39, 39, 39, 39, 39, 39, 39, 39, 39, 39, 40, 41]\n"
     ]
    }
   ],
   "source": [
    "viterbiStateTrans = list(np.array(stateTrans)[viterbi_path,])\n",
    "print(\"Correct viterbi path state trans:\", viterbiStateTrans ==  example['viterbiStateTrans'])\n",
    "\n",
    "print(\"\\nPath of states:\",viterbiStateTrans)\n",
    "targets = [stateList.index(k) for k in list(np.array(stateTrans)[viterbi_path,])]\n",
    "print(\"\\nPath of targets(indexes):\",targets)"
   ]
  },
  {
   "cell_type": "code",
   "execution_count": 46,
   "metadata": {},
   "outputs": [],
   "source": [
    "_=frames2trans(viterbiStateTrans,outfilename='z43a.lab')# save the path states in file format that can be used in wavesurfer"
   ]
  },
  {
   "cell_type": "markdown",
   "metadata": {},
   "source": [
    "# Feature Extraction"
   ]
  },
  {
   "cell_type": "markdown",
   "metadata": {},
   "source": [
    "### Extract training and test data"
   ]
  },
  {
   "cell_type": "code",
   "execution_count": 50,
   "metadata": {},
   "outputs": [
    {
     "name": "stdout",
     "output_type": "stream",
     "text": [
      "Nr of words in training set: 8623\n",
      "Nr of words in testing set: 8700\n",
      "Nr of timesteps for train data: 1507057\n",
      "Nr of timesteps for test data: 1526682\n"
     ]
    }
   ],
   "source": [
    "!python3  Lab3_load_training_and_test_set.py"
   ]
  },
  {
   "cell_type": "markdown",
   "metadata": {},
   "source": [
    "# 4) Concatinating HMMs"
   ]
  },
  {
   "cell_type": "markdown",
   "metadata": {},
   "source": [
    "## Train-Valid Split"
   ]
  },
  {
   "cell_type": "code",
   "execution_count": 51,
   "metadata": {},
   "outputs": [
    {
     "name": "stdout",
     "output_type": "stream",
     "text": [
      "0.9000347906760988 0.0999652093239012\r\n",
      "Trainign set: Women-> 3956 , Men-> 3805\r\n",
      "Validation set: Women-> 432 , Men-> 430\r\n"
     ]
    }
   ],
   "source": [
    "!python3 Lab3_split_train_valid.py"
   ]
  },
  {
   "cell_type": "markdown",
   "metadata": {},
   "source": [
    "## Create Dynamic Features"
   ]
  },
  {
   "cell_type": "code",
   "execution_count": 52,
   "metadata": {},
   "outputs": [
    {
     "name": "stdout",
     "output_type": "stream",
     "text": [
      "Training set has 1357194 lmfcc_x samples with dimension  91 .\n",
      "Training set has 1357194 mspec_x samples with dimension  280 .\n",
      "Test set has 1526682 lmfcc_x samples with dimension  91 .\n",
      "Test set has 1526682 mspec_x samples with dimension  280 .\n",
      "Validation set has 149863 lmfcc_x samples with dimension  91 .\n",
      "Validation set has 149863 mspec_x samples with dimension  280 .\n"
     ]
    }
   ],
   "source": [
    "!python3 Lab3_create_dynamic_features.py"
   ]
  },
  {
   "cell_type": "markdown",
   "metadata": {},
   "source": [
    "## Normalizing and one-hot encoding of targets"
   ]
  },
  {
   "cell_type": "code",
   "execution_count": 3,
   "metadata": {},
   "outputs": [
    {
     "name": "stdout",
     "output_type": "stream",
     "text": [
      "\u001b[0m\u001b[01;34mdatas\u001b[0m/                              lab3_tools.py\r\n",
      "Lab3_create_dynamic_features.py     \u001b[01;34m__pycache__\u001b[0m/\r\n",
      "lab3_example.npz                    \u001b[01;34msaved_files\u001b[0m/\r\n",
      "Lab3.ipynb                          testdata.npz\r\n",
      "Lab3_load_training_and_test_set.py  traindata.npz\r\n",
      "Lab3_normalize.py                   training_set.npz\r\n",
      "lab3.pdf                            validation_set.npz\r\n",
      "lab3_proto.py                       z43a.lab\r\n",
      "Lab3_split_train_valid.py\r\n"
     ]
    }
   ],
   "source": [
    "%python3 Lab3_normalize.py"
   ]
  },
  {
   "cell_type": "markdown",
   "metadata": {},
   "source": [
    "# Phoneme Recognition with Deep Neural Networks"
   ]
  },
  {
   "cell_type": "code",
   "execution_count": 5,
   "metadata": {},
   "outputs": [],
   "source": [
    "from keras.models import Sequential\n",
    "from keras.layers.core import Dense, Activation\n",
    "from keras.models import load_model\n",
    "from sklearn.metrics import classification_report, confusion_matrix\n",
    "\n",
    "\n",
    "nstates, stateList, phones = pickle.load( open('saved_files/phoneHMM_states.pkl', 'rb'))"
   ]
  },
  {
   "cell_type": "markdown",
   "metadata": {},
   "source": [
    "## 1) Dynamic Lmfcc as features "
   ]
  },
  {
   "cell_type": "code",
   "execution_count": 53,
   "metadata": {},
   "outputs": [],
   "source": [
    "with np.load('datas/lmfcc_train_x_reg.npz', allow_pickle=True) as data:\n",
    "    X = data['lmfcc_x']\n",
    "    Y = data['targets']\n",
    "with np.load('datas/lmfcc_test_x_reg.npz', allow_pickle=True) as data:\n",
    "    X_test = data['lmfcc_x']\n",
    "    Y_test = data['targets']"
   ]
  },
  {
   "cell_type": "markdown",
   "metadata": {},
   "source": [
    "### Rmsprop"
   ]
  },
  {
   "cell_type": "code",
   "execution_count": 26,
   "metadata": {
    "scrolled": true
   },
   "outputs": [
    {
     "name": "stdout",
     "output_type": "stream",
     "text": [
      "Epoch 1/12\n",
      "1357194/1357194 [==============================] - 16s 12us/step - loss: 1.0131 - accuracy: 0.6793\n",
      "Epoch 2/12\n",
      "1357194/1357194 [==============================] - 16s 12us/step - loss: 0.8022 - accuracy: 0.7387\n",
      "Epoch 3/12\n",
      "1357194/1357194 [==============================] - 18s 13us/step - loss: 0.7598 - accuracy: 0.7516\n",
      "Epoch 4/12\n",
      "1357194/1357194 [==============================] - 19s 14us/step - loss: 0.7394 - accuracy: 0.7576\n",
      "Epoch 5/12\n",
      "1357194/1357194 [==============================] - 17s 13us/step - loss: 0.7278 - accuracy: 0.7609\n",
      "Epoch 6/12\n",
      "1357194/1357194 [==============================] - 17s 13us/step - loss: 0.7203 - accuracy: 0.7632\n",
      "Epoch 7/12\n",
      "1357194/1357194 [==============================] - 17s 13us/step - loss: 0.7153 - accuracy: 0.7647\n",
      "Epoch 8/12\n",
      "1357194/1357194 [==============================] - 18s 13us/step - loss: 0.7116 - accuracy: 0.7661\n",
      "Epoch 9/12\n",
      "1357194/1357194 [==============================] - 18s 13us/step - loss: 0.7090 - accuracy: 0.7668\n",
      "Epoch 10/12\n",
      "1357194/1357194 [==============================] - 17s 13us/step - loss: 0.7069 - accuracy: 0.7672\n",
      "Epoch 11/12\n",
      "1357194/1357194 [==============================] - 18s 13us/step - loss: 0.7055 - accuracy: 0.7678\n",
      "Epoch 12/12\n",
      "1357194/1357194 [==============================] - 18s 13us/step - loss: 0.7044 - accuracy: 0.7682\n"
     ]
    },
    {
     "data": {
      "text/plain": [
       "<keras.callbacks.callbacks.History at 0x7f5cc84b2470>"
      ]
     },
     "execution_count": 26,
     "metadata": {},
     "output_type": "execute_result"
    }
   ],
   "source": [
    "model = Sequential()\n",
    "model.add(Dense(50, input_shape=(X.shape[1],), activation='relu') )\n",
    "model.add(Dense(100, activation='relu'))\n",
    "model.add(Dense(Y.shape[1], activation='sigmoid'))\n",
    "model.compile(optimizer='rmsprop',loss='categorical_crossentropy', metrics=['accuracy'])\n",
    "\n",
    "model.fit(X, Y, epochs=12, batch_size=256)\n",
    "model.save(\"lmfcc_dyn_recognizer_rmsprop.h5\")"
   ]
  },
  {
   "cell_type": "code",
   "execution_count": 73,
   "metadata": {
    "scrolled": true
   },
   "outputs": [
    {
     "name": "stdout",
     "output_type": "stream",
     "text": [
      "1526682/1526682 [==============================] - 13s 8us/step\n",
      "accuracy: 73.55%\n",
      "\n",
      "Confusion Matrix\n"
     ]
    },
    {
     "data": {
      "image/png": "[encoded data removed]",
      "text/plain": [
       "<matplotlib.figure.Figure at 0x7f5d003de9b0>"
      ]
     },
     "metadata": {
      "needs_background": "light"
     },
     "output_type": "display_data"
    }
   ],
   "source": [
    "model = load_model(\"lmfcc_dyn_recognizer_rmsprop.h5\")\n",
    "score = model.evaluate(X_test, Y_test, batch_size=128)\n",
    "print(\"%s: %.2f%%\" % (model.metrics_names[1], score[1]*100))\n",
    "\n",
    "Y_pred = model.predict(X_test)\n",
    "print('\\nConfusion Matrix')\n",
    "plt.matshow(confusion_matrix(Y_test.argmax(axis=1), Y_pred.argmax(axis=1)))\n",
    "plt.show()\n",
    "\n",
    "# print('Classification Report')\n",
    "# print(classification_report(Y_test.argmax(axis=1), Y_pred.argmax(axis=1), target_names=stateList))"
   ]
  },
  {
   "cell_type": "markdown",
   "metadata": {},
   "source": [
    "### Adam"
   ]
  },
  {
   "cell_type": "code",
   "execution_count": 40,
   "metadata": {},
   "outputs": [
    {
     "name": "stdout",
     "output_type": "stream",
     "text": [
      "Epoch 1/30\n",
      "1357194/1357194 [==============================] - 16s 12us/step - loss: 1.0430 - accuracy: 0.6715\n",
      "Epoch 2/30\n",
      "1357194/1357194 [==============================] - 15s 11us/step - loss: 0.8319 - accuracy: 0.7303\n",
      "Epoch 3/30\n",
      "1357194/1357194 [==============================] - 15s 11us/step - loss: 0.7848 - accuracy: 0.7442\n",
      "Epoch 4/30\n",
      "1357194/1357194 [==============================] - 15s 11us/step - loss: 0.7587 - accuracy: 0.7519\n",
      "Epoch 5/30\n",
      "1357194/1357194 [==============================] - 15s 11us/step - loss: 0.7409 - accuracy: 0.7575\n",
      "Epoch 6/30\n",
      "1357194/1357194 [==============================] - 17s 12us/step - loss: 0.7281 - accuracy: 0.7611\n",
      "Epoch 7/30\n",
      "1357194/1357194 [==============================] - 16s 12us/step - loss: 0.7181 - accuracy: 0.7642\n",
      "Epoch 8/30\n",
      "1357194/1357194 [==============================] - 16s 11us/step - loss: 0.7098 - accuracy: 0.7666\n",
      "Epoch 9/30\n",
      "1357194/1357194 [==============================] - 18s 13us/step - loss: 0.7026 - accuracy: 0.7688\n",
      "Epoch 10/30\n",
      "1357194/1357194 [==============================] - 17s 12us/step - loss: 0.6969 - accuracy: 0.7703\n",
      "Epoch 11/30\n",
      "1357194/1357194 [==============================] - 19s 14us/step - loss: 0.6920 - accuracy: 0.7715\n",
      "Epoch 12/30\n",
      "1357194/1357194 [==============================] - 18s 13us/step - loss: 0.6877 - accuracy: 0.7730\n",
      "Epoch 13/30\n",
      "1357194/1357194 [==============================] - 16s 12us/step - loss: 0.6839 - accuracy: 0.7737\n",
      "Epoch 14/30\n",
      "1357194/1357194 [==============================] - 16s 12us/step - loss: 0.6805 - accuracy: 0.7749\n",
      "Epoch 15/30\n",
      "1357194/1357194 [==============================] - 15s 11us/step - loss: 0.6779 - accuracy: 0.7756\n",
      "Epoch 16/30\n",
      "1357194/1357194 [==============================] - 15s 11us/step - loss: 0.6749 - accuracy: 0.7765\n",
      "Epoch 17/30\n",
      "1357194/1357194 [==============================] - 15s 11us/step - loss: 0.6725 - accuracy: 0.7775\n",
      "Epoch 18/30\n",
      "1357194/1357194 [==============================] - 15s 11us/step - loss: 0.6703 - accuracy: 0.7778\n",
      "Epoch 19/30\n",
      "1357194/1357194 [==============================] - 17s 12us/step - loss: 0.6683 - accuracy: 0.7784\n",
      "Epoch 20/30\n",
      "1357194/1357194 [==============================] - 16s 12us/step - loss: 0.6665 - accuracy: 0.7789\n",
      "Epoch 21/30\n",
      "1357194/1357194 [==============================] - 16s 12us/step - loss: 0.6648 - accuracy: 0.7795\n",
      "Epoch 22/30\n",
      "1357194/1357194 [==============================] - 17s 13us/step - loss: 0.6631 - accuracy: 0.7801\n",
      "Epoch 23/30\n",
      "1357194/1357194 [==============================] - 15s 11us/step - loss: 0.6617 - accuracy: 0.7803\n",
      "Epoch 24/30\n",
      "1357194/1357194 [==============================] - 18s 13us/step - loss: 0.6602 - accuracy: 0.7808\n",
      "Epoch 25/30\n",
      "1357194/1357194 [==============================] - 18s 13us/step - loss: 0.6591 - accuracy: 0.7808\n",
      "Epoch 26/30\n",
      "1357194/1357194 [==============================] - 18s 13us/step - loss: 0.6578 - accuracy: 0.7813\n",
      "Epoch 27/30\n",
      "1357194/1357194 [==============================] - 18s 13us/step - loss: 0.6566 - accuracy: 0.7817\n",
      "Epoch 28/30\n",
      "1357194/1357194 [==============================] - 18s 13us/step - loss: 0.6554 - accuracy: 0.7819\n",
      "Epoch 29/30\n",
      "1357194/1357194 [==============================] - 18s 13us/step - loss: 0.6544 - accuracy: 0.7822\n",
      "Epoch 30/30\n",
      "1357194/1357194 [==============================] - 18s 14us/step - loss: 0.6535 - accuracy: 0.7825\n"
     ]
    }
   ],
   "source": [
    "model = Sequential()\n",
    "model.add(Dense(50, input_shape=(X.shape[1],), activation='relu') )\n",
    "model.add(Dense(100, activation='relu'))\n",
    "model.add(Dense(Y.shape[1], activation='sigmoid'))\n",
    "opt = keras.optimizers.Adamax(learning_rate=0.002, beta_1=0.9, beta_2=0.999)\n",
    "model.compile(optimizer=opt,loss='categorical_crossentropy', metrics=['accuracy'])\n",
    "hist = model.fit(X, Y, epochs=30, batch_size=256)\n",
    "model.save(\"lmfcc_dyn_recognizer_adam.h5\")"
   ]
  },
  {
   "cell_type": "code",
   "execution_count": 76,
   "metadata": {
    "scrolled": true
   },
   "outputs": [
    {
     "name": "stdout",
     "output_type": "stream",
     "text": [
      "1526682/1526682 [==============================] - 12s 8us/step\n",
      "accuracy: 75.00%\n",
      "\n",
      "Confusion Matrix\n"
     ]
    },
    {
     "data": {
      "image/png": "[encoded data removed]",
      "text/plain": [
       "<matplotlib.figure.Figure at 0x7f5cc9556c50>"
      ]
     },
     "metadata": {
      "needs_background": "light"
     },
     "output_type": "display_data"
    }
   ],
   "source": [
    "model = load_model(\"lmfcc_dyn_recognizer_adam.h5\")\n",
    "score = model.evaluate(X_test, Y_test, batch_size=128)\n",
    "print(\"%s: %.2f%%\" % (model.metrics_names[1], score[1]*100))\n",
    "\n",
    "Y_pred = model.predict(X_test)\n",
    "print('\\nConfusion Matrix')\n",
    "plt.matshow(confusion_matrix(Y_test.argmax(axis=1), Y_pred.argmax(axis=1)))\n",
    "plt.show()\n",
    "# print('Classification Report')\n",
    "# print(classification_report(Y_test.argmax(axis=1), Y_pred.argmax(axis=1), target_names=stateList))"
   ]
  },
  {
   "cell_type": "markdown",
   "metadata": {},
   "source": [
    "## Dynamic Mspec as features"
   ]
  },
  {
   "cell_type": "code",
   "execution_count": 8,
   "metadata": {},
   "outputs": [],
   "source": [
    "with np.load('datas/mspec_train_x_reg.npz', allow_pickle=True) as data:\n",
    "    X = data['lmfcc_x']\n",
    "    Y = data['targets']\n",
    "    \n",
    "    \n",
    "X = None\n",
    "Y = None\n",
    "with np.load('datas/mspec_test_x_reg.npz', allow_pickle=True) as data:\n",
    "    X_test = data['lmfcc_x']\n",
    "    Y_test = data['targets']"
   ]
  },
  {
   "cell_type": "code",
   "execution_count": 7,
   "metadata": {},
   "outputs": [
    {
     "name": "stdout",
     "output_type": "stream",
     "text": [
      "Epoch 1/15\n",
      "1357194/1357194 [==============================] - 19s 14us/step - loss: 1.0752 - accuracy: 0.6596\n",
      "Epoch 2/15\n",
      "1357194/1357194 [==============================] - 19s 14us/step - loss: 0.8389 - accuracy: 0.7273\n",
      "Epoch 3/15\n",
      "1357194/1357194 [==============================] - 18s 13us/step - loss: 0.7875 - accuracy: 0.7428\n",
      "Epoch 4/15\n",
      "1357194/1357194 [==============================] - 18s 14us/step - loss: 0.7593 - accuracy: 0.7509\n",
      "Epoch 5/15\n",
      "1357194/1357194 [==============================] - 19s 14us/step - loss: 0.7411 - accuracy: 0.7558\n",
      "Epoch 6/15\n",
      "1357194/1357194 [==============================] - 18s 13us/step - loss: 0.7275 - accuracy: 0.7596\n",
      "Epoch 7/15\n",
      "1357194/1357194 [==============================] - 19s 14us/step - loss: 0.7175 - accuracy: 0.7630\n",
      "Epoch 8/15\n",
      "1357194/1357194 [==============================] - 26s 19us/step - loss: 0.7086 - accuracy: 0.7650\n",
      "Epoch 9/15\n",
      "1357194/1357194 [==============================] - 21s 16us/step - loss: 0.7018 - accuracy: 0.7674\n",
      "Epoch 10/15\n",
      "1357194/1357194 [==============================] - 22s 16us/step - loss: 0.6957 - accuracy: 0.7688\n",
      "Epoch 11/15\n",
      "1357194/1357194 [==============================] - 23s 17us/step - loss: 0.6904 - accuracy: 0.7705\n",
      "Epoch 12/15\n",
      "1357194/1357194 [==============================] - 24s 17us/step - loss: 0.6866 - accuracy: 0.7718\n",
      "Epoch 13/15\n",
      "1357194/1357194 [==============================] - 22s 16us/step - loss: 0.6819 - accuracy: 0.7729\n",
      "Epoch 14/15\n",
      "1357194/1357194 [==============================] - 22s 16us/step - loss: 0.6786 - accuracy: 0.7742\n",
      "Epoch 15/15\n",
      "1357194/1357194 [==============================] - 23s 17us/step - loss: 0.6751 - accuracy: 0.7753\n"
     ]
    }
   ],
   "source": [
    "model = Sequential()\n",
    "model.add(Dense(50, input_shape=(X.shape[1],), activation='relu') )\n",
    "model.add(Dense(100, activation='relu'))\n",
    "model.add(Dense(Y.shape[1], activation='sigmoid'))\n",
    "opt = keras.optimizers.Adamax(learning_rate=0.002, beta_1=0.9, beta_2=0.999)\n",
    "model.compile(optimizer=opt,loss='categorical_crossentropy', metrics=['accuracy'])\n",
    "hist = model.fit(X, Y, epochs=15, batch_size=256)\n",
    "model.save(\"mspec_dyn_recognizer_adam.h5\")"
   ]
  },
  {
   "cell_type": "code",
   "execution_count": 10,
   "metadata": {
    "scrolled": false
   },
   "outputs": [
    {
     "name": "stdout",
     "output_type": "stream",
     "text": [
      "1526682/1526682 [==============================] - 14s 9us/step\n",
      "accuracy: 74.26%\n",
      "\n",
      "Confusion Matrix\n"
     ]
    },
    {
     "data": {
      "image/png": "[encoded data removed]",
      "text/plain": [
       "<matplotlib.figure.Figure at 0x7f46d8f11320>"
      ]
     },
     "metadata": {
      "needs_background": "light"
     },
     "output_type": "display_data"
    },
    {
     "name": "stdout",
     "output_type": "stream",
     "text": [
      "Classification Report\n",
      "              precision    recall  f1-score   support\n",
      "\n",
      "        ah_0       0.57      0.81      0.67     18732\n",
      "        ah_1       0.68      0.66      0.67     15513\n",
      "        ah_2       0.52      0.70      0.60     11269\n",
      "        ao_0       0.79      0.75      0.77     14732\n",
      "        ao_1       0.80      0.75      0.78     16593\n",
      "        ao_2       0.77      0.83      0.80     12841\n",
      "        ay_0       0.85      0.79      0.82     38703\n",
      "        ay_1       0.84      0.85      0.84     37216\n",
      "        ay_2       0.68      0.73      0.71     26225\n",
      "        eh_0       0.50      0.58      0.53     11809\n",
      "        eh_1       0.81      0.71      0.76      3333\n",
      "        eh_2       0.72      0.79      0.76      7243\n",
      "        ey_0       0.59      0.54      0.57      9276\n",
      "        ey_1       0.79      0.84      0.82     19208\n",
      "        ey_2       0.84      0.81      0.83     23634\n",
      "         f_0       0.73      0.65      0.69     25993\n",
      "         f_1       0.87      0.86      0.86     24580\n",
      "         f_2       0.74      0.76      0.75      8393\n",
      "        ih_0       0.56      0.47      0.51     13844\n",
      "        ih_1       0.69      0.64      0.66      4446\n",
      "        ih_2       0.85      0.80      0.83     21861\n",
      "        iy_0       0.81      0.84      0.82     25948\n",
      "        iy_1       0.71      0.78      0.75     19558\n",
      "        iy_2       0.68      0.54      0.60     13021\n",
      "         k_0       0.72      0.85      0.78      7341\n",
      "         k_1       0.81      0.69      0.75     11431\n",
      "         k_2       0.71      0.75      0.73     13216\n",
      "         n_0       0.67      0.56      0.61     25693\n",
      "         n_1       0.80      0.80      0.80     36678\n",
      "         n_2       0.67      0.62      0.65     32457\n",
      "        ow_0       0.73      0.68      0.71     25806\n",
      "        ow_1       0.80      0.86      0.83     33272\n",
      "        ow_2       0.73      0.81      0.77     42193\n",
      "         r_0       0.86      0.85      0.86     33864\n",
      "         r_1       0.78      0.76      0.77     22464\n",
      "         r_2       0.71      0.57      0.63     15492\n",
      "         s_0       0.50      0.46      0.48     14942\n",
      "         s_1       0.81      0.87      0.84     41621\n",
      "         s_2       0.58      0.42      0.49     11161\n",
      "       sil_0       0.73      0.84      0.78    142483\n",
      "       sil_1       0.81      0.88      0.84    213749\n",
      "       sil_2       0.57      0.54      0.55     93007\n",
      "        sp_0       0.47      0.19      0.27     26792\n",
      "         t_0       0.63      0.58      0.61     18264\n",
      "         t_1       0.86      0.77      0.81     19121\n",
      "         t_2       0.69      0.51      0.59     12195\n",
      "        th_0       0.55      0.52      0.54     13669\n",
      "        th_1       0.81      0.75      0.78      9115\n",
      "        th_2       0.76      0.85      0.80      6751\n",
      "        uw_0       0.80      0.84      0.82     18680\n",
      "        uw_1       0.80      0.81      0.81     15758\n",
      "        uw_2       0.60      0.60      0.60     15903\n",
      "         v_0       0.82      0.64      0.72     20304\n",
      "         v_1       0.68      0.70      0.69     13111\n",
      "         v_2       0.67      0.61      0.64     24480\n",
      "         w_0       0.77      0.52      0.62      9186\n",
      "         w_1       0.82      0.81      0.82     15588\n",
      "         w_2       0.89      0.80      0.84     15883\n",
      "         z_0       0.65      0.46      0.54      6201\n",
      "         z_1       0.82      0.77      0.79     13634\n",
      "         z_2       0.83      0.86      0.85     11206\n",
      "\n",
      "    accuracy                           0.74   1526682\n",
      "   macro avg       0.73      0.70      0.71   1526682\n",
      "weighted avg       0.74      0.74      0.74   1526682\n",
      "\n"
     ]
    }
   ],
   "source": [
    "model = load_model(\"mspec_dyn_recognizer_adam.h5\")\n",
    "score = model.evaluate(X_test, Y_test, batch_size=128)\n",
    "print(\"%s: %.2f%%\" % (model.metrics_names[1], score[1]*100))\n",
    "\n",
    "Y_pred = model.predict(X_test)\n",
    "print('\\nConfusion Matrix')\n",
    "plt.matshow(confusion_matrix(Y_test.argmax(axis=1), Y_pred.argmax(axis=1)))\n",
    "plt.show()\n",
    "print('Classification Report')\n",
    "print(classification_report(Y_test.argmax(axis=1), Y_pred.argmax(axis=1), target_names=stateList))"
   ]
  }
 ],
 "metadata": {
  "kernelspec": {
   "display_name": "Python 3",
   "language": "python",
   "name": "python3"
  },
  "language_info": {
   "codemirror_mode": {
    "name": "ipython",
    "version": 3
   },
   "file_extension": ".py",
   "mimetype": "text/x-python",
   "name": "python",
   "nbconvert_exporter": "python",
   "pygments_lexer": "ipython3",
   "version": "3.6.9"
  }
 },
 "nbformat": 4,
 "nbformat_minor": 4
}
