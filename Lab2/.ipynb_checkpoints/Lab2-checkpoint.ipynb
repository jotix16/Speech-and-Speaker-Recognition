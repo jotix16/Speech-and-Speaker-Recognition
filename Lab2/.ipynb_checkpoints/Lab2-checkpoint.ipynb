{
 "cells": [
  {
   "cell_type": "code",
   "execution_count": 19,
   "metadata": {},
   "outputs": [
    {
     "name": "stdout",
     "output_type": "stream",
     "text": [
      "Populating the interactive namespace from numpy and matplotlib\n"
     ]
    }
   ],
   "source": [
    "import numpy as np\n",
    "from lab2_tools import *\n",
    "from lab2_proto import *\n",
    "%pylab inline\n",
    "pylab.rcParams['figure.figsize'] = (15, 4)"
   ]
  },
  {
   "cell_type": "code",
   "execution_count": 20,
   "metadata": {},
   "outputs": [
    {
     "data": {
      "text/plain": [
       "{'filename': '/home/giampi/corpora/tidigits/disc_4.2.1/tidigits/test/man/bm/ob.wav',\n",
       " 'samplingrate': 20000,\n",
       " 'gender': 'man',\n",
       " 'speaker': 'bm',\n",
       " 'digit': 'o',\n",
       " 'repetition': 'b',\n",
       " 'samples': array([  0,   0,   4, ..., -14, -12, -11], dtype=int16),\n",
       " 'lmfcc': array([[ 7.56555613e+01, -5.09331318e+01,  1.24373167e+02,\n",
       "          8.66860927e+01,  6.09990191e+01, -5.33969397e+01,\n",
       "         -1.89216728e+02, -1.37867835e+02, -7.23267739e+01,\n",
       "          3.94520921e+01,  1.13737888e+02,  3.04398336e+00,\n",
       "         -6.25438677e+01],\n",
       "        [ 5.54727432e+01, -1.14905061e+02,  3.59956427e+01,\n",
       "         -1.29660924e+00,  5.43764725e+01, -3.32124391e+01,\n",
       "         -6.15839914e+01, -2.12368930e+01, -7.28300982e+01,\n",
       "          3.19687566e+01,  1.21250775e+02,  7.25747558e+01,\n",
       "         -1.21176972e+02],\n",
       "        [ 9.94282664e+01, -7.63122361e+01,  4.27260216e+01,\n",
       "          6.05804293e+01,  1.08758943e+02,  2.85820740e+01,\n",
       "         -1.11697296e+02, -1.00265732e+02, -2.26597333e+01,\n",
       "          4.13450228e+01,  2.00229154e+01, -2.76267262e+01,\n",
       "         -1.26935576e+01],\n",
       "        [ 7.08082350e+01, -1.12038975e+02,  5.76776889e+01,\n",
       "          3.45562934e+01, -3.01484020e+01, -1.39010052e+02,\n",
       "         -5.12793545e+01,  7.61686295e+01,  7.97327060e+01,\n",
       "         -1.54754583e+02, -3.82450737e+01, -6.41613019e+01,\n",
       "         -6.51938345e+01],\n",
       "        [ 7.08370763e+01, -8.93586177e+01,  7.85480218e+01,\n",
       "          2.22024538e+00,  1.05068620e+01, -6.06709218e+01,\n",
       "         -1.85560252e+01, -1.82344206e+02, -3.75632683e+01,\n",
       "         -4.35787702e+01, -4.56161824e+01,  9.19465942e+01,\n",
       "         -1.36258792e+01],\n",
       "        [ 4.30080138e+01, -1.26338502e+02,  3.59826836e+01,\n",
       "         -1.02698773e+02, -8.49251416e+00, -4.47554689e+01,\n",
       "         -1.13269724e+02, -4.15736004e+01, -2.74659964e+01,\n",
       "          1.20233815e+00,  7.81061700e+01, -1.13613903e+02,\n",
       "          8.49287258e+01],\n",
       "        [ 4.53545258e+01, -7.93968060e+01,  6.58069322e+01,\n",
       "          3.46509044e+01, -2.69619801e+01, -1.14594677e+02,\n",
       "         -2.08444212e+02, -1.66925239e+02, -2.38541760e+01,\n",
       "          5.50901621e+01,  4.04660671e-02, -4.42819945e+01,\n",
       "         -7.33179596e+01],\n",
       "        [ 6.02893996e+01, -1.06708097e+02,  3.86822929e+01,\n",
       "          1.42040361e+01,  1.05228808e+01, -1.57168771e+02,\n",
       "         -1.04225684e+02, -3.42340476e+01, -1.24182759e+02,\n",
       "          9.05903059e+01,  4.62806898e+01,  2.73567999e+01,\n",
       "          4.99503224e+01],\n",
       "        [ 8.03211627e+01, -9.71973092e+01,  6.94103805e+01,\n",
       "          3.03553874e+01, -3.58879886e+01, -5.45142300e+01,\n",
       "         -1.28474092e+02, -3.86306740e+01,  6.85080937e+01,\n",
       "          1.03336795e+01,  3.67369300e+01, -9.18867599e-02,\n",
       "         -1.75791435e+01],\n",
       "        [ 1.28448658e+02, -9.66116394e+01, -2.00404520e+02,\n",
       "          6.97024515e+01,  1.68506514e+02, -3.62339412e+01,\n",
       "         -1.50791531e+02,  6.41351113e+01,  3.10340725e+02,\n",
       "         -2.17354095e+01, -1.71427288e+02,  1.68326514e+02,\n",
       "          1.07160577e+02],\n",
       "        [ 7.81188160e+01, -5.75423568e+01,  9.71838107e+01,\n",
       "          2.10322836e+01,  8.41006495e+01, -2.77994860e+01,\n",
       "         -1.30309710e+02, -1.37468563e+02, -8.24154814e-01,\n",
       "         -1.81191695e+02, -8.74233662e+01,  7.67233146e+01,\n",
       "          1.52478796e+02],\n",
       "        [ 3.93914288e+01, -1.25398584e+02,  8.42393910e+01,\n",
       "         -1.42507011e+01,  4.29952389e+01, -6.30414375e+01,\n",
       "          1.14810368e+01,  4.64177166e+01, -8.98463026e+01,\n",
       "         -1.55445817e+02,  3.79635818e+01,  1.99541367e+02,\n",
       "         -5.80379982e+01],\n",
       "        [ 4.60299701e+01, -1.43780421e+02,  3.25821185e+01,\n",
       "          1.12303773e+02,  7.85378360e+01, -7.49523272e+01,\n",
       "         -1.22199203e+02, -2.15724523e+01, -2.47564837e+01,\n",
       "         -5.50747424e+01, -4.84529849e+01, -1.14785149e+02,\n",
       "          6.61092411e+01],\n",
       "        [ 7.21933609e+01, -1.06921571e+02,  2.76094578e+01,\n",
       "          2.84806118e+01,  1.10729992e+02,  6.26524146e+01,\n",
       "         -1.03618670e+01, -1.43004370e+02, -1.82752793e+02,\n",
       "         -1.30222165e+02,  6.40248258e+01,  1.88047356e+02,\n",
       "          1.39455719e+02],\n",
       "        [ 5.30813145e+01, -1.14772029e+02,  1.57042324e+01,\n",
       "          2.01470226e+01,  3.85610108e+01, -1.99642417e+01,\n",
       "          1.19570282e+01, -1.44975322e+02, -4.14578590e+01,\n",
       "         -1.69145479e+02,  1.13729924e+01,  1.54123800e+02,\n",
       "          1.40226418e+02],\n",
       "        [ 6.53607137e+01, -1.01729188e+02,  4.28695591e+01,\n",
       "          5.23074999e-01,  5.59878992e+01,  3.45258311e+00,\n",
       "          1.51231459e+01, -5.74515710e+01, -9.64415234e+00,\n",
       "         -4.37203578e+01, -4.49815919e+01, -9.39444568e+00,\n",
       "          8.35060250e+01],\n",
       "        [ 4.57117619e+01, -1.42787758e+02,  5.33629043e+00,\n",
       "          6.76977705e+01,  1.29122183e+02,  2.72529007e+01,\n",
       "         -9.46087695e+01, -9.33771935e+01, -9.37031092e+01,\n",
       "         -4.74038127e+01,  1.37886842e+02,  7.33251227e+01,\n",
       "          7.57805651e+00],\n",
       "        [ 3.88253672e+01, -1.23239314e+02,  6.12609230e+01,\n",
       "         -1.20868988e+01,  5.75071289e+01, -8.13556287e+01,\n",
       "          1.09094643e+00, -8.27042574e+01, -6.78530224e+01,\n",
       "          8.01485105e+01, -1.00721430e+02, -8.82625387e+00,\n",
       "          6.90308894e+01],\n",
       "        [ 8.87936572e+01, -1.21751345e+02,  2.65267646e+01,\n",
       "          2.73935367e+01,  2.56190104e+01, -2.35488366e+00,\n",
       "         -1.99550106e+01, -7.49414880e+01, -4.40030082e+01,\n",
       "          3.98426609e+01, -5.10069882e+00,  3.62648254e+01,\n",
       "          9.57868470e+01],\n",
       "        [ 1.85547778e+02, -1.99198348e+02, -1.46087964e+02,\n",
       "         -1.43024312e+01,  1.00937122e+01,  1.58681915e+02,\n",
       "          1.15846583e+02, -2.40968271e+02, -2.62973376e+02,\n",
       "          5.72999639e+01,  2.44345751e+02, -1.94975438e+02,\n",
       "         -2.25609942e+01],\n",
       "        [ 2.38738770e+02,  1.22034376e+00, -2.75490528e+01,\n",
       "         -7.44989594e+01, -1.59673414e+02,  2.40962809e+01,\n",
       "          2.43308766e+01, -2.67524529e+00, -9.47964156e+01,\n",
       "          2.31893050e+02,  2.53075550e+02, -1.00643025e+02,\n",
       "         -1.36058478e+01],\n",
       "        [ 4.98339871e+02,  1.44701452e+02,  5.08756931e+01,\n",
       "          3.67095830e+01, -6.12355419e+01,  2.38793994e+01,\n",
       "         -7.53321490e+01,  1.92382866e+01, -1.37709915e+02,\n",
       "          1.30736698e+02,  1.19638368e+02, -6.84016768e+01,\n",
       "         -1.08268149e+01],\n",
       "        [ 7.82273914e+02,  3.47519069e+02, -1.08599349e+02,\n",
       "          3.61889718e+01, -3.24487600e+02, -3.65581258e+00,\n",
       "          3.01049431e+01, -2.39429786e+01, -2.94834902e+02,\n",
       "          1.64309240e+02,  2.45599573e+02,  3.66904398e+01,\n",
       "         -5.07062210e+01],\n",
       "        [ 9.37795327e+02,  3.22698131e+02, -2.40132222e+02,\n",
       "          1.10895063e+02, -3.70022660e+02,  2.49883902e+00,\n",
       "          2.01832987e+01, -1.67915696e+02, -2.40291079e+02,\n",
       "          2.48105603e+02,  2.06808884e+02,  5.68132192e+01,\n",
       "          2.42894958e+01],\n",
       "        [ 9.64403240e+02,  3.49087988e+02, -2.26235180e+02,\n",
       "          6.00042488e+01, -3.84645508e+02,  7.59055608e+01,\n",
       "         -8.44805145e+00, -1.65381884e+02, -3.21613014e+02,\n",
       "          2.89480049e+02,  1.42771217e+02,  1.91296512e+02,\n",
       "         -3.16350068e+00],\n",
       "        [ 9.85768840e+02,  3.40396968e+02, -2.04613653e+02,\n",
       "          4.05925280e+01, -3.47321220e+02,  4.24449809e+01,\n",
       "          3.34644907e+01, -2.25578400e+02, -3.56650555e+02,\n",
       "          3.02162560e+02,  1.73951599e+02,  1.58228893e+02,\n",
       "          8.61091204e+01],\n",
       "        [ 1.00684348e+03,  3.35463993e+02, -1.95278287e+02,\n",
       "          8.48089343e+00, -3.33137505e+02, -3.31699358e+01,\n",
       "          1.38318278e+02, -2.82852629e+02, -3.50317584e+02,\n",
       "          3.02263930e+02,  1.49714927e+02,  1.67300845e+02,\n",
       "          1.08835896e+02],\n",
       "        [ 1.00133382e+03,  3.24518391e+02, -1.85210125e+02,\n",
       "          3.82486171e+01, -3.09434779e+02, -1.13842490e+02,\n",
       "          1.61220781e+02, -2.35584353e+02, -3.40862641e+02,\n",
       "          1.99531736e+02,  2.04352795e+02,  1.93694560e+02,\n",
       "          1.00403261e+02],\n",
       "        [ 9.78871169e+02,  3.69537446e+02, -1.77108932e+02,\n",
       "          9.89723693e-01, -3.30299412e+02, -1.03622068e+02,\n",
       "          1.13233908e+02, -1.69478427e+02, -3.91984942e+02,\n",
       "          2.03546975e+02,  2.19825433e+02,  2.12467081e+02,\n",
       "          1.19784543e+02],\n",
       "        [ 9.87307303e+02,  3.40181190e+02, -1.66459212e+02,\n",
       "          6.69772184e+01, -4.00128234e+02, -4.98276037e+01,\n",
       "          6.34262381e+01, -1.48045344e+02, -3.02989214e+02,\n",
       "          8.61952371e+01,  2.48711332e+02,  1.77927540e+02,\n",
       "          1.69831044e+02],\n",
       "        [ 9.63631158e+02,  3.69996100e+02, -1.62397436e+02,\n",
       "          6.80050239e+01, -4.02307810e+02, -4.24889593e+01,\n",
       "          1.05190439e+02, -1.50144232e+02, -4.37098808e+02,\n",
       "          1.48071695e+02,  1.64165954e+02,  2.50708800e+02,\n",
       "          1.82278121e+02],\n",
       "        [ 9.61013016e+02,  3.74065722e+02, -1.60250754e+02,\n",
       "          6.86499131e+01, -3.60029222e+02, -8.70245321e+01,\n",
       "          1.14644100e+02, -1.58395620e+02, -3.77637042e+02,\n",
       "          1.57468208e+02,  8.81693806e+01,  1.61677703e+02,\n",
       "          2.40652360e+02],\n",
       "        [ 9.55827755e+02,  3.72391063e+02, -1.41642772e+02,\n",
       "          8.75072516e+01, -3.79203286e+02, -7.27219116e+01,\n",
       "          7.97161796e+01, -1.27974199e+02, -3.43824143e+02,\n",
       "          5.44497678e+01,  5.15115080e+01,  1.86032687e+02,\n",
       "          2.35574232e+02],\n",
       "        [ 9.54034456e+02,  3.97151564e+02, -1.85714473e+02,\n",
       "          7.83682986e+01, -3.49579526e+02, -7.01303185e+01,\n",
       "          3.22615855e+01, -7.85343649e+01, -2.88732776e+02,\n",
       "         -9.76222853e+01,  2.05443609e+01,  3.05257815e+02,\n",
       "          1.28868611e+02],\n",
       "        [ 9.48824343e+02,  3.76160156e+02, -1.28005308e+02,\n",
       "          5.27151162e+01, -3.31259653e+02, -8.79992428e+01,\n",
       "          2.60501149e+01, -6.90170590e+01, -2.53381402e+02,\n",
       "         -1.77068538e+02,  3.13756477e+01,  2.66027319e+02,\n",
       "          1.41723963e+02],\n",
       "        [ 9.44701496e+02,  3.59773675e+02, -8.84334596e+01,\n",
       "         -3.53519208e+00, -2.99447916e+02, -1.07410584e+02,\n",
       "          4.31751770e+01, -1.76769033e+01, -2.99215436e+02,\n",
       "         -2.15698878e+02,  4.30290684e+01,  1.66462872e+02,\n",
       "          1.96382586e+02],\n",
       "        [ 9.34920106e+02,  3.27431727e+02,  4.23315558e+00,\n",
       "         -7.41626118e+01, -3.02039865e+02, -1.05876553e+02,\n",
       "          8.35663817e+01, -8.28617680e+01, -2.26974242e+02,\n",
       "         -2.31080282e+02, -3.91155766e+01,  1.75381591e+02,\n",
       "          1.66933721e+02],\n",
       "        [ 8.58567751e+02,  4.40310390e+02, -1.16661464e+02,\n",
       "          2.90412600e+00, -3.38968405e+02, -9.64097848e+01,\n",
       "          9.06184730e+01, -2.37158964e+01, -2.65045756e+02,\n",
       "         -1.22868232e+02, -1.86599848e+02,  1.75895183e+02,\n",
       "          1.24965725e+02],\n",
       "        [ 8.46287617e+02,  4.06539924e+02, -1.44388654e+02,\n",
       "          1.60763017e+02, -4.34946164e+02, -2.94110973e+01,\n",
       "          3.01736784e+00,  4.96724486e+01, -2.16724361e+02,\n",
       "         -1.53619325e+02, -1.72965374e+02,  1.32500736e+02,\n",
       "          5.75547216e+01],\n",
       "        [ 8.49107446e+02,  3.54650274e+02, -5.93412841e+01,\n",
       "          1.45033221e+02, -4.03223227e+02, -9.98699333e+01,\n",
       "          1.84999455e+01,  3.63620148e+01, -9.19528118e+01,\n",
       "         -1.87218224e+02, -1.87970525e+02,  7.63404615e+01,\n",
       "          3.28634311e+01],\n",
       "        [ 7.86692949e+02,  3.89928451e+02, -5.58142703e+01,\n",
       "          1.98621711e+02, -4.44881282e+02, -2.29171321e+01,\n",
       "         -7.36645864e+01,  7.14839001e+01, -2.65408404e+01,\n",
       "         -2.01140120e+02, -1.45250191e+02,  7.08777973e+01,\n",
       "         -3.11213508e+01],\n",
       "        [ 7.63381655e+02,  3.84676554e+02,  1.81628560e+01,\n",
       "          1.23936119e+02, -2.91848142e+02, -1.60741682e+02,\n",
       "         -2.03579695e+01, -3.90719329e+01,  1.09915293e+02,\n",
       "         -2.13050311e+02, -1.04352946e+02,  7.28596977e+01,\n",
       "         -1.79404499e+02],\n",
       "        [ 7.33587907e+02,  3.03269619e+02,  1.38437553e+02,\n",
       "          4.10828228e+01, -2.06166377e+02, -1.43154157e+02,\n",
       "         -7.29401524e+01,  2.41303405e+01,  1.00401821e+02,\n",
       "         -1.59938423e+02, -6.92737404e+01,  2.16723503e+01,\n",
       "         -1.43426000e+02],\n",
       "        [ 7.03418703e+02,  3.75152377e+02,  1.54361141e+02,\n",
       "          1.39522394e+02, -2.80022558e+02, -1.85783170e+02,\n",
       "         -5.43188292e+01,  5.99203453e+01,  1.23481189e+02,\n",
       "         -2.85678043e+02, -1.27255173e+01,  5.62388843e+01,\n",
       "         -1.77546262e+02],\n",
       "        [ 4.59670183e+02,  3.41929419e+02,  2.52536267e+02,\n",
       "          2.50662747e+02, -1.58895026e+02, -1.96868422e+01,\n",
       "         -1.49869234e+02,  1.09112612e+02,  7.47430628e+01,\n",
       "         -1.36221923e+02,  4.75425378e+01, -8.60601531e+01,\n",
       "         -1.85727334e+02],\n",
       "        [ 4.83905839e+02,  4.26157673e+02,  2.64864595e+02,\n",
       "          1.27970703e+02, -2.03719614e+02, -1.39430370e+02,\n",
       "         -1.53623163e+02,  1.66477563e+02,  2.04580893e+02,\n",
       "         -4.91142342e+01,  1.55231523e+02, -2.17034992e+02,\n",
       "         -1.08157620e+02],\n",
       "        [ 4.43014850e+02,  2.68747935e+02,  2.25841765e+02,\n",
       "          8.77024819e+01, -8.61869806e+01, -1.69116217e+02,\n",
       "          1.92447699e+01,  1.48494396e+02,  1.62404499e+02,\n",
       "          1.42899285e+02,  6.72695746e+01, -4.84802273e+01,\n",
       "         -2.64899893e+01],\n",
       "        [ 4.09253581e+02,  1.84052915e+02,  1.38491815e+02,\n",
       "          8.15381404e+01, -7.62924587e+00, -3.55165790e+00,\n",
       "          1.72729198e+02,  2.77721355e+02,  3.05744604e+02,\n",
       "          2.06228005e+02,  3.41571156e+01, -1.37864734e+02,\n",
       "         -1.49422913e+02],\n",
       "        [ 3.60664105e+02,  1.21782494e+02,  8.38998156e+01,\n",
       "          1.54156694e+01, -5.63451196e+01, -5.97976882e+01,\n",
       "          2.92974625e+01,  8.62748739e+01,  6.73419401e+01,\n",
       "         -1.24658076e+01,  5.10924934e+01, -5.69281534e+00,\n",
       "         -2.92462130e+01],\n",
       "        [ 2.96470777e+02,  1.57666596e+02,  6.48095177e+01,\n",
       "         -6.10670893e+01, -5.91358593e+01, -6.02625548e+01,\n",
       "          1.19190582e+01,  6.41683706e+01,  8.52575395e+01,\n",
       "         -8.27198078e+01,  6.56718488e+01,  7.00427382e+01,\n",
       "         -1.18881001e+02],\n",
       "        [ 2.77351275e+02,  1.60397768e+02,  3.66168680e+01,\n",
       "         -3.76929779e+01, -4.31759687e+01, -1.48773678e+02,\n",
       "         -1.60652222e+02, -1.27233743e+01,  8.41439255e+01,\n",
       "          6.99210596e+01,  1.52485310e+02, -2.15298120e+01,\n",
       "          8.45450830e+00],\n",
       "        [ 2.64392426e+02,  1.36509768e+02, -3.98285640e+01,\n",
       "         -6.50965260e+01,  2.23326610e+01, -1.26075380e+02,\n",
       "         -9.85493153e+01, -1.18151879e+01,  1.08557549e+02,\n",
       "          1.35433924e+02,  1.90090913e+01, -1.01265342e+02,\n",
       "         -6.69225222e+01],\n",
       "        [ 2.51815400e+02,  1.34424539e+02,  2.97285489e+01,\n",
       "         -5.50559496e+01, -4.61579417e+01, -5.80775205e+01,\n",
       "         -1.10473705e+02,  6.67839439e+01,  9.15917519e+01,\n",
       "         -3.29347811e+01,  1.00402319e+02,  6.73969381e+01,\n",
       "         -8.00089779e+01],\n",
       "        [ 2.60670773e+02,  1.38481031e+02, -2.65536772e+00,\n",
       "         -1.10519012e+02, -1.13874930e+02, -1.23522966e+02,\n",
       "         -1.27769967e+02,  8.62683055e+01,  1.88605229e+02,\n",
       "          1.34623815e+01,  2.59150884e+02,  1.80782431e+02,\n",
       "          1.10562439e+02],\n",
       "        [ 2.51836881e+02,  9.48701846e+01, -3.39278213e+01,\n",
       "         -7.77048525e+01,  2.33196621e+01, -8.81481018e+01,\n",
       "         -5.02855612e+01,  6.63020114e+01,  1.64496757e+02,\n",
       "          6.28284224e+01,  2.11035624e+02, -5.92345957e+00,\n",
       "         -3.50374083e+01],\n",
       "        [ 2.10123603e+02,  9.21053516e+01,  2.16167961e+01,\n",
       "          1.24949133e+01,  1.88433030e+01, -8.26026099e+01,\n",
       "         -1.01012451e+02,  4.82612404e+00,  2.30424987e+02,\n",
       "          7.35645388e+01,  5.00487677e+01, -4.11424558e+01,\n",
       "         -6.07277252e+00],\n",
       "        [ 2.05446466e+02,  1.00319160e+02,  8.10055899e+01,\n",
       "          1.25741038e+01,  7.69655185e+01, -1.12539503e+02,\n",
       "         -2.01961098e+02,  5.80898210e+00,  1.88397577e+02,\n",
       "         -6.41948354e+01,  3.00583185e+01, -7.37396003e+00,\n",
       "         -1.09315669e+02],\n",
       "        [ 2.08122349e+02,  1.04951953e+02,  4.95118484e+01,\n",
       "         -2.58358291e+01, -3.84215250e-01, -4.19600625e+01,\n",
       "         -1.12786931e+01, -2.68767004e+01,  2.23698591e+02,\n",
       "          1.58527763e+02,  6.45471114e+01,  7.48100586e+01,\n",
       "         -4.03911221e+01],\n",
       "        [ 2.22177284e+02,  1.23398532e+02,  9.54184759e+01,\n",
       "         -4.25611336e+01, -5.23237690e+01, -4.52500424e+01,\n",
       "         -1.41966973e+02, -1.65948250e+02,  8.38653649e+01,\n",
       "         -2.85382206e+01, -1.80839644e+01, -8.31800534e+01,\n",
       "         -1.30879306e+02],\n",
       "        [ 2.21668248e+02,  7.93315472e+01,  8.61079051e+01,\n",
       "         -2.35736566e+01,  1.39395735e+01, -6.93844967e+00,\n",
       "          7.47059218e+01,  4.86601540e+01,  6.80143158e+01,\n",
       "         -7.81870905e+01,  7.79540837e+01,  1.52235346e+02,\n",
       "          1.50156894e+01],\n",
       "        [ 1.99998861e+02,  9.10171184e+01,  1.09993260e+02,\n",
       "         -1.98370567e+01,  2.79367861e+01, -2.62606119e+01,\n",
       "         -4.29846140e+01,  9.41881910e+01,  2.14766522e+02,\n",
       "         -4.66913241e+01, -1.12615026e+02,  3.01135884e+00,\n",
       "          9.80370897e+01],\n",
       "        [ 1.90996802e+02,  9.46027807e+01,  6.87202876e+01,\n",
       "         -4.58421681e+01,  2.81955012e+01,  4.37730807e+00,\n",
       "          6.55378793e+01,  1.33744508e+02,  8.43427319e+01,\n",
       "          1.04007328e+02,  1.07222925e+02,  2.75908326e+01,\n",
       "          1.35618673e+01],\n",
       "        [ 1.92347780e+02,  1.17722785e+02,  9.03391707e+01,\n",
       "         -5.74463573e+01, -1.00592402e+02, -1.30983522e+02,\n",
       "          8.21923187e+01,  1.59639928e+02, -2.72471406e+01,\n",
       "         -1.60722919e+02, -9.40440572e+01,  1.01168574e+02,\n",
       "          4.66335740e+01],\n",
       "        [ 1.53993938e+02,  4.96708285e+01,  6.50726815e+01,\n",
       "         -4.03276426e+01,  3.13174365e+01,  1.11453944e+02,\n",
       "          8.36463397e+01,  9.36664573e+01,  5.42856614e+00,\n",
       "         -1.16202295e+02, -7.83444284e+01,  3.13256123e+00,\n",
       "         -1.20608247e+01],\n",
       "        [ 1.55981509e+02,  6.50238939e+01,  1.21777077e+02,\n",
       "          4.81805506e+01,  6.20495959e+01,  6.12796674e+01,\n",
       "          1.53134582e+02,  1.59500620e+02,  1.15985448e+02,\n",
       "         -9.06554996e+01, -1.00980617e+02, -6.25239024e+00,\n",
       "         -7.80654018e+01],\n",
       "        [ 1.47511091e+02,  4.61290775e+01,  6.93645168e+01,\n",
       "          4.83886518e+00,  8.92734847e+01,  9.88051189e+01,\n",
       "          8.30197655e+01,  8.55242822e+00,  5.40215467e+01,\n",
       "         -1.17243266e+02,  1.31417120e+02,  2.52466271e+02,\n",
       "          1.75966379e+02],\n",
       "        [ 1.74396689e+02,  4.76585576e+01,  1.04439990e+02,\n",
       "          5.64510727e+01,  1.93304731e+02, -7.21996678e+00,\n",
       "          1.22943299e+02,  1.09411533e+02,  1.14534856e+02,\n",
       "          2.55322854e+01,  8.73476481e+01,  1.66172309e+02,\n",
       "          1.97048647e+01],\n",
       "        [ 1.37019407e+02, -4.19504453e+00,  5.65805539e+01,\n",
       "          8.44731612e+00,  5.23911681e+01,  3.74027418e+01,\n",
       "          1.40229162e+01,  2.40508872e+01,  4.93733362e+01,\n",
       "          2.08288456e+02,  7.13932389e+01,  1.43089254e+02,\n",
       "          2.09133980e+01],\n",
       "        [ 1.06930250e+02,  5.13900313e+01,  1.90986926e+02,\n",
       "          1.08569183e+02,  7.51404605e+01,  1.81041492e+01,\n",
       "         -7.61958524e+00, -2.19897069e+01,  4.59817630e+01,\n",
       "          6.81089376e+01,  1.72453797e+02,  1.76880712e+02,\n",
       "          7.84008718e+01],\n",
       "        [ 1.18475618e+02, -7.22119741e-01,  1.04546318e+02,\n",
       "          2.69007873e+01, -2.18945809e+01, -2.05833064e+01,\n",
       "         -3.97129146e+01, -6.26240527e+01,  1.14159380e+02,\n",
       "         -2.74123808e+01,  1.96790239e+01,  1.03896748e+02,\n",
       "         -3.35504601e+00],\n",
       "        [ 9.43190204e+01, -2.20472942e+01,  8.54194367e+01,\n",
       "         -3.45054755e+00,  2.17748282e+01,  8.47529365e+00,\n",
       "          5.50473684e+01, -2.66669130e+01,  6.97928746e+00,\n",
       "          4.03209674e+00,  4.91167208e+01,  1.15929081e+02,\n",
       "          3.08553436e+01],\n",
       "        [ 1.01197220e+02,  2.68517092e+00,  1.62663091e+02,\n",
       "          4.19605100e+01,  1.87749183e+02,  2.82581424e+01,\n",
       "         -9.79324357e+00, -3.74326277e+01,  9.25580748e+01,\n",
       "          7.08349254e+01,  2.57922323e+01,  1.11270218e+02,\n",
       "          1.28807935e+02],\n",
       "        [ 9.51272052e+01, -7.12619451e+01,  6.70897466e+01,\n",
       "          6.92357696e+01,  8.08660126e+01,  9.00326544e+01,\n",
       "          3.57627287e+00,  1.76059086e+01,  6.35240029e+00,\n",
       "         -3.59298626e+00, -9.51933204e+01, -1.08011050e+02,\n",
       "         -9.44563004e+01],\n",
       "        [ 1.13322619e+02, -1.41995905e+01,  1.28827491e+02,\n",
       "          9.29265770e+01,  6.29670682e+01,  2.62974477e+00,\n",
       "          2.67634408e+01,  6.16665071e+01, -1.49887780e+01,\n",
       "         -4.23092879e+01, -1.20139281e+01,  6.57599261e+01,\n",
       "          1.23963445e+02]])}"
      ]
     },
     "execution_count": 20,
     "metadata": {},
     "output_type": "execute_result"
    }
   ],
   "source": [
    "data = np.load('lab2_data.npz',allow_pickle=True)['data']\n",
    "data[1]"
   ]
  },
  {
   "cell_type": "code",
   "execution_count": 21,
   "metadata": {},
   "outputs": [],
   "source": [
    "# Load parameters\n",
    "phoneHMMs_all = np.load('lab2_models_all.npz',allow_pickle=True)['phoneHMMs'].item()\n",
    "\n",
    "phoneHMMs_one = load('lab2_models_onespkr.npz',allow_pickle=True)['phoneHMMs'].item()\n",
    "\n",
    "\n"
   ]
  },
  {
   "cell_type": "code",
   "execution_count": 22,
   "metadata": {},
   "outputs": [
    {
     "name": "stdout",
     "output_type": "stream",
     "text": [
      "dict_keys(['filename', 'samplingrate', 'gender', 'speaker', 'digit', 'repetition', 'samples', 'lmfcc', 'obsloglik', 'logalpha', 'loglik', 'vloglik', 'vpath', 'logbeta', 'loggamma'])\n"
     ]
    }
   ],
   "source": [
    "# Load example data\n",
    "example = load('lab2_example.npz',allow_pickle=True)['example'].item()\n",
    "print(example.keys())\n",
    "samplingrate_ex = example['samplingrate']\n",
    "gender_ex = example['gender']\n",
    "speaker_ex = example['speaker']\n",
    "digit_ex = example['digit']\n",
    "repetition_ex = example['repetition']\n",
    "samples_ex = example['samples']\n",
    "lmfcc_ex = example['lmfcc']\n",
    "obsloglik_ex = example['obsloglik']\n",
    "logalpha_ex = example['logalpha']\n",
    "loglik_ex = example['loglik']\n",
    "vloglik_ex = example['vloglik']\n",
    "vpath_ex = example['vpath']\n",
    "logbeta_ex = example['logbeta']\n",
    "loggamma_ex = example['loggamma']"
   ]
  },
  {
   "cell_type": "code",
   "execution_count": 23,
   "metadata": {},
   "outputs": [
    {
     "name": "stdout",
     "output_type": "stream",
     "text": [
      "['ah', 'ao', 'ay', 'eh', 'ey', 'f', 'ih', 'iy', 'k', 'n', 'ow', 'r', 's', 'sil', 'sp', 't', 'th', 'uw', 'v', 'w', 'z']\n",
      "dict_keys(['name', 'startprob', 'transmat', 'means', 'covars'])\n"
     ]
    }
   ],
   "source": [
    "print(list(sorted(phoneHMMs_one.keys())))\n",
    "print(phoneHMMs_one['sp'].keys())\n"
   ]
  },
  {
   "cell_type": "code",
   "execution_count": 24,
   "metadata": {
    "scrolled": true
   },
   "outputs": [
    {
     "name": "stdout",
     "output_type": "stream",
     "text": [
      "(3, 13)\n",
      "(3, 13)\n",
      "[1. 0. 0. 0.]\n"
     ]
    }
   ],
   "source": [
    "covars = phoneHMMs_one['sil']['covars']\n",
    "means = phoneHMMs_one['ow']['means']\n",
    "print(np.array(covars).shape) # diagonal covariance matrixs stored as rows\n",
    "print(np.array(means).shape) \n",
    "print(phoneHMMs_one['eh']['startprob'])"
   ]
  },
  {
   "cell_type": "code",
   "execution_count": 25,
   "metadata": {},
   "outputs": [
    {
     "name": "stdout",
     "output_type": "stream",
     "text": [
      "{'o': ['sil', 'ow', 'sil'], 'z': ['sil', 'z', 'iy', 'r', 'ow', 'sil'], '1': ['sil', 'w', 'ah', 'n', 'sil'], '2': ['sil', 't', 'uw', 'sil'], '3': ['sil', 'th', 'r', 'iy', 'sil'], '4': ['sil', 'f', 'ao', 'r', 'sil'], '5': ['sil', 'f', 'ay', 'v', 'sil'], '6': ['sil', 's', 'ih', 'k', 's', 'sil'], '7': ['sil', 's', 'eh', 'v', 'ah', 'n', 'sil'], '8': ['sil', 'ey', 't', 'sil'], '9': ['sil', 'n', 'ay', 'n', 'sil']}\n"
     ]
    }
   ],
   "source": [
    "from prondict import *\n",
    "isolated = {}\n",
    "for digit in prondict.keys():\n",
    "    isolated[digit] = ['sil'] + prondict[digit] + ['sil']\n",
    "print(isolated)"
   ]
  },
  {
   "cell_type": "markdown",
   "metadata": {},
   "source": [
    "## 4) Concatinating HMMs"
   ]
  },
  {
   "cell_type": "code",
   "execution_count": 26,
   "metadata": {},
   "outputs": [],
   "source": [
    "hmm1 = phoneHMMs_one['f']\n",
    "hmm2 = phoneHMMs_one['sp']"
   ]
  },
  {
   "cell_type": "code",
   "execution_count": 27,
   "metadata": {},
   "outputs": [
    {
     "name": "stdout",
     "output_type": "stream",
     "text": [
      "[[0.8437548 0.1562452 0.        0.       ]\n",
      " [0.        0.7090222 0.2909778 0.       ]\n",
      " [0.        0.        0.3064214 0.6935785]\n",
      " [0.        0.        0.        1.       ]]\n",
      "\n",
      "[[0.8144019 0.1855981]\n",
      " [0.        1.       ]]\n",
      "\n",
      "\n",
      "[1. 0. 0. 0.]\n",
      "[0.2403483 0.7596517]\n",
      "\n",
      "==========================================================\n",
      "==========================================================\n",
      "\n",
      "[1. 0. 0. 0. 0.]\n",
      "\n",
      "[[0.8437548  0.1562452  0.         0.         0.        ]\n",
      " [0.         0.7090222  0.2909778  0.         0.        ]\n",
      " [0.         0.         0.3064214  0.16670041 0.52687809]\n",
      " [0.         0.         0.         0.8144019  0.1855981 ]\n",
      " [0.         0.         0.         0.         1.        ]]\n"
     ]
    }
   ],
   "source": [
    "print(hmm1['transmat'])\n",
    "print()\n",
    "print(hmm2['transmat'])\n",
    "print()\n",
    "print()\n",
    "print(hmm1['startprob'])\n",
    "print(hmm2['startprob'])\n",
    "print(\"\\n==========================================================\")\n",
    "print(\"==========================================================\\n\")\n",
    "twoHMms=concatTwoHMMs(hmm1, hmm2)\n",
    "print(twoHMms['startprob'])\n",
    "print()\n",
    "print(twoHMms['transmat'])"
   ]
  },
  {
   "cell_type": "code",
   "execution_count": 28,
   "metadata": {},
   "outputs": [
    {
     "data": {
      "text/plain": [
       "(9, 13)"
      ]
     },
     "execution_count": 28,
     "metadata": {},
     "output_type": "execute_result"
    }
   ],
   "source": [
    "wordHMMs = {}\n",
    "wordHMMs['o'] = concatHMMs(phoneHMMs_one, isolated['o'])\n",
    "wordHMMs['o']['means'].shape"
   ]
  },
  {
   "cell_type": "markdown",
   "metadata": {},
   "source": [
    "## 5) HMM Likelihood and Recognition"
   ]
  },
  {
   "cell_type": "code",
   "execution_count": 29,
   "metadata": {},
   "outputs": [],
   "source": [
    "obsloglik = log_multivariate_normal_density_diag(example['lmfcc'], wordHMMs['o']['means'], wordHMMs['o']['covars'])\n"
   ]
  },
  {
   "cell_type": "code",
   "execution_count": 30,
   "metadata": {},
   "outputs": [
    {
     "data": {
      "image/png": "[encoded data removed]",
      "text/plain": [
       "<matplotlib.figure.Figure at 0x7fab69bd5550>"
      ]
     },
     "metadata": {
      "needs_background": "light"
     },
     "output_type": "display_data"
    },
    {
     "data": {
      "image/png": "[encoded data removed]",
      "text/plain": [
       "<matplotlib.figure.Figure at 0x7fab69b36e48>"
      ]
     },
     "metadata": {
      "needs_background": "light"
     },
     "output_type": "display_data"
    },
    {
     "data": {
      "text/plain": [
       "(71, 9)"
      ]
     },
     "execution_count": 30,
     "metadata": {},
     "output_type": "execute_result"
    }
   ],
   "source": [
    "from matplotlib import pyplot as plt\n",
    "\n",
    "plt.imshow(obsloglik_ex, interpolation='nearest', aspect='auto')\n",
    "plt.show()\n",
    "\n",
    "plt.imshow(obsloglik, interpolation='nearest', aspect='auto')\n",
    "for (i, j), z in np.ndenumerate(obsloglik):\n",
    "    if np.mod(i,4)==0 and np.mod(j,1)==0:\n",
    "        plt.text(j, i, '{:.2f}'.format(z), ha='center', va='center')\n",
    "\n",
    "plt.show()\n",
    "obsloglik_ex.shape"
   ]
  },
  {
   "cell_type": "markdown",
   "metadata": {},
   "source": [
    "From the pattern shown in the plot above we can clearly see that steps 1-10 and 45-1 correspond to sil, the rest of the steps in the middle correspond to 'ow'.\n",
    "It looks like the observations(steps) during 'ow' have small likelihoods for the 1'st and 7'th gaussian component whereas 'sil' is more equally distributed. In addition to that we observe that 'sil' tends to have low likelihood values for the 4th gaussian component. \n",
    "\n",
    "The low likelihood values are shown in blue in the figure above\n",
    "(the smaller the value --> the more negative --> the darker)."
   ]
  },
  {
   "cell_type": "markdown",
   "metadata": {},
   "source": [
    "## a) Forward Algorithm"
   ]
  },
  {
   "cell_type": "code",
   "execution_count": 31,
   "metadata": {
    "scrolled": true
   },
   "outputs": [],
   "source": [
    "def forward(log_emlik, log_startprob, log_transmat):\n",
    "    \"\"\"Forward (alpha) probabilities in log domain.\n",
    "\n",
    "    Args:\n",
    "        log_emlik: NxM array of emission log likelihoods, N frames, M states  log P(Oi|Xi)\n",
    "        log_startprob: log probability to start in state i                    log P(Xi)\n",
    "        log_transmat: log transition probability from state i to j            log P(Xj|Xi)\n",
    "\n",
    "    Output:\n",
    "        forward_prob: NxM array of forward log probabilities for each of the M states in the model\n",
    "    \"\"\"\n",
    "    \n",
    "    log_startprob = log_startprob[:-1]\n",
    "    log_transmat = log_transmat[:-1,:-1]\n",
    "    \n",
    "    N, M = log_emlik.shape \n",
    "    forward_prob = np.zeros((N, M))                    # [N X M]      P(O1:)\n",
    "\n",
    "    forward_prob[0,:] = log_startprob + log_emlik[0, :]\n",
    "\n",
    "    for n in range(1,N):\n",
    "        for i in range(M):\n",
    "            forward_prob[n,i] = logsumexp(forward_prob[n-1,:]+log_transmat[:,i] ) + log_emlik[n,i]\n",
    "\n",
    "    return forward_prob"
   ]
  },
  {
   "cell_type": "code",
   "execution_count": 32,
   "metadata": {},
   "outputs": [
    {
     "data": {
      "image/png": "[encoded data removed]",
      "text/plain": [
       "<matplotlib.figure.Figure at 0x7fab69b5ef60>"
      ]
     },
     "metadata": {
      "needs_background": "light"
     },
     "output_type": "display_data"
    },
    {
     "data": {
      "image/png": "[encoded data removed]",
      "text/plain": [
       "<matplotlib.figure.Figure at 0x7fab69b5ee80>"
      ]
     },
     "metadata": {
      "needs_background": "light"
     },
     "output_type": "display_data"
    }
   ],
   "source": [
    "import warnings\n",
    "warnings.filterwarnings('ignore')\n",
    "\n",
    "log_startprob = np.log(wordHMMs['o']['startprob'])\n",
    "log_transmat = np.log(wordHMMs['o']['transmat'])\n",
    "\n",
    "logalpha = forward(obsloglik, log_startprob, log_transmat)\n",
    "\n",
    "np.allclose(logalpha_ex, logalpha)\n",
    "\n",
    "plt.imshow(logalpha, interpolation='nearest', aspect='auto')\n",
    "plt.title(\"mine\")\n",
    "plt.show()\n",
    "plt.imshow(logalpha_ex, interpolation='nearest', aspect='auto')\n",
    "plt.title(\"example\")\n",
    "plt.show()"
   ]
  },
  {
   "cell_type": "markdown",
   "metadata": {},
   "source": [
    "## b) Viterbi Approximation"
   ]
  },
  {
   "cell_type": "markdown",
   "metadata": {},
   "source": [
    "$V_n(i) = max_{q_{0:t-1}}  P(O_{0:n}, q_t)$"
   ]
  },
  {
   "cell_type": "code",
   "execution_count": 33,
   "metadata": {},
   "outputs": [],
   "source": [
    "def viterbi(log_emlik, log_startprob, log_transmat, forceFinalState=True):\n",
    "    \"\"\"Viterbi path(decoding).\n",
    "\n",
    "    Args:\n",
    "        log_emlik: NxM array of emission log likelihoods, N frames, M states\n",
    "        log_startprob: log probability to start in state i\n",
    "        log_transmat: transition log probability from state i to j\n",
    "        forceFinalState: if True, start backtracking from the final state in\n",
    "                  the model, instead of the best state at the last time step\n",
    "\n",
    "    Output:\n",
    "        viterbi_loglik: log likelihood of the best path\n",
    "        viterbi_path: best path\n",
    "    \"\"\"\n",
    "    log_startprob = log_startprob[:-1]\n",
    "    log_transmat = log_transmat[:-1,:-1]\n",
    "\n",
    "    N, M = log_emlik.shape\n",
    "    V = np.zeros((N,M)) # Viterbi loglikelihoods\n",
    "    V_path = np.zeros((N,M),dtype=np.int64) # Viterbi indexes\n",
    "    \n",
    "    viterbi_path = np.zeros(N,dtype=np.int64)\n",
    "    \n",
    "    \n",
    "    V[0,:] = log_startprob + log_emlik[0,:]\n",
    "    for n in range(1,N):\n",
    "        for i in range(M):\n",
    "            # highest log likelihood to come to state i in time n\n",
    "            V[n,i] = np.max(V[n-1,:]+log_transmat[:,i] + log_emlik[n,i])\n",
    "            # best previous state in time n-1 that brought us to state i in time n\n",
    "            V_path[n,i] = np.argmax(V[n-1,:]+log_transmat[:,i] + log_emlik[n,i])\n",
    "    \n",
    "    # path backtracking \n",
    "    viterbi_path[-1] = np.argmax(V[-1,:])\n",
    "    for i in range(V_path.shape[0]-2,0,-1):\n",
    "        viterbi_path[i] = V_path[i+1,viterbi_path[i+1]]\n",
    "\n",
    "    \n",
    "    return np.max(V[-1,:]), viterbi_path"
   ]
  },
  {
   "cell_type": "code",
   "execution_count": 34,
   "metadata": {},
   "outputs": [
    {
     "data": {
      "text/plain": [
       "(71,)"
      ]
     },
     "execution_count": 34,
     "metadata": {},
     "output_type": "execute_result"
    }
   ],
   "source": [
    "len(vpath_ex)\n",
    "vpath_ex.shape"
   ]
  },
  {
   "cell_type": "code",
   "execution_count": 78,
   "metadata": {
    "scrolled": true
   },
   "outputs": [
    {
     "name": "stdout",
     "output_type": "stream",
     "text": [
      "True\n",
      "True\n"
     ]
    },
    {
     "data": {
      "image/png": "[encoded data removed]",
      "text/plain": [
       "<matplotlib.figure.Figure at 0x7fab6b611dd8>"
      ]
     },
     "metadata": {
      "needs_background": "light"
     },
     "output_type": "display_data"
    },
    {
     "data": {
      "image/png": "[encoded data removed]",
      "text/plain": [
       "<matplotlib.figure.Figure at 0x7fab69c446d8>"
      ]
     },
     "metadata": {
      "needs_background": "light"
     },
     "output_type": "display_data"
    },
    {
     "data": {
      "text/plain": [
       "(71,)"
      ]
     },
     "execution_count": 78,
     "metadata": {},
     "output_type": "execute_result"
    }
   ],
   "source": [
    "viterbi_loglik, viterbi_path = viterbi(obsloglik, log_startprob, log_transmat, forceFinalState=True)\n",
    "print(np.allclose(viterbi_path, vpath_ex))\n",
    "print(np.allclose(viterbi_loglik, vloglik_ex))\n",
    "plt.scatter(np.arange(len(viterbi_path)),viterbi_path)\n",
    "plt.title(\"mine\")\n",
    "plt.show()\n",
    "plt.scatter(np.arange(len(vpath_ex)),vpath_ex)\n",
    "plt.title(\"example\")\n",
    "plt.show()\n"
   ]
  },
  {
   "cell_type": "markdown",
   "metadata": {},
   "source": [
    "## c) Backward Algorithm"
   ]
  },
  {
   "cell_type": "code",
   "execution_count": 99,
   "metadata": {},
   "outputs": [],
   "source": [
    "def backward(log_emlik, log_startprob, log_transmat):\n",
    "    \"\"\"Backward (beta) probabilities in log domain.\n",
    "\n",
    "    Args:\n",
    "        log_emlik: NxM array of emission log likelihoods, N frames, M states\n",
    "        log_startprob: log probability to start in state i\n",
    "        log_transmat: transition log probability from state i to j\n",
    "\n",
    "    Output:\n",
    "        backward_prob: NxM array of backward log probabilities for each of the M states in the model\n",
    "    \"\"\"\n",
    "    log_startprob = log_startprob[:-1]\n",
    "    log_transmat = log_transmat[:-1,:-1]\n",
    "\n",
    "    N, M = log_emlik.shape\n",
    "    backward_prob = np.zeros((N,M))\n",
    "    #backward_prob[-1,:] = 1\n",
    "    for n in range(N-2,-1,-1):\n",
    "        for i in range(M): \n",
    "            backward_prob[n,i] = logsumexp(backward_prob[n+1,:] + log_transmat[i,:] + log_emlik[n+1,:])\n",
    "    return backward_prob   "
   ]
  },
  {
   "cell_type": "code",
   "execution_count": 102,
   "metadata": {},
   "outputs": [
    {
     "data": {
      "text/plain": [
       "True"
      ]
     },
     "execution_count": 102,
     "metadata": {},
     "output_type": "execute_result"
    }
   ],
   "source": [
    "backward_prob = backward(obsloglik, log_startprob, log_transmat)\n",
    "np.allclose(backward_prob,logbeta_ex)"
   ]
  },
  {
   "cell_type": "markdown",
   "metadata": {},
   "source": [
    "## 6) HMM Retraining"
   ]
  },
  {
   "cell_type": "code",
   "execution_count": 103,
   "metadata": {},
   "outputs": [],
   "source": [
    "def statePosteriors(log_alpha, log_beta):\n",
    "    \"\"\"State posterior (gamma) probabilities in log domain.\n",
    "\n",
    "    Args:\n",
    "        log_alpha: NxM array of log forward (alpha) probabilities\n",
    "        log_beta: NxM array of log backward (beta) probabilities\n",
    "    where N is the number of frames, and M the number of states\n",
    "\n",
    "    Output:\n",
    "        log_gamma: NxM array of gamma probabilities for each of the M states in the model\n",
    "    \"\"\"\n",
    "\n",
    "def updateMeanAndVar(X, log_gamma, varianceFloor=5.0):\n",
    "    \"\"\" Update Gaussian parameters with diagonal covariance\n",
    "\n",
    "    Args:\n",
    "         X: NxD array of feature vectors\n",
    "         log_gamma: NxM state posterior probabilities in log domain\n",
    "         varianceFloor: minimum allowed variance scalar\n",
    "    were N is the lenght of the observation sequence, D is the\n",
    "    dimensionality of the feature vectors and M is the number of\n",
    "    states in the model\n",
    "\n",
    "    Outputs:\n",
    "         means: MxD mean vectors for each state\n",
    "         covars: MxD covariance (variance) vectors for each state\n",
    "    \"\"\""
   ]
  },
  {
   "cell_type": "code",
   "execution_count": null,
   "metadata": {},
   "outputs": [],
   "source": []
  },
  {
   "cell_type": "code",
   "execution_count": null,
   "metadata": {},
   "outputs": [],
   "source": []
  }
 ],
 "metadata": {
  "kernelspec": {
   "display_name": "Python 3",
   "language": "python",
   "name": "python3"
  },
  "language_info": {
   "codemirror_mode": {
    "name": "ipython",
    "version": 3
   },
   "file_extension": ".py",
   "mimetype": "text/x-python",
   "name": "python",
   "nbconvert_exporter": "python",
   "pygments_lexer": "ipython3",
   "version": "3.6.9"
  }
 },
 "nbformat": 4,
 "nbformat_minor": 4
}
