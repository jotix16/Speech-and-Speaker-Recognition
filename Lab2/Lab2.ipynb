{
 "cells": [
  {
   "cell_type": "code",
   "execution_count": 79,
   "metadata": {},
   "outputs": [
    {
     "name": "stdout",
     "output_type": "stream",
     "text": [
      "Populating the interactive namespace from numpy and matplotlib\n"
     ]
    }
   ],
   "source": [
    "import numpy as np\n",
    "from lab2_tools import *\n",
    "from lab2_proto import *\n",
    "from tqdm import tqdm\n",
    "%pylab inline\n",
    "pylab.rcParams['figure.figsize'] = (15, 4)"
   ]
  },
  {
   "cell_type": "code",
   "execution_count": 80,
   "metadata": {},
   "outputs": [
    {
     "name": "stdout",
     "output_type": "stream",
     "text": [
      "data of length: 44\n",
      "dict_keys(['filename', 'samplingrate', 'gender', 'speaker', 'digit', 'repetition', 'samples', 'lmfcc'])\n",
      "============\n",
      "phoneme HMM models:\n",
      "['ah', 'ao', 'ay', 'eh', 'ey', 'f', 'ih', 'iy', 'k', 'n', 'ow', 'r', 's', 'sil', 'sp', 't', 'th', 'uw', 'v', 'w', 'z']\n",
      "dict_keys(['name', 'startprob', 'transmat', 'means', 'covars'])\n"
     ]
    }
   ],
   "source": [
    "# Load example data\n",
    "example = load('lab2_example.npz',allow_pickle=True)['example'].item()\n",
    "samplingrate_ex = example['samplingrate']\n",
    "gender_ex = example['gender']\n",
    "speaker_ex = example['speaker']\n",
    "digit_ex = example['digit']\n",
    "repetition_ex = example['repetition']\n",
    "samples_ex = example['samples']\n",
    "lmfcc_ex = example['lmfcc']\n",
    "\n",
    "obsloglik_ex = example['obsloglik']\n",
    "logalpha_ex = example['logalpha']\n",
    "loglik_ex = example['loglik']\n",
    "vloglik_ex = example['vloglik']\n",
    "vpath_ex = example['vpath']\n",
    "logbeta_ex = example['logbeta']\n",
    "loggamma_ex = example['loggamma']\n",
    "\n",
    "# Load all data(44 uterances z-10 2male and 2female)\n",
    "data = np.load('lab2_data.npz',allow_pickle=True)['data']\n",
    "print(\"data of length:\",len(data) )\n",
    "print(data[1].keys())\n",
    "print(\"============\")\n",
    "\n",
    "# Load parameters\n",
    "phoneHMMs_all = np.load('lab2_models_all.npz',allow_pickle=True)['phoneHMMs'].item()\n",
    "phoneHMMs_one = load('lab2_models_onespkr.npz',allow_pickle=True)['phoneHMMs'].item()\n",
    "print(\"phoneme HMM models:\")\n",
    "print(list(sorted(phoneHMMs_one.keys())))\n",
    "print(phoneHMMs_one['sp'].keys())\n"
   ]
  },
  {
   "cell_type": "markdown",
   "metadata": {},
   "source": [
    "# 4) Concatinating HMMs"
   ]
  },
  {
   "cell_type": "code",
   "execution_count": 81,
   "metadata": {
    "scrolled": true
   },
   "outputs": [
    {
     "name": "stdout",
     "output_type": "stream",
     "text": [
      "[[0.8437548 0.1562452 0.        0.       ]\n",
      " [0.        0.7090222 0.2909778 0.       ]\n",
      " [0.        0.        0.3064214 0.6935785]\n",
      " [0.        0.        0.        1.       ]]\n",
      "\n",
      "[[0.8144019 0.1855981]\n",
      " [0.        1.       ]]\n",
      "\n",
      "\n",
      "[1. 0. 0. 0.]\n",
      "[0.2403483 0.7596517]\n",
      "\n",
      "==========================================================\n",
      "==========================================================\n",
      "\n",
      "[1. 0. 0. 0. 0.]\n",
      "\n",
      "[[0.8437548  0.1562452  0.         0.         0.        ]\n",
      " [0.         0.7090222  0.2909778  0.         0.        ]\n",
      " [0.         0.         0.3064214  0.16670041 0.52687809]\n",
      " [0.         0.         0.         0.8144019  0.1855981 ]\n",
      " [0.         0.         0.         0.         1.        ]]\n"
     ]
    }
   ],
   "source": [
    "hmm1 = phoneHMMs_one['f']\n",
    "hmm2 = phoneHMMs_one['sp']\n",
    "print(hmm1['transmat'])\n",
    "print()\n",
    "print(hmm2['transmat'])\n",
    "print()\n",
    "print()\n",
    "print(hmm1['startprob'])\n",
    "print(hmm2['startprob'])\n",
    "print(\"\\n==========================================================\")\n",
    "print(\"==========================================================\\n\")\n",
    "twoHMms=concatTwoHMMs(hmm1, hmm2)\n",
    "print(twoHMms['startprob'])\n",
    "print()\n",
    "print(twoHMms['transmat'])"
   ]
  },
  {
   "cell_type": "markdown",
   "metadata": {},
   "source": [
    "### Add silence in begining and end of each utterance(word)"
   ]
  },
  {
   "cell_type": "code",
   "execution_count": 82,
   "metadata": {
    "scrolled": true
   },
   "outputs": [
    {
     "name": "stdout",
     "output_type": "stream",
     "text": [
      "{'o': ['sil', 'ow', 'sil'], 'z': ['sil', 'z', 'iy', 'r', 'ow', 'sil'], '1': ['sil', 'w', 'ah', 'n', 'sil'], '2': ['sil', 't', 'uw', 'sil'], '3': ['sil', 'th', 'r', 'iy', 'sil'], '4': ['sil', 'f', 'ao', 'r', 'sil'], '5': ['sil', 'f', 'ay', 'v', 'sil'], '6': ['sil', 's', 'ih', 'k', 's', 'sil'], '7': ['sil', 's', 'eh', 'v', 'ah', 'n', 'sil'], '8': ['sil', 'ey', 't', 'sil'], '9': ['sil', 'n', 'ay', 'n', 'sil']}\n"
     ]
    }
   ],
   "source": [
    "from prondict import *\n",
    "isolated = {}\n",
    "for digit in prondict.keys():\n",
    "    isolated[digit] = ['sil'] + prondict[digit] + ['sil']\n",
    "print(isolated)\n"
   ]
  },
  {
   "cell_type": "markdown",
   "metadata": {},
   "source": [
    "### Build HMM models for each utterance(word) in prondict"
   ]
  },
  {
   "cell_type": "code",
   "execution_count": 83,
   "metadata": {},
   "outputs": [],
   "source": [
    "wordHMMs = {}\n",
    "for uterance in isolated:\n",
    "    wordHMMs[uterance] = concatHMMs(phoneHMMs_one, isolated[uterance])\n"
   ]
  },
  {
   "cell_type": "markdown",
   "metadata": {},
   "source": [
    "# 5) HMM Likelihood and Recognition"
   ]
  },
  {
   "cell_type": "markdown",
   "metadata": {},
   "source": [
    "## Observation log likelihood of an utterance\n",
    "Observation log likelihood is the likelihood of each frame of the recorded utterance for every gaussian model of each possible state of the considered HMM model."
   ]
  },
  {
   "cell_type": "code",
   "execution_count": 84,
   "metadata": {},
   "outputs": [],
   "source": [
    "obsloglik = log_multivariate_normal_density_diag(example['lmfcc'], wordHMMs['o']['means'], wordHMMs['o']['covars'])\n"
   ]
  },
  {
   "cell_type": "code",
   "execution_count": 85,
   "metadata": {
    "scrolled": true
   },
   "outputs": [
    {
     "name": "stdout",
     "output_type": "stream",
     "text": [
      "Same results for obsloglik f 'o' as in example: True\n"
     ]
    },
    {
     "data": {
      "image/png": "[encoded data removed]",
      "text/plain": [
       "<matplotlib.figure.Figure at 0x7f4489b013c8>"
      ]
     },
     "metadata": {
      "needs_background": "light"
     },
     "output_type": "display_data"
    },
    {
     "data": {
      "text/plain": [
       "(71, 9)"
      ]
     },
     "execution_count": 85,
     "metadata": {},
     "output_type": "execute_result"
    }
   ],
   "source": [
    "from matplotlib import pyplot as plt\n",
    "\n",
    "# plt.imshow(obsloglik_ex, interpolation='nearest', aspect='auto')\n",
    "# plt.show()\n",
    "print(\"Same results for obsloglik f 'o' as in example:\", np.allclose(obsloglik_ex, obsloglik))\n",
    "plt.imshow(obsloglik, interpolation='nearest', aspect='auto')\n",
    "for (i, j), z in np.ndenumerate(obsloglik):\n",
    "    if np.mod(i,4)==0 and np.mod(j,1)==0:\n",
    "        plt.text(j, i, '{:.2f}'.format(z), ha='center', va='center')\n",
    "plt.title(\"Observation sequence log likelihood\")\n",
    "plt.show()\n",
    "obsloglik_ex.shape"
   ]
  },
  {
   "cell_type": "markdown",
   "metadata": {},
   "source": [
    "From the pattern shown in the plot above we can clearly see that steps 1-10 and 45-71 correspond to sil, the rest of the steps in the middle correspond to 'ow'.\n",
    "It looks like the observations(steps) during 'ow' have small likelihoods for the 1'st and 7'th gaussian whereas 'sil' is more equally distributed. In addition to that we observe that 'sil' tends to have low likelihood values for the 4th gaussian. \n",
    "\n",
    "The low likelihood values are shown in blue in the figure above\n",
    "(the smaller the value --> the more negative --> the darker)."
   ]
  },
  {
   "cell_type": "markdown",
   "metadata": {},
   "source": [
    "## a) Forward Algorithm"
   ]
  },
  {
   "cell_type": "markdown",
   "metadata": {},
   "source": [
    "The **Forward algorithm** is an algorithm that helps computing the forward probabilities in a recursive manner.\\\n",
    "The forward probability is defined $P(O_{0:n}, z_n=s_i)$ as the joint probability of the observations up to step n and $n_{th}$ hidden state corresponding to state $s_i$.\\\n",
    "In order to find find the likelihood of the observation sequence one marganilizes the hidden state, i.e. $\\sum_{i}{P(O_{0:N}, z_N=s_i)}$. \n",
    "\n",
    "When working with logarithms multiplications are transformed to summations and summations to logsumexp()."
   ]
  },
  {
   "cell_type": "code",
   "execution_count": 86,
   "metadata": {
    "scrolled": true
   },
   "outputs": [],
   "source": [
    "def forward(log_emlik, log_startprob, log_transmat, obs_log_ll = False ):\n",
    "    \"\"\"Forward (alpha) probabilities in log domain.\n",
    "\n",
    "    Args:\n",
    "        log_emlik: NxM array of emission log likelihoods, N frames, M states  log P(Oi|Xi)\n",
    "        log_startprob: log probability to start in state i                    log P(Xi)\n",
    "        log_transmat: log transition probability from state i to j            log P(Xj|Xi)\n",
    "        obs_log_ll: True if we want the function to return both the alpha matrix and the log likelihood of seq.\n",
    "    Output:\n",
    "        forward_prob: NxM array of forward log probabilities for each of the M states in the model\n",
    "    \"\"\"\n",
    "    \n",
    "    log_startprob = log_startprob[:-1]\n",
    "    log_transmat = log_transmat[:-1,:-1]\n",
    "    \n",
    "    N, M = log_emlik.shape \n",
    "    forward_prob = np.zeros((N, M))                    # [N X M]      P(O1:)\n",
    "\n",
    "    forward_prob[0,:] = log_startprob + log_emlik[0, :]\n",
    "\n",
    "    for n in range(1,N):\n",
    "        for i in range(M):\n",
    "            forward_prob[n,i] = logsumexp(forward_prob[n-1,:]+log_transmat[:,i] ) + log_emlik[n,i]\n",
    "    \n",
    "    if obs_log_ll:\n",
    "        return forward_prob,  logsumexp(forward_prob[-1,:])  \n",
    "    \n",
    "    return forward_prob"
   ]
  },
  {
   "cell_type": "markdown",
   "metadata": {},
   "source": [
    "### Correctness of implementation"
   ]
  },
  {
   "cell_type": "code",
   "execution_count": 87,
   "metadata": {
    "scrolled": true
   },
   "outputs": [
    {
     "name": "stdout",
     "output_type": "stream",
     "text": [
      "Observation sequence has the log likelihood:  -5970.427602563561\n",
      "Forward pass is implemented correctly: True\n",
      "Loglikelihood do observation sequence found correctly: True\n"
     ]
    },
    {
     "data": {
      "image/png": "[encoded data removed]",
      "text/plain": [
       "<matplotlib.figure.Figure at 0x7f4481e38978>"
      ]
     },
     "metadata": {
      "needs_background": "light"
     },
     "output_type": "display_data"
    }
   ],
   "source": [
    "import warnings\n",
    "warnings.filterwarnings('ignore')\n",
    "\n",
    "log_startprob = np.log(wordHMMs['o']['startprob'])\n",
    "log_transmat = np.log(wordHMMs['o']['transmat'])\n",
    "\n",
    "logalpha,obs_seq_log_likelihood = forward(obsloglik, log_startprob, log_transmat,True)\n",
    "# obs_seq_log_likelihood = np.log(np.sum(np.exp(logalpha[-1,:],dtype =np.float128)))\n",
    "\n",
    "print(\"Observation sequence has the log likelihood: \", obs_seq_log_likelihood)\n",
    "print(\"Forward pass is implemented correctly:\",np.allclose(logalpha_ex, logalpha))\n",
    "print(\"Loglikelihood do observation sequence found correctly:\",np.allclose(loglik_ex, obs_seq_log_likelihood))\n",
    "plt.imshow(logalpha, interpolation='nearest', aspect='auto')\n",
    "plt.title(\"log alpha\")\n",
    "plt.show()\n"
   ]
  },
  {
   "cell_type": "markdown",
   "metadata": {},
   "source": [
    "### Max likelihood on the 44 utterances"
   ]
  },
  {
   "cell_type": "code",
   "execution_count": 88,
   "metadata": {
    "scrolled": true
   },
   "outputs": [
    {
     "name": "stderr",
     "output_type": "stream",
     "text": [
      "100%|██████████| 44/44 [00:25<00:00,  1.73it/s]\n"
     ]
    }
   ],
   "source": [
    "max_likelihoods = []\n",
    "\n",
    "# variables to save best mode at the moment and the max loglikelihood it gives the given sequence\n",
    "max_ll= -inf\n",
    "max_ll_model =\"\"\n",
    "\n",
    "\n",
    "for sample in tqdm(data):\n",
    "    digit = sample['digit']\n",
    "    # reset max_ll and dic\n",
    "    max_ll= -inf\n",
    "    dic = {}\n",
    "    for hmm_model in wordHMMs:\n",
    "        # logll of digit's each lmfcc on each state of hmm_model\n",
    "        obs_ll= log_multivariate_normal_density_diag(sample['lmfcc'], \n",
    "                                                     wordHMMs[hmm_model]['means'], \n",
    "                                                     wordHMMs[hmm_model]['covars'])\n",
    "        \n",
    "        log_startprob_tmp = np.log(wordHMMs[hmm_model]['startprob'])\n",
    "        log_transmat_tmp = np.log(wordHMMs[hmm_model]['transmat'])\n",
    "        \n",
    "        # logll of digit's lmfcc(all frames considered) on hmm_model\n",
    "        _,obs_seq_log_likelihood = forward(obs_ll, log_startprob_tmp, log_transmat_tmp,True) \n",
    "\n",
    "        if obs_seq_log_likelihood > max_ll:\n",
    "            max_ll = obs_seq_log_likelihood\n",
    "            max_ll_model = hmm_model\n",
    "            \n",
    "    dic[digit + '_' + sample['gender']] = max_ll_model\n",
    "    dic['max_ll'] = max_ll\n",
    "    \n",
    "    max_likelihoods.append(dic)    "
   ]
  },
  {
   "cell_type": "code",
   "execution_count": 89,
   "metadata": {
    "scrolled": true
   },
   "outputs": [
    {
     "name": "stdout",
     "output_type": "stream",
     "text": [
      "0.5454545454545454\n"
     ]
    },
    {
     "data": {
      "text/plain": [
       "[{'o_man': 'o', 'max_ll': -6755.29295367825},\n",
       " {'o_man': 'o', 'max_ll': -6097.0523998906965},\n",
       " {'z_man': 'z', 'max_ll': -8118.200380361543},\n",
       " {'z_man': 'z', 'max_ll': -7687.5887955841135},\n",
       " {'1_man': '3', 'max_ll': -6997.069086161187},\n",
       " {'1_man': '9', 'max_ll': -7198.409743244815},\n",
       " {'2_man': '3', 'max_ll': -6227.59482796606},\n",
       " {'2_man': '2', 'max_ll': -7520.048008578062},\n",
       " {'3_man': '3', 'max_ll': -7245.060397819047},\n",
       " {'3_man': '3', 'max_ll': -8101.060919329966},\n",
       " {'4_man': '4', 'max_ll': -7227.865033718987},\n",
       " {'4_man': '4', 'max_ll': -7191.665977473049},\n",
       " {'5_man': '3', 'max_ll': -7699.838609516217},\n",
       " {'5_man': '3', 'max_ll': -7053.1633404817685},\n",
       " {'6_man': '6', 'max_ll': -8062.449795380257},\n",
       " {'6_man': '6', 'max_ll': -8412.751985655648},\n",
       " {'7_man': '3', 'max_ll': -7739.72902402962},\n",
       " {'7_man': '3', 'max_ll': -7918.755244419525},\n",
       " {'8_man': '3', 'max_ll': -6418.780042488298},\n",
       " {'8_man': '3', 'max_ll': -6649.444068829668},\n",
       " {'9_man': '9', 'max_ll': -9349.992707960357},\n",
       " {'9_man': 'z', 'max_ll': -7458.215098480794},\n",
       " {'o_woman': 'o', 'max_ll': -5970.427602563561},\n",
       " {'o_woman': 'o', 'max_ll': -6595.284898911863},\n",
       " {'z_woman': 'z', 'max_ll': -8471.10917600192},\n",
       " {'z_woman': 'z', 'max_ll': -7988.90562495823},\n",
       " {'1_woman': '1', 'max_ll': -6661.292581468727},\n",
       " {'1_woman': '1', 'max_ll': -5737.136162175901},\n",
       " {'2_woman': '2', 'max_ll': -6623.88633301074},\n",
       " {'2_woman': '2', 'max_ll': -5788.050021097015},\n",
       " {'3_woman': '3', 'max_ll': -6988.9520624362585},\n",
       " {'3_woman': '3', 'max_ll': -6778.84485881726},\n",
       " {'4_woman': '4', 'max_ll': -6811.7070837661595},\n",
       " {'4_woman': '4', 'max_ll': -6846.386489186827},\n",
       " {'5_woman': '5', 'max_ll': -8112.612825024824},\n",
       " {'5_woman': '5', 'max_ll': -7769.394028127193},\n",
       " {'6_woman': '6', 'max_ll': -9183.43337751529},\n",
       " {'6_woman': '6', 'max_ll': -9921.229455560135},\n",
       " {'7_woman': '7', 'max_ll': -8278.049626062795},\n",
       " {'7_woman': '7', 'max_ll': -8099.437969579584},\n",
       " {'8_woman': '8', 'max_ll': -6269.675870510196},\n",
       " {'8_woman': '8', 'max_ll': -7093.968089560233},\n",
       " {'9_woman': '9', 'max_ll': -7369.943055740203},\n",
       " {'9_woman': '9', 'max_ll': -6846.386798185379}]"
      ]
     },
     "execution_count": 89,
     "metadata": {},
     "output_type": "execute_result"
    }
   ],
   "source": [
    "print(1-10/22)\n",
    "max_likelihoods"
   ]
  },
  {
   "cell_type": "markdown",
   "metadata": {},
   "source": [
    "As we observe from the results above all utterances pronaunced by women are recognized correctly.\n",
    "The men pronaunced utterances lead to a recognition accuracy of only $54.54\\%$. We notice in addition that most of the misrecognised utterances are recognized as '3'."
   ]
  },
  {
   "cell_type": "markdown",
   "metadata": {},
   "source": [
    "## b) Viterbi Approximation"
   ]
  },
  {
   "cell_type": "markdown",
   "metadata": {},
   "source": [
    "$V_n(i) = max_{q_{0:t-1}}  P(O_{0:n}, q_t)$"
   ]
  },
  {
   "cell_type": "code",
   "execution_count": 90,
   "metadata": {},
   "outputs": [],
   "source": [
    "def viterbi(log_emlik, log_startprob, log_transmat, forceFinalState=True):\n",
    "    \"\"\"Viterbi path(decoding).\n",
    "\n",
    "    Args:\n",
    "        log_emlik: NxM array of emission log likelihoods, N frames, M states\n",
    "        log_startprob: log probability to start in state i\n",
    "        log_transmat: transition log probability from state i to j\n",
    "        forceFinalState: if True, start backtracking from the final state in\n",
    "                  the model, instead of the best state at the last time step\n",
    "\n",
    "    Output:\n",
    "        viterbi_loglik: log likelihood of the best path\n",
    "        viterbi_path: best path\n",
    "    \"\"\"\n",
    "    log_startprob = log_startprob[:-1]\n",
    "    log_transmat = log_transmat[:-1,:-1]\n",
    "\n",
    "    N, M = log_emlik.shape\n",
    "    V = np.zeros((N,M)) # Viterbi loglikelihoods\n",
    "    V_path = np.zeros((N,M),dtype=np.int64) # Viterbi indexes\n",
    "    \n",
    "    viterbi_path = np.zeros(N,dtype=np.int64)\n",
    "    \n",
    "    \n",
    "    V[0,:] = log_startprob + log_emlik[0,:]\n",
    "    for n in range(1,N):\n",
    "        for i in range(M):\n",
    "            # highest log likelihood to come to state i in time n\n",
    "            V[n,i] = np.max(V[n-1,:]+log_transmat[:,i] + log_emlik[n,i])\n",
    "            # best previous state in time n-1 that brought us to state i in time n\n",
    "            V_path[n,i] = np.argmax(V[n-1,:]+log_transmat[:,i] + log_emlik[n,i])\n",
    "    \n",
    "    # path backtracking \n",
    "    viterbi_path[-1] = np.argmax(V[-1,:])\n",
    "    for i in range(V_path.shape[0]-2,0,-1):\n",
    "        viterbi_path[i] = V_path[i+1,viterbi_path[i+1]]\n",
    "\n",
    "    \n",
    "    return np.max(V[-1,:]), viterbi_path"
   ]
  },
  {
   "cell_type": "code",
   "execution_count": 91,
   "metadata": {
    "scrolled": false
   },
   "outputs": [
    {
     "name": "stdout",
     "output_type": "stream",
     "text": [
      "True\n",
      "True\n"
     ]
    },
    {
     "data": {
      "text/plain": [
       "[]"
      ]
     },
     "execution_count": 91,
     "metadata": {},
     "output_type": "execute_result"
    },
    {
     "data": {
      "image/png": "[encoded data removed]",
      "text/plain": [
       "<matplotlib.figure.Figure at 0x7f4481f5efd0>"
      ]
     },
     "metadata": {
      "needs_background": "light"
     },
     "output_type": "display_data"
    }
   ],
   "source": [
    "viterbi_loglik, viterbi_path = viterbi(obsloglik, log_startprob, log_transmat)\n",
    "print(np.allclose(viterbi_path, vpath_ex))\n",
    "print(np.allclose(viterbi_loglik, vloglik_ex))\n",
    "\n",
    "plt.pcolormesh(np.ma.masked_invalid(logalpha).T, cmap='jet')\n",
    "plt.plot( np.arange(len(viterbi_path)),viterbi_path)\n",
    "plt.title(\"Path overlayed on log_alpha\")\n",
    "plt.plot()"
   ]
  },
  {
   "cell_type": "markdown",
   "metadata": {},
   "source": [
    "### Viterbi Algorithm used for max_ll recognition \n",
    "As we see below the recognition using Viterbi and forward algo are not identical. While Forward path consideres all possible paths and marginalized ober them, Viterbi considers only the best path and returns its log likelihood.\n",
    "But using Viterbi to calculate the likelihood is much less computational heavy(3.54it/s instead of 1.64it/s for the forward algo) and that is why it is normally the prefered inference method when dealing with very long seqeuences from which too many possible paths can be built .\n",
    "\n",
    "The main reason forthis is that Viterbi calculates the log likelihood only for the best path instead of all possible paths as the forward path does."
   ]
  },
  {
   "cell_type": "code",
   "execution_count": 92,
   "metadata": {},
   "outputs": [
    {
     "name": "stderr",
     "output_type": "stream",
     "text": [
      "100%|██████████| 44/44 [00:13<00:00,  3.33it/s]\n"
     ]
    }
   ],
   "source": [
    "max_likelihoods = []\n",
    "\n",
    "# variables to save best mode at the moment and the max loglikelihood it gives the given sequence\n",
    "max_ll= -inf\n",
    "max_ll_model =\"\"\n",
    "\n",
    "\n",
    "for sample in tqdm(data):\n",
    "    digit = sample['digit']\n",
    "    # reset max_ll and dic\n",
    "    max_ll= -inf\n",
    "    dic = {}\n",
    "    for hmm_model in wordHMMs:\n",
    "        # logll of digit's each lmfcc on each state of hmm_model\n",
    "        obs_ll= log_multivariate_normal_density_diag(sample['lmfcc'], \n",
    "                                                     wordHMMs[hmm_model]['means'], \n",
    "                                                     wordHMMs[hmm_model]['covars'])\n",
    "        \n",
    "        log_startprob_tmp = np.log(wordHMMs[hmm_model]['startprob'])\n",
    "        log_transmat_tmp = np.log(wordHMMs[hmm_model]['transmat'])\n",
    "        \n",
    "        # logll of digit's lmfcc(all frames considered) on hmm_model\n",
    "        obs_seq_log_likelihood, _ = viterbi(obs_ll, log_startprob_tmp, log_transmat_tmp)\n",
    "        \n",
    "        if obs_seq_log_likelihood > max_ll:\n",
    "            max_ll = obs_seq_log_likelihood\n",
    "            max_ll_model = hmm_model\n",
    "            \n",
    "    dic[digit + '_' + sample['gender']] = max_ll_model\n",
    "    dic['max_ll'] = max_ll\n",
    "    \n",
    "    max_likelihoods.append(dic)    "
   ]
  },
  {
   "cell_type": "code",
   "execution_count": 93,
   "metadata": {
    "scrolled": true
   },
   "outputs": [
    {
     "data": {
      "text/plain": [
       "[{'o_man': 'o', 'max_ll': -6757.997215470573},\n",
       " {'o_man': 'o', 'max_ll': -6100.253650325265},\n",
       " {'z_man': 'z', 'max_ll': -8120.4084077033895},\n",
       " {'z_man': 'z', 'max_ll': -7690.9047105911595},\n",
       " {'1_man': '3', 'max_ll': -6998.301610596523},\n",
       " {'1_man': '9', 'max_ll': -7200.652138504673},\n",
       " {'2_man': '3', 'max_ll': -6229.627725505495},\n",
       " {'2_man': '2', 'max_ll': -7521.991523893783},\n",
       " {'3_man': '3', 'max_ll': -7247.062024450119},\n",
       " {'3_man': '3', 'max_ll': -8104.036978231511},\n",
       " {'4_man': '4', 'max_ll': -7231.055218794898},\n",
       " {'4_man': '4', 'max_ll': -7193.8492178670895},\n",
       " {'5_man': '3', 'max_ll': -7700.915074464565},\n",
       " {'5_man': '3', 'max_ll': -7054.538626004525},\n",
       " {'6_man': '6', 'max_ll': -8065.726815463304},\n",
       " {'6_man': '6', 'max_ll': -8415.276197995192},\n",
       " {'7_man': '3', 'max_ll': -7741.489436564968},\n",
       " {'7_man': '3', 'max_ll': -7920.664131255515},\n",
       " {'8_man': '3', 'max_ll': -6421.700940335606},\n",
       " {'8_man': '3', 'max_ll': -6651.482990476667},\n",
       " {'9_man': '9', 'max_ll': -9351.221810988502},\n",
       " {'9_man': 'z', 'max_ll': -7459.109832949124},\n",
       " {'o_woman': 'o', 'max_ll': -5974.211288357338},\n",
       " {'o_woman': 'o', 'max_ll': -6598.119118731158},\n",
       " {'z_woman': 'z', 'max_ll': -8475.58539704188},\n",
       " {'z_woman': 'z', 'max_ll': -7991.113709694979},\n",
       " {'1_woman': '1', 'max_ll': -6666.098842598684},\n",
       " {'1_woman': '1', 'max_ll': -5740.310747882592},\n",
       " {'2_woman': '2', 'max_ll': -6626.181686087292},\n",
       " {'2_woman': '2', 'max_ll': -5792.276494505014},\n",
       " {'3_woman': '3', 'max_ll': -6992.298897159643},\n",
       " {'3_woman': '3', 'max_ll': -6784.213631678191},\n",
       " {'4_woman': '4', 'max_ll': -6815.61526493424},\n",
       " {'4_woman': '4', 'max_ll': -6850.672949159999},\n",
       " {'5_woman': '5', 'max_ll': -8115.662728472964},\n",
       " {'5_woman': '5', 'max_ll': -7772.817188791683},\n",
       " {'6_woman': '6', 'max_ll': -9188.10385825637},\n",
       " {'6_woman': '6', 'max_ll': -9925.381317219517},\n",
       " {'7_woman': '7', 'max_ll': -8283.180603310258},\n",
       " {'7_woman': '7', 'max_ll': -8103.909869146928},\n",
       " {'8_woman': '8', 'max_ll': -6272.304882768235},\n",
       " {'8_woman': '8', 'max_ll': -7096.8885652605895},\n",
       " {'9_woman': '9', 'max_ll': -7372.136155896256},\n",
       " {'9_woman': '9', 'max_ll': -6848.342535742769}]"
      ]
     },
     "execution_count": 93,
     "metadata": {},
     "output_type": "execute_result"
    }
   ],
   "source": [
    "max_likelihoods"
   ]
  },
  {
   "cell_type": "markdown",
   "metadata": {},
   "source": [
    "## c) Backward Algorithm"
   ]
  },
  {
   "cell_type": "code",
   "execution_count": 94,
   "metadata": {},
   "outputs": [],
   "source": [
    "def backward(log_emlik, log_startprob, log_transmat, loglik = False):\n",
    "    \"\"\"Backward (beta) probabilities in log domain.\n",
    "\n",
    "    Args:\n",
    "        log_emlik: NxM array of emission log likelihoods, N frames, M states\n",
    "        log_startprob: log probability to start in state i\n",
    "        log_transmat: transition log probability from state i to j\n",
    "\n",
    "    Output:\n",
    "        backward_prob: NxM array of backward log probabilities for each of the M states in the model\n",
    "    \"\"\"\n",
    "    log_startprob = log_startprob[:-1]\n",
    "    log_transmat = log_transmat[:-1,:-1]\n",
    "\n",
    "    N, M = log_emlik.shape\n",
    "    backward_prob = np.zeros((N,M))\n",
    "    #backward_prob[-1,:] = 1\n",
    "    for n in range(N-2,-1,-1):\n",
    "        for i in range(M): \n",
    "            backward_prob[n,i] = logsumexp(backward_prob[n+1,:] + log_transmat[i,:] + log_emlik[n+1,:])\n",
    "    if loglik:\n",
    "        obs_seq_log_lik = logsumexp(backward_prob[0,:] + log_startprob + obsloglik[0,:])\n",
    "        return backward_prob, obs_seq_log_lik\n",
    "    return backward_prob   "
   ]
  },
  {
   "cell_type": "code",
   "execution_count": 95,
   "metadata": {},
   "outputs": [
    {
     "name": "stdout",
     "output_type": "stream",
     "text": [
      "*Backward algorithm is implemented correctly: True\n",
      "*The log likelihood from the backward probabilities(Beta matrix) is calculated correctly: True\n"
     ]
    }
   ],
   "source": [
    "backward_prob, loglik = backward(obsloglik, log_startprob, log_transmat,True)\n",
    "print(\"*Backward algorithm is implemented correctly:\",np.allclose(backward_prob, logbeta_ex))\n",
    "print(\"*The log likelihood from the backward probabilities(Beta matrix) is calculated correctly:\", np.allclose(loglik_ex, loglik))\n"
   ]
  },
  {
   "cell_type": "markdown",
   "metadata": {},
   "source": [
    "# 6) HMM Retraining"
   ]
  },
  {
   "cell_type": "markdown",
   "metadata": {},
   "source": [
    "$\\gamma_n(i)= P(z_n = s_i|X,\\theta)$ where $X$ is the observations sequence and $z_n$ the $n_{th}$ hidden state. As we show below if we sum over $i$ we should get 1, this correspond to summing the colums of the exponential of log_gamma. We show below that this holds."
   ]
  },
  {
   "cell_type": "code",
   "execution_count": 96,
   "metadata": {},
   "outputs": [],
   "source": [
    "def statePosteriors(log_alpha, log_beta):\n",
    "    \"\"\"State posterior (gamma) probabilities in log domain.\n",
    "\n",
    "    Args:\n",
    "        log_alpha: NxM array of log forward (alpha) probabilities\n",
    "        log_beta: NxM array of log backward (beta) probabilities\n",
    "    where N is the number of frames, and M the number of states\n",
    "\n",
    "    Output:\n",
    "        log_gamma: NxM array of gamma probabilities for each of the M states in the model\n",
    "    \"\"\"\n",
    "    return log_alpha + log_beta - logsumexp(log_alpha[-1,:])\n",
    "\n"
   ]
  },
  {
   "cell_type": "code",
   "execution_count": 97,
   "metadata": {
    "scrolled": true
   },
   "outputs": [
    {
     "name": "stdout",
     "output_type": "stream",
     "text": [
      "State posteriors are computed correctly for the example True\n",
      "Sums of all rows over the colums of log_gama are all 1: True\n"
     ]
    },
    {
     "data": {
      "image/png": "[encoded data removed]",
      "text/plain": [
       "<matplotlib.figure.Figure at 0x7f4481d9f470>"
      ]
     },
     "metadata": {
      "needs_background": "light"
     },
     "output_type": "display_data"
    }
   ],
   "source": [
    "X = example['lmfcc']\n",
    "\n",
    "# Prerequisite for log_gamma\n",
    "hmm_model = wordHMMs['o']\n",
    "obs_ll= log_multivariate_normal_density_diag(X, hmm_model['means'],hmm_model['covars'])\n",
    "log_startprob_tmp = np.log(hmm_model['startprob'])\n",
    "log_transmat_tmp = np.log(hmm_model['transmat'])\n",
    "log_alpha, ll_ = forward(obs_ll, log_startprob_tmp, log_transmat_tmp,True)\n",
    "log_beta = backward(obs_ll, log_startprob_tmp, log_transmat_tmp)\n",
    "\n",
    "\n",
    "\n",
    "# Calculate log_gamma\n",
    "log_gamma = statePosteriors(log_alpha, log_beta)\n",
    "\n",
    "print(\"State posteriors are computed correctly for the example\", np.allclose(loggamma_ex, log_gamma))\n",
    "print(\"Sums of all rows over the colums of log_gama are all 1:\", np.allclose(np.sum(np.exp(log_gamma),1),1.0))\n",
    "\n",
    "plt.imshow(log_gamma.T, interpolation='nearest', aspect='auto')\n",
    "plt.title(\"log gamma HMM \")\n",
    "plt.show()"
   ]
  },
  {
   "cell_type": "code",
   "execution_count": 98,
   "metadata": {},
   "outputs": [],
   "source": [
    "def gmmloglik(log_emlik, weights):\n",
    "    \"\"\"Log Likelihood for a GMM model based on Multivariate Normal Distribution.\n",
    "\n",
    "    Args:\n",
    "        log_emlik: array like, shape (N, K).\n",
    "            contains the log likelihoods for each of N observations and\n",
    "            each of K distributions\n",
    "        weights:   weight vector for the K components in the mixture\n",
    "\n",
    "    Output:\n",
    "        gmmloglik: scalar, log likelihood of data given the GMM model.\n",
    "    \"\"\""
   ]
  },
  {
   "cell_type": "markdown",
   "metadata": {},
   "source": [
    "$\\gamma^{GMM}_n(i)= P(z_n = s_i|x_n,\\phi)$ is the state posterior using the GMM model.\n",
    "\n",
    "The main difference between the GMM state posteriors and the HMM state posteriors is that for the GMM the observed frames are considered seperately to calculate the posterior whereas for the state posteriors of the HMM the whole observation sequence(all frames) are considered. That is the reason too, why we excpect that HMM will deliver better state posteriors for a given observation sequence."
   ]
  },
  {
   "cell_type": "code",
   "execution_count": 99,
   "metadata": {},
   "outputs": [
    {
     "data": {
      "image/png": "[encoded data removed]",
      "text/plain": [
       "<matplotlib.figure.Figure at 0x7f4481d88d30>"
      ]
     },
     "metadata": {
      "needs_background": "light"
     },
     "output_type": "display_data"
    }
   ],
   "source": [
    "X = example['lmfcc']\n",
    "\n",
    "# First iteration\n",
    "hmm_model = wordHMMs['o']\n",
    "# obs_ll is [N,M] where N are the time steps and M the hidden states of the HMM\n",
    "obs_ll= log_multivariate_normal_density_diag(X, hmm_model['means'],hmm_model['covars'])\n",
    "\n",
    "gamma_gmm = obs_ll/obs_ll.sum(1)[:,np.newaxis]\n",
    "\n",
    "plt.imshow(np.log(gamma_gmm).T, interpolation='nearest', aspect='auto')\n",
    "#plt.imshow(gamma_gmm.T, interpolation='nearest', aspect='auto')\n",
    "plt.title(\"log gamma GMM\")\n",
    "plt.show()"
   ]
  },
  {
   "cell_type": "markdown",
   "metadata": {},
   "source": [
    "## Training"
   ]
  },
  {
   "cell_type": "code",
   "execution_count": 100,
   "metadata": {},
   "outputs": [],
   "source": [
    "def updateMeanAndVar(X, log_gamma, varianceFloor=5.0):\n",
    "    \"\"\" Update Gaussian parameters with diagonal covariance\n",
    "\n",
    "    Args:\n",
    "         X: NxD array of feature vectors\n",
    "         log_gamma: NxM state posterior probabilities in log domain\n",
    "         varianceFloor: minimum allowed variance scalar\n",
    "    were N is the lenght of the observation sequence, D is the\n",
    "    dimensionality of the feature vectors and M is the number of\n",
    "    states in the model\n",
    "\n",
    "    Outputs:\n",
    "         means: MxD mean vectors for each state\n",
    "         covars: MxD covariance (variance) vectors for each state\n",
    "    \"\"\"\n",
    "    D = X.shape[1]\n",
    "    N, M = log_gamma.shape\n",
    "    means = np.zeros((M, D))\n",
    "    covars = np.zeros((M, D))\n",
    "    \n",
    "    gamma = np.exp(log_gamma)\n",
    "\n",
    "    means = gamma.T[:,:,np.newaxis]*X[np.newaxis,:,:] # NxMxD\n",
    "    means = means .sum(1)\n",
    "    means = means/ gamma.sum(0).T[:,np.newaxis]\n",
    "    \n",
    "    X_mu = X[:,np.newaxis,:]-means[np.newaxis,:,:]# NxMxD\n",
    "    X_mu_2 = X_mu *X_mu\n",
    "    covars = (X_mu_2*gamma[:,:,np.newaxis]).sum(0)/ gamma.sum(0).T[:,np.newaxis]\n",
    "    covars[covars < varianceFloor] = varianceFloor\n",
    "    return means,covars\n",
    "\n"
   ]
  },
  {
   "cell_type": "markdown",
   "metadata": {},
   "source": [
    "### Training of HMM  for uterance '4' starting for HMM model for '4'\n",
    "As we observe below the convergence occures in only 13 iterations."
   ]
  },
  {
   "cell_type": "code",
   "execution_count": 101,
   "metadata": {
    "scrolled": false
   },
   "outputs": [
    {
     "name": "stdout",
     "output_type": "stream",
     "text": [
      "iteration 1: -7227.865033718987\n",
      "iteration 2: -6438.012326767756\n",
      "iteration 3: -6115.4226248548985\n",
      "iteration 4: -6019.760911159053\n",
      "iteration 5: -5962.906021818365\n",
      "iteration 6: -5935.888680743657\n",
      "iteration 7: -5916.958837788634\n",
      "iteration 8: -5912.712690482596\n",
      "iteration 9: -5903.190104657994\n",
      "iteration 10: -5901.98328508341\n",
      "iteration 11: -5900.771538162837\n",
      "iteration 12: -5900.392617528682\n",
      "iteration 13: -5900.390225751181\n",
      "CONVERGED!\n"
     ]
    }
   ],
   "source": [
    "X = data[10]['lmfcc']\n",
    "\n",
    "# First iteration\n",
    "hmm_model = wordHMMs['4']\n",
    "obs_ll= log_multivariate_normal_density_diag(X, \n",
    "                                             hmm_model['means'], \n",
    "                                             hmm_model['covars'])\n",
    "log_startprob_tmp = np.log(hmm_model['startprob'])\n",
    "log_transmat_tmp = np.log(hmm_model['transmat'])\n",
    "log_alpha, ll_ = forward(obs_ll, log_startprob_tmp, log_transmat_tmp,True)\n",
    "log_beta = backward(obs_ll, log_startprob_tmp, log_transmat_tmp)\n",
    "log_gamma = statePosteriors(log_alpha, log_beta)\n",
    "\n",
    "means,covars = updateMeanAndVar(X, log_gamma)\n",
    "\n",
    "ll = 0\n",
    "for i in range(1,20):\n",
    "    obs_ll= log_multivariate_normal_density_diag(X, means, covars)\n",
    "\n",
    "    print(\"iteration \"+str(i)+\":\",ll_)\n",
    "    if np.allclose(ll, ll_):\n",
    "        print(\"CONVERGED!\")\n",
    "        break\n",
    "    ll = ll_\n",
    "    # expectation\n",
    "    log_alpha, ll_ = forward(obs_ll, log_startprob_tmp, log_transmat_tmp,True)\n",
    "    log_beta = backward(obs_ll, log_startprob_tmp, log_transmat_tmp)\n",
    "    log_gamma = statePosteriors(log_alpha, log_beta)\n",
    "    \n",
    "    # maximization\n",
    "    means,covars = updateMeanAndVar(X, log_gamma,1)\n"
   ]
  },
  {
   "cell_type": "markdown",
   "metadata": {},
   "source": [
    "### Training of HMM  for uterance '4' starting for HMM model for '1'"
   ]
  },
  {
   "cell_type": "code",
   "execution_count": 102,
   "metadata": {
    "scrolled": false
   },
   "outputs": [
    {
     "name": "stdout",
     "output_type": "stream",
     "text": [
      "iteration 1: -7565.191151286106\n",
      "iteration 2: -6232.208306466498\n",
      "iteration 3: -6034.418894541493\n",
      "iteration 4: -6022.378395517052\n",
      "iteration 5: -6015.23666765336\n",
      "iteration 6: -6012.168799391056\n",
      "iteration 7: -5998.367904330801\n",
      "iteration 8: -5988.532386195701\n",
      "iteration 9: -5983.966068276879\n",
      "iteration 10: -5981.507132336638\n",
      "iteration 11: -5981.358637263235\n",
      "iteration 12: -5978.83920006543\n",
      "iteration 13: -5958.2805382200595\n",
      "iteration 14: -5947.463460637393\n",
      "iteration 15: -5935.985654009085\n",
      "iteration 16: -5934.722136761179\n",
      "iteration 17: -5934.7169930779\n",
      "CONVERGED!\n"
     ]
    }
   ],
   "source": [
    "X = data[10]['lmfcc']\n",
    "\n",
    "# First iteration\n",
    "hmm_model = wordHMMs['1']\n",
    "obs_ll= log_multivariate_normal_density_diag(X, \n",
    "                                             hmm_model['means'], \n",
    "                                             hmm_model['covars'])\n",
    "log_startprob_tmp = np.log(hmm_model['startprob'])\n",
    "log_transmat_tmp = np.log(hmm_model['transmat'])\n",
    "log_alpha, ll_ = forward(obs_ll, log_startprob_tmp, log_transmat_tmp,True)\n",
    "log_beta = backward(obs_ll, log_startprob_tmp, log_transmat_tmp)\n",
    "log_gamma = statePosteriors(log_alpha, log_beta)\n",
    "\n",
    "means,covars = updateMeanAndVar(X, log_gamma)\n",
    "\n",
    "ll = 0\n",
    "for i in range(1,20):\n",
    "    obs_ll= log_multivariate_normal_density_diag(X, means, covars)\n",
    "\n",
    "    print(\"iteration \"+str(i)+\":\",ll_)\n",
    "    if np.allclose(ll, ll_):\n",
    "        print(\"CONVERGED!\")\n",
    "        break\n",
    "    ll = ll_\n",
    "    # expectation\n",
    "    log_alpha, ll_ = forward(obs_ll, log_startprob_tmp, log_transmat_tmp,True)\n",
    "    log_beta = backward(obs_ll, log_startprob_tmp, log_transmat_tmp)\n",
    "    log_gamma = statePosteriors(log_alpha, log_beta)\n",
    "    \n",
    "    # maximization\n",
    "    means,covars = updateMeanAndVar(X, log_gamma,1)\n"
   ]
  },
  {
   "cell_type": "code",
   "execution_count": null,
   "metadata": {},
   "outputs": [],
   "source": []
  }
 ],
 "metadata": {
  "kernelspec": {
   "display_name": "Python 3",
   "language": "python",
   "name": "python3"
  },
  "language_info": {
   "codemirror_mode": {
    "name": "ipython",
    "version": 3
   },
   "file_extension": ".py",
   "mimetype": "text/x-python",
   "name": "python",
   "nbconvert_exporter": "python",
   "pygments_lexer": "ipython3",
   "version": "3.6.9"
  }
 },
 "nbformat": 4,
 "nbformat_minor": 4
}
